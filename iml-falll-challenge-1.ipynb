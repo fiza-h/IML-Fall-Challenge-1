{
 "cells": [
  {
   "cell_type": "code",
   "execution_count": 1,
   "id": "1ac9e479",
   "metadata": {
    "_cell_guid": "8ead88fa-f605-4ecf-9275-93cf65a45696",
    "_uuid": "9d2796c9-d129-4fbc-846e-19be737dd770",
    "collapsed": false,
    "execution": {
     "iopub.execute_input": "2024-11-09T04:54:30.800821Z",
     "iopub.status.busy": "2024-11-09T04:54:30.800423Z",
     "iopub.status.idle": "2024-11-09T04:54:30.812005Z",
     "shell.execute_reply": "2024-11-09T04:54:30.811157Z"
    },
    "jupyter": {
     "outputs_hidden": false
    },
    "papermill": {
     "duration": 0.026113,
     "end_time": "2024-11-09T04:54:30.814089",
     "exception": false,
     "start_time": "2024-11-09T04:54:30.787976",
     "status": "completed"
    },
    "tags": []
   },
   "outputs": [],
   "source": [
    "# # %% [code] {\"execution\":{\"iopub.status.busy\":\"2024-11-08T15:30:33.966328Z\",\"iopub.execute_input\":\"2024-11-08T15:30:33.966817Z\",\"iopub.status.idle\":\"2024-11-08T15:30:33.975326Z\",\"shell.execute_reply.started\":\"2024-11-08T15:30:33.966772Z\",\"shell.execute_reply\":\"2024-11-08T15:30:33.973845Z\"},\"jupyter\":{\"outputs_hidden\":false}}\n",
    "# import pandas as pd\n",
    "# import numpy as np\n",
    "# from sklearn.feature_selection import VarianceThreshold, SelectKBest, f_classif\n",
    "# from sklearn.model_selection import train_test_split\n",
    "# from xgboost import XGBClassifier\n",
    "# from sklearn.metrics import classification_report, accuracy_score, confusion_matrix, roc_auc_score, roc_curve\n",
    "# import matplotlib.pyplot as plt\n",
    "# from sklearn.pipeline import Pipeline\n",
    "\n",
    "# # %% [code] {\"execution\":{\"iopub.status.busy\":\"2024-11-08T15:30:33.978000Z\",\"iopub.execute_input\":\"2024-11-08T15:30:33.978637Z\",\"iopub.status.idle\":\"2024-11-08T15:30:37.609880Z\",\"shell.execute_reply.started\":\"2024-11-08T15:30:33.978576Z\",\"shell.execute_reply\":\"2024-11-08T15:30:37.608747Z\"},\"jupyter\":{\"outputs_hidden\":false}}\n",
    "# # Load your dataset\n",
    "# # Assuming your data is in a pandas dataframe called 'df'\n",
    "# # 'target' is the column with the disease classification (1 or 0)\n",
    "# df = pd.read_csv('/kaggle/input/imlcomp1/train_set.csv')\n",
    "# X = df.drop('Y', axis=1)\n",
    "# y = df['Y']\n",
    "\n",
    "# # %% [code] {\"execution\":{\"iopub.status.busy\":\"2024-11-08T15:30:37.611897Z\",\"iopub.execute_input\":\"2024-11-08T15:30:37.612260Z\",\"iopub.status.idle\":\"2024-11-08T15:30:37.679913Z\",\"shell.execute_reply.started\":\"2024-11-08T15:30:37.612222Z\",\"shell.execute_reply\":\"2024-11-08T15:30:37.678727Z\"},\"jupyter\":{\"outputs_hidden\":false}}\n",
    "# X\n",
    "\n",
    "# # %% [code] {\"execution\":{\"iopub.status.busy\":\"2024-11-08T15:30:37.681433Z\",\"iopub.execute_input\":\"2024-11-08T15:30:37.681937Z\",\"iopub.status.idle\":\"2024-11-08T15:30:37.692354Z\",\"shell.execute_reply.started\":\"2024-11-08T15:30:37.681875Z\",\"shell.execute_reply\":\"2024-11-08T15:30:37.691033Z\"},\"jupyter\":{\"outputs_hidden\":false}}\n",
    "# y\n",
    "\n",
    "# # %% [code] {\"execution\":{\"iopub.status.busy\":\"2024-11-08T15:30:37.695085Z\",\"iopub.execute_input\":\"2024-11-08T15:30:37.695503Z\",\"iopub.status.idle\":\"2024-11-08T15:30:38.226956Z\",\"shell.execute_reply.started\":\"2024-11-08T15:30:37.695459Z\",\"shell.execute_reply\":\"2024-11-08T15:30:38.225877Z\"},\"jupyter\":{\"outputs_hidden\":false}}\n",
    "# dfX_filled = X.fillna(X.mean())\n",
    "# dfY_filled = y.fillna(y.mean())\n",
    "# df_filled = df.fillna(df.mean())\n",
    "\n",
    "# # %% [code] {\"execution\":{\"iopub.status.busy\":\"2024-11-08T15:30:38.228904Z\",\"iopub.execute_input\":\"2024-11-08T15:30:38.229379Z\",\"iopub.status.idle\":\"2024-11-08T15:30:38.238308Z\",\"shell.execute_reply.started\":\"2024-11-08T15:30:38.229335Z\",\"shell.execute_reply\":\"2024-11-08T15:30:38.237208Z\"},\"jupyter\":{\"outputs_hidden\":false}}\n",
    "# # Calculate the number of true positives and true negatives\n",
    "# true_positive_count = (df_filled['Y'] == 1).sum()  # Count of true positives\n",
    "# true_negative_count = (df_filled['Y'] == 0).sum()  # Count of true negatives\n",
    "\n",
    "# # Display the results\n",
    "# print(f\"True Positive Count: {true_positive_count}\")\n",
    "# print(f\"True Negative Count: {true_negative_count}\")\n",
    "\n",
    "# # %% [code] {\"execution\":{\"iopub.status.busy\":\"2024-11-08T15:30:38.239839Z\",\"iopub.execute_input\":\"2024-11-08T15:30:38.240190Z\",\"iopub.status.idle\":\"2024-11-08T15:30:39.801446Z\",\"shell.execute_reply.started\":\"2024-11-08T15:30:38.240152Z\",\"shell.execute_reply\":\"2024-11-08T15:30:39.800270Z\"},\"jupyter\":{\"outputs_hidden\":false}}\n",
    "# # Separate the positive and negative instances\n",
    "# df_positive = df_filled[df_filled['Y'] == 1]\n",
    "# df_negative = df_filled[df_filled['Y'] == 0]\n",
    "\n",
    "# # Calculate how many more positive instances are needed\n",
    "# needed_positive_count = true_negative_count - true_positive_count\n",
    "\n",
    "# # Upscale positive instances by sampling with replacement\n",
    "# if needed_positive_count > 0:\n",
    "#     df_positive_upscaled = df_positive.sample(n=needed_positive_count, replace=True, random_state=42)\n",
    "# else:\n",
    "#     df_positive_upscaled = pd.DataFrame()  # No upscaling needed if positive count is already equal to or greater\n",
    "\n",
    "# # Combine the original positive instances with the upscaled ones\n",
    "# df_balanced = pd.concat([df_positive, df_positive_upscaled, df_negative])\n",
    "\n",
    "# # Shuffle the resulting DataFrame (optional)\n",
    "# df_balanced = df_balanced.sample(frac=1, random_state=42).reset_index(drop=True)\n",
    "\n",
    "# # Display the balanced DataFrame\n",
    "# print(\"Balanced DataFrame:\")\n",
    "# print(df_balanced)\n",
    "# print(f\"New Positive Count: {(df_balanced['Y'] == 1).sum()}\")\n",
    "# print(f\"New Negative Count: {(df_balanced['Y'] == 0).sum()}\")\n",
    "\n",
    "# # %% [code] {\"execution\":{\"iopub.status.busy\":\"2024-11-08T15:30:39.803078Z\",\"iopub.execute_input\":\"2024-11-08T15:30:39.803480Z\",\"iopub.status.idle\":\"2024-11-08T15:30:39.810115Z\",\"shell.execute_reply.started\":\"2024-11-08T15:30:39.803426Z\",\"shell.execute_reply\":\"2024-11-08T15:30:39.808828Z\"},\"jupyter\":{\"outputs_hidden\":false}}\n",
    "# df = df_balanced\n",
    "\n",
    "# # %% [code] {\"execution\":{\"iopub.status.busy\":\"2024-11-08T15:30:39.811702Z\",\"iopub.execute_input\":\"2024-11-08T15:30:39.812130Z\",\"iopub.status.idle\":\"2024-11-08T15:30:39.917753Z\",\"shell.execute_reply.started\":\"2024-11-08T15:30:39.812086Z\",\"shell.execute_reply\":\"2024-11-08T15:30:39.916482Z\"},\"jupyter\":{\"outputs_hidden\":false}}\n",
    "# X = df.drop('Y', axis=1)\n",
    "# y = df['Y']\n",
    "\n",
    "# # %% [code] {\"execution\":{\"iopub.status.busy\":\"2024-11-08T15:30:39.919955Z\",\"iopub.execute_input\":\"2024-11-08T15:30:39.920367Z\",\"iopub.status.idle\":\"2024-11-08T15:30:40.358803Z\",\"shell.execute_reply.started\":\"2024-11-08T15:30:39.920324Z\",\"shell.execute_reply\":\"2024-11-08T15:30:40.357534Z\"},\"jupyter\":{\"outputs_hidden\":false}}\n",
    "# # Split the data\n",
    "# X_train, X_test, y_train, y_test = train_test_split(X, y, test_size=0.3, random_state=42)\n",
    "\n",
    "# # %% [code] {\"execution\":{\"iopub.status.busy\":\"2024-11-08T15:30:40.363147Z\",\"iopub.execute_input\":\"2024-11-08T15:30:40.363582Z\",\"iopub.status.idle\":\"2024-11-08T15:30:40.370549Z\",\"shell.execute_reply.started\":\"2024-11-08T15:30:40.363517Z\",\"shell.execute_reply\":\"2024-11-08T15:30:40.369251Z\"},\"jupyter\":{\"outputs_hidden\":false}}\n",
    "# pipeline = Pipeline([\n",
    "#     ('var_thresh', VarianceThreshold(threshold=0.1)),  # Remove features with low variance\n",
    "#     ('k_best', SelectKBest(score_func=f_classif, k=20)),  # Select top 20 features\n",
    "#     ('xgb', XGBClassifier(n_estimators=100, learning_rate=0.1, max_depth=5, random_state=42))\n",
    "# ])\n",
    "\n",
    "# # %% [code] {\"execution\":{\"iopub.status.busy\":\"2024-11-08T15:30:40.372494Z\",\"iopub.execute_input\":\"2024-11-08T15:30:40.372981Z\",\"iopub.status.idle\":\"2024-11-08T15:30:44.543882Z\",\"shell.execute_reply.started\":\"2024-11-08T15:30:40.372934Z\",\"shell.execute_reply\":\"2024-11-08T15:30:44.542778Z\"},\"jupyter\":{\"outputs_hidden\":false}}\n",
    "# pipeline.fit(X_train, y_train)\n",
    "\n",
    "# # %% [code] {\"execution\":{\"iopub.status.busy\":\"2024-11-08T15:30:44.545652Z\",\"iopub.execute_input\":\"2024-11-08T15:30:44.546626Z\",\"iopub.status.idle\":\"2024-11-08T15:30:44.939005Z\",\"shell.execute_reply.started\":\"2024-11-08T15:30:44.546571Z\",\"shell.execute_reply\":\"2024-11-08T15:30:44.937978Z\"},\"jupyter\":{\"outputs_hidden\":false}}\n",
    "# # Make predictions\n",
    "# y_pred = pipeline.predict(X_test)\n",
    "# y_pred_proba = pipeline.predict_proba(X_test)[:, 1]  # Probability estimates for ROC-AUC\n",
    "\n",
    "# # %% [code] {\"execution\":{\"iopub.status.busy\":\"2024-11-08T15:30:44.940656Z\",\"iopub.execute_input\":\"2024-11-08T15:30:44.941416Z\",\"iopub.status.idle\":\"2024-11-08T15:30:45.616231Z\",\"shell.execute_reply.started\":\"2024-11-08T15:30:44.941372Z\",\"shell.execute_reply\":\"2024-11-08T15:30:45.615045Z\"},\"jupyter\":{\"outputs_hidden\":false}}\n",
    "# # Evaluate the model\n",
    "# print(\"Accuracy:\", accuracy_score(y_test, y_pred))\n",
    "# print(\"Confusion Matrix:\")\n",
    "# print(confusion_matrix(y_test, y_pred))\n",
    "# print(classification_report(y_test, y_pred))\n",
    "\n",
    "# # Calculate AUC of ROC\n",
    "# roc_auc = roc_auc_score(y_test, y_pred_proba)\n",
    "# print(\"AUC of ROC:\", roc_auc)\n",
    "\n",
    "# # Plot ROC curve\n",
    "# fpr, tpr, _ = roc_curve(y_test, y_pred_proba)\n",
    "# plt.figure()\n",
    "# plt.plot(fpr, tpr, color='blue', label='ROC curve (AUC = %0.2f)' % roc_auc)\n",
    "# plt.plot([0, 1], [0, 1], color='grey', linestyle='--')\n",
    "# plt.xlabel('False Positive Rate')\n",
    "# plt.ylabel('True Positive Rate')\n",
    "# plt.title('Receiver Operating Characteristic (ROC) Curve')\n",
    "# plt.legend(loc=\"lower right\")\n",
    "# plt.show()\n",
    "\n",
    "# # %% [code] {\"execution\":{\"iopub.status.busy\":\"2024-11-08T15:30:45.617904Z\",\"iopub.execute_input\":\"2024-11-08T15:30:45.618385Z\",\"iopub.status.idle\":\"2024-11-08T15:30:47.181973Z\",\"shell.execute_reply.started\":\"2024-11-08T15:30:45.618333Z\",\"shell.execute_reply\":\"2024-11-08T15:30:47.180861Z\"},\"jupyter\":{\"outputs_hidden\":false}}\n",
    "# df_test = pd.read_csv('/kaggle/input/imlcomp1/test_set.csv')\n",
    "\n",
    "# # %% [code] {\"execution\":{\"iopub.status.busy\":\"2024-11-08T15:30:47.183778Z\",\"iopub.execute_input\":\"2024-11-08T15:30:47.184190Z\",\"iopub.status.idle\":\"2024-11-08T15:30:47.291281Z\",\"shell.execute_reply.started\":\"2024-11-08T15:30:47.184147Z\",\"shell.execute_reply\":\"2024-11-08T15:30:47.290096Z\"},\"jupyter\":{\"outputs_hidden\":false}}\n",
    "# df_test_filled = df_test.fillna(df_test.mean())\n",
    "\n",
    "# # %% [code] {\"execution\":{\"iopub.status.busy\":\"2024-11-08T15:30:47.292708Z\",\"iopub.execute_input\":\"2024-11-08T15:30:47.293096Z\",\"iopub.status.idle\":\"2024-11-08T15:30:47.690109Z\",\"shell.execute_reply.started\":\"2024-11-08T15:30:47.293055Z\",\"shell.execute_reply\":\"2024-11-08T15:30:47.689051Z\"},\"jupyter\":{\"outputs_hidden\":false}}\n",
    "# # Make predictions\n",
    "# y_pred = pipeline.predict(df_test_filled)\n",
    "# y_pred_proba = pipeline.predict_proba(df_test_filled)[:, 1]  # Probability estimates for ROC-AUC\n",
    "\n",
    "# # %% [code] {\"execution\":{\"iopub.status.busy\":\"2024-11-08T15:30:47.691865Z\",\"iopub.execute_input\":\"2024-11-08T15:30:47.692403Z\",\"iopub.status.idle\":\"2024-11-08T15:30:47.891270Z\",\"shell.execute_reply.started\":\"2024-11-08T15:30:47.692339Z\",\"shell.execute_reply\":\"2024-11-08T15:30:47.889906Z\"},\"jupyter\":{\"outputs_hidden\":false}}\n",
    "# # Save the test predictions (if needed)\n",
    "# df_test_filled['Y'] = y_pred\n",
    "# df_test_filled[['RecordId', 'Y']].to_csv('test_predictions.csv', index=False)\n",
    "\n",
    "# print(\"Predictions made on the test set and saved to 'test_predictions.csv'.\")\n",
    "\n",
    "# # %% [code] {\"execution\":{\"iopub.status.busy\":\"2024-11-08T15:30:47.892799Z\",\"iopub.execute_input\":\"2024-11-08T15:30:47.893274Z\",\"iopub.status.idle\":\"2024-11-08T15:30:47.899984Z\",\"shell.execute_reply.started\":\"2024-11-08T15:30:47.893221Z\",\"shell.execute_reply\":\"2024-11-08T15:30:47.898703Z\"},\"jupyter\":{\"outputs_hidden\":false}}\n",
    "# print(\"done\")"
   ]
  },
  {
   "cell_type": "code",
   "execution_count": 2,
   "id": "0053f625",
   "metadata": {
    "_cell_guid": "fac2e899-ff45-43e5-86a5-32a686356627",
    "_uuid": "9544216a-a9b5-4485-be7c-0908750d84aa",
    "collapsed": false,
    "execution": {
     "iopub.execute_input": "2024-11-09T04:54:30.834631Z",
     "iopub.status.busy": "2024-11-09T04:54:30.834363Z",
     "iopub.status.idle": "2024-11-09T04:54:40.951525Z",
     "shell.execute_reply": "2024-11-09T04:54:40.950724Z"
    },
    "jupyter": {
     "outputs_hidden": false
    },
    "papermill": {
     "duration": 10.129455,
     "end_time": "2024-11-09T04:54:40.953906",
     "exception": false,
     "start_time": "2024-11-09T04:54:30.824451",
     "status": "completed"
    },
    "tags": []
   },
   "outputs": [
    {
     "name": "stdout",
     "output_type": "stream",
     "text": [
      "Training set\n",
      "   RecordId         X2         X3  X4  X5  X6          X7  X8   X9  X10  ...  \\\n",
      "0         1  87.000000  34.118411   0   2   0  165.100000   1  829    2  ...   \n",
      "1         2  82.372284  31.573280   0   0   1  162.983897   1  724    0  ...   \n",
      "2         3  50.000000  27.771653   0   0   1  165.100000   1  895    2  ...   \n",
      "3         4  66.236109  26.515922   0   0   1  167.009549   1  637    0  ...   \n",
      "4         5  81.303299  20.843691   0   0   1  158.165419   0  564    0  ...   \n",
      "\n",
      "        X70  X71  X72  X73  X74  X75  X76  X77  X78  Y  \n",
      "0  0.040000  0.0  0.0  0.0  0.0  0.0  0.0  0.0  0.0  0  \n",
      "1  0.033431  0.0  0.0  0.0  0.0  0.0  0.0  0.0  0.0  0  \n",
      "2  0.010000  0.0  0.0  0.0  0.0  0.0  0.0  0.0  0.0  0  \n",
      "3  0.039363  0.0  0.0  0.0  0.0  0.0  0.0  0.0  0.0  0  \n",
      "4  0.069242  0.0  0.0  0.0  0.0  0.0  0.0  0.0  0.0  0  \n",
      "\n",
      "[5 rows x 79 columns]\n",
      "test set\n",
      "   RecordId         X2         X3  X4  X5  X6          X7  X8   X9  X10  ...  \\\n",
      "0    300001  79.000000  17.122318   0   0   1  170.200000   1  700    0  ...   \n",
      "1    300002  38.000000  43.693579   0   0   1  165.100000   1  814    0  ...   \n",
      "2    300003  36.064225  23.998944   0   0   1  167.086735   1  662    0  ...   \n",
      "3    300004  61.846764  31.693449   0   3   1  182.355708   2  862    0  ...   \n",
      "4    300005  71.591991  20.086147   1   0   1  166.704917   2  335    0  ...   \n",
      "\n",
      "        X69       X70  X71  X72  X73  X74  X75  X76  X77  X78  \n",
      "0  0.070000  0.030000  0.0  0.0  0.0  0.0  0.0  0.0  0.0  0.0  \n",
      "1  0.050000  0.040000  0.0  0.0  0.0  0.0  0.0  0.0  0.0  0.0  \n",
      "2  0.006948  0.006948  0.0  0.0  0.0  0.0  0.0  0.0  0.0  0.0  \n",
      "3  0.062613  0.033153  0.0  0.0  0.0  0.0  0.0  0.0  0.0  0.0  \n",
      "4  0.014854  0.004854  0.0  0.0  0.0  0.0  0.0  0.0  0.0  0.0  \n",
      "\n",
      "[5 rows x 78 columns]\n"
     ]
    }
   ],
   "source": [
    "import pandas as p\n",
    "print(\"Training set\")\n",
    "train_df = p.read_csv('/kaggle/input/imlcomp1/train_set.csv')\n",
    "test_df = p.read_csv('/kaggle/input/imlcomp1/test_set.csv')\n",
    "print(train_df.head())\n",
    "print(\"test set\")\n",
    "print(test_df.head())\n",
    "from sklearn.impute import KNNImputer"
   ]
  },
  {
   "cell_type": "code",
   "execution_count": 3,
   "id": "d64b3488",
   "metadata": {
    "_cell_guid": "5c488967-23d5-4d14-af19-9eb353b24ccb",
    "_uuid": "52156b26-c9c2-49a4-bf09-58e8a6d378cb",
    "collapsed": false,
    "execution": {
     "iopub.execute_input": "2024-11-09T04:54:40.973810Z",
     "iopub.status.busy": "2024-11-09T04:54:40.973346Z",
     "iopub.status.idle": "2024-11-09T05:03:39.075304Z",
     "shell.execute_reply": "2024-11-09T05:03:39.074470Z"
    },
    "jupyter": {
     "outputs_hidden": false
    },
    "papermill": {
     "duration": 538.114615,
     "end_time": "2024-11-09T05:03:39.077860",
     "exception": false,
     "start_time": "2024-11-09T04:54:40.963245",
     "status": "completed"
    },
    "tags": []
   },
   "outputs": [],
   "source": [
    "imputer = KNNImputer(n_neighbors=25)\n",
    "train_df.loc[:, train_df.columns != 'Y'] = imputer.fit_transform(train_df.loc[:, train_df.columns != 'Y'])"
   ]
  },
  {
   "cell_type": "code",
   "execution_count": 4,
   "id": "bafe2cf6",
   "metadata": {
    "_cell_guid": "b3f1cd83-47be-4dab-90e8-e2041e0fb14b",
    "_uuid": "b2dff95b-17b1-4f5f-9669-c635ba8779ae",
    "collapsed": false,
    "execution": {
     "iopub.execute_input": "2024-11-09T05:03:39.097651Z",
     "iopub.status.busy": "2024-11-09T05:03:39.097349Z",
     "iopub.status.idle": "2024-11-09T05:03:39.101499Z",
     "shell.execute_reply": "2024-11-09T05:03:39.100650Z"
    },
    "jupyter": {
     "outputs_hidden": false
    },
    "papermill": {
     "duration": 0.01612,
     "end_time": "2024-11-09T05:03:39.103452",
     "exception": false,
     "start_time": "2024-11-09T05:03:39.087332",
     "status": "completed"
    },
    "tags": []
   },
   "outputs": [],
   "source": [
    "dropped_columns = []"
   ]
  },
  {
   "cell_type": "code",
   "execution_count": 5,
   "id": "30dfb53f",
   "metadata": {
    "_cell_guid": "abdc765d-dca1-438b-bebd-b166f57d9817",
    "_uuid": "600b439d-8bf3-45f3-b39e-942c828ee6a2",
    "collapsed": false,
    "execution": {
     "iopub.execute_input": "2024-11-09T05:03:39.122934Z",
     "iopub.status.busy": "2024-11-09T05:03:39.122259Z",
     "iopub.status.idle": "2024-11-09T05:03:39.126215Z",
     "shell.execute_reply": "2024-11-09T05:03:39.125364Z"
    },
    "jupyter": {
     "outputs_hidden": false
    },
    "papermill": {
     "duration": 0.01563,
     "end_time": "2024-11-09T05:03:39.128168",
     "exception": false,
     "start_time": "2024-11-09T05:03:39.112538",
     "status": "completed"
    },
    "tags": []
   },
   "outputs": [],
   "source": [
    "import pandas as pd\n",
    "import numpy as np  # Explicitly import numpy"
   ]
  },
  {
   "cell_type": "code",
   "execution_count": 6,
   "id": "65fd0f1c",
   "metadata": {
    "_cell_guid": "313ed76c-829c-4381-a933-8887032d554d",
    "_uuid": "a9312153-f2d3-40e9-9719-445af28aa05f",
    "collapsed": false,
    "execution": {
     "iopub.execute_input": "2024-11-09T05:03:39.147055Z",
     "iopub.status.busy": "2024-11-09T05:03:39.146791Z",
     "iopub.status.idle": "2024-11-09T05:03:42.706250Z",
     "shell.execute_reply": "2024-11-09T05:03:42.705253Z"
    },
    "jupyter": {
     "outputs_hidden": false
    },
    "papermill": {
     "duration": 3.571469,
     "end_time": "2024-11-09T05:03:42.708586",
     "exception": false,
     "start_time": "2024-11-09T05:03:39.137117",
     "status": "completed"
    },
    "tags": []
   },
   "outputs": [],
   "source": [
    "# Calculate the correlation matrix\n",
    "correlation_matrix = train_df.corr().abs()"
   ]
  },
  {
   "cell_type": "code",
   "execution_count": 7,
   "id": "153ac126",
   "metadata": {
    "_cell_guid": "53c5e425-c67c-4c9e-aac6-4e368769536d",
    "_uuid": "4ee4d8f2-b886-4583-9142-18f1e671adae",
    "collapsed": false,
    "execution": {
     "iopub.execute_input": "2024-11-09T05:03:42.728577Z",
     "iopub.status.busy": "2024-11-09T05:03:42.728225Z",
     "iopub.status.idle": "2024-11-09T05:03:42.732176Z",
     "shell.execute_reply": "2024-11-09T05:03:42.731335Z"
    },
    "jupyter": {
     "outputs_hidden": false
    },
    "papermill": {
     "duration": 0.015992,
     "end_time": "2024-11-09T05:03:42.734077",
     "exception": false,
     "start_time": "2024-11-09T05:03:42.718085",
     "status": "completed"
    },
    "tags": []
   },
   "outputs": [],
   "source": [
    "# Set threshold for removing correlated features before it was 0.85\n",
    "correlation_threshold = 0.8"
   ]
  },
  {
   "cell_type": "code",
   "execution_count": 8,
   "id": "a0650d3c",
   "metadata": {
    "_cell_guid": "946d3360-2e3e-421e-9a4f-c0a0bb938a50",
    "_uuid": "83915e76-add3-4ed4-b4b7-6492e481338b",
    "collapsed": false,
    "execution": {
     "iopub.execute_input": "2024-11-09T05:03:42.753487Z",
     "iopub.status.busy": "2024-11-09T05:03:42.752918Z",
     "iopub.status.idle": "2024-11-09T05:03:42.758773Z",
     "shell.execute_reply": "2024-11-09T05:03:42.758012Z"
    },
    "jupyter": {
     "outputs_hidden": false
    },
    "papermill": {
     "duration": 0.017455,
     "end_time": "2024-11-09T05:03:42.760583",
     "exception": false,
     "start_time": "2024-11-09T05:03:42.743128",
     "status": "completed"
    },
    "tags": []
   },
   "outputs": [],
   "source": [
    "# Select upper triangle of the correlation matrix\n",
    "upper_triangle = correlation_matrix.where(np.triu(np.ones(correlation_matrix.shape), k=1).astype(bool))"
   ]
  },
  {
   "cell_type": "code",
   "execution_count": 9,
   "id": "7a73c441",
   "metadata": {
    "_cell_guid": "e6b03c8a-6366-4d86-a6f8-db6ee8ddb9b2",
    "_uuid": "84ab7fa5-e3c0-4125-b055-faaa37e14708",
    "collapsed": false,
    "execution": {
     "iopub.execute_input": "2024-11-09T05:03:42.785808Z",
     "iopub.status.busy": "2024-11-09T05:03:42.784967Z",
     "iopub.status.idle": "2024-11-09T05:03:42.806748Z",
     "shell.execute_reply": "2024-11-09T05:03:42.805906Z"
    },
    "jupyter": {
     "outputs_hidden": false
    },
    "papermill": {
     "duration": 0.037737,
     "end_time": "2024-11-09T05:03:42.809237",
     "exception": false,
     "start_time": "2024-11-09T05:03:42.771500",
     "status": "completed"
    },
    "tags": []
   },
   "outputs": [],
   "source": [
    "# Identify features to drop based on the correlation threshold\n",
    "to_drop = [column for column in upper_triangle.columns if any(upper_triangle[column] > correlation_threshold)]"
   ]
  },
  {
   "cell_type": "code",
   "execution_count": 10,
   "id": "b177180b",
   "metadata": {
    "_cell_guid": "5d2d5037-957e-42de-9153-6265a5d1d121",
    "_uuid": "cc4bee13-54c1-43f2-994c-19c619289239",
    "collapsed": false,
    "execution": {
     "iopub.execute_input": "2024-11-09T05:03:42.835925Z",
     "iopub.status.busy": "2024-11-09T05:03:42.835408Z",
     "iopub.status.idle": "2024-11-09T05:03:42.839482Z",
     "shell.execute_reply": "2024-11-09T05:03:42.838613Z"
    },
    "jupyter": {
     "outputs_hidden": false
    },
    "papermill": {
     "duration": 0.019296,
     "end_time": "2024-11-09T05:03:42.841457",
     "exception": false,
     "start_time": "2024-11-09T05:03:42.822161",
     "status": "completed"
    },
    "tags": []
   },
   "outputs": [],
   "source": [
    "# Store the names of dropped columns\n",
    "dropped_columns = to_drop.copy()"
   ]
  },
  {
   "cell_type": "code",
   "execution_count": 11,
   "id": "67729118",
   "metadata": {
    "_cell_guid": "9ee25c4f-d20a-4cc8-8b4f-21614acec6d7",
    "_uuid": "1ccfa1b6-c636-457b-bff0-d54c5daecacb",
    "collapsed": false,
    "execution": {
     "iopub.execute_input": "2024-11-09T05:03:42.860575Z",
     "iopub.status.busy": "2024-11-09T05:03:42.860291Z",
     "iopub.status.idle": "2024-11-09T05:03:42.895379Z",
     "shell.execute_reply": "2024-11-09T05:03:42.894573Z"
    },
    "jupyter": {
     "outputs_hidden": false
    },
    "papermill": {
     "duration": 0.047046,
     "end_time": "2024-11-09T05:03:42.897662",
     "exception": false,
     "start_time": "2024-11-09T05:03:42.850616",
     "status": "completed"
    },
    "tags": []
   },
   "outputs": [],
   "source": [
    "# Drop the highly correlated features from the training set\n",
    "train_df_reduced = train_df.drop(columns=to_drop)"
   ]
  },
  {
   "cell_type": "code",
   "execution_count": 12,
   "id": "e03b84ff",
   "metadata": {
    "_cell_guid": "10d8bf46-6ef7-4996-b78c-43524b6d073b",
    "_uuid": "975c7114-e0e9-423b-86c3-a3a5f129238a",
    "collapsed": false,
    "execution": {
     "iopub.execute_input": "2024-11-09T05:03:42.917094Z",
     "iopub.status.busy": "2024-11-09T05:03:42.916784Z",
     "iopub.status.idle": "2024-11-09T05:03:42.951974Z",
     "shell.execute_reply": "2024-11-09T05:03:42.951199Z"
    },
    "jupyter": {
     "outputs_hidden": false
    },
    "papermill": {
     "duration": 0.047471,
     "end_time": "2024-11-09T05:03:42.954353",
     "exception": false,
     "start_time": "2024-11-09T05:03:42.906882",
     "status": "completed"
    },
    "tags": []
   },
   "outputs": [],
   "source": [
    "# Redefine Features and Target with reduced features\n",
    "Features_reduced = train_df_reduced.drop(columns=['RecordId', 'Y'])\n",
    "Target = train_df_reduced['Y']"
   ]
  },
  {
   "cell_type": "code",
   "execution_count": 13,
   "id": "1896fd84",
   "metadata": {
    "_cell_guid": "77bb8b64-2c37-44d6-8a71-2dfd751d131c",
    "_uuid": "0c94608b-5975-492f-8c32-a9758e9f8ee8",
    "collapsed": false,
    "execution": {
     "iopub.execute_input": "2024-11-09T05:03:42.973843Z",
     "iopub.status.busy": "2024-11-09T05:03:42.973530Z",
     "iopub.status.idle": "2024-11-09T05:03:42.988141Z",
     "shell.execute_reply": "2024-11-09T05:03:42.987270Z"
    },
    "jupyter": {
     "outputs_hidden": false
    },
    "papermill": {
     "duration": 0.027054,
     "end_time": "2024-11-09T05:03:42.990584",
     "exception": false,
     "start_time": "2024-11-09T05:03:42.963530",
     "status": "completed"
    },
    "tags": []
   },
   "outputs": [
    {
     "name": "stdout",
     "output_type": "stream",
     "text": [
      "Features reduced from 79 to 58\n",
      "          X2         X3  X4  X5  X6          X7  X8   X9  X10  X11  ...  \\\n",
      "0  87.000000  34.118411   0   2   0  165.100000   1  829    2    7  ...   \n",
      "1  82.372284  31.573280   0   0   1  162.983897   1  724    0    4  ...   \n",
      "2  50.000000  27.771653   0   0   1  165.100000   1  895    2    7  ...   \n",
      "3  66.236109  26.515922   0   0   1  167.009549   1  637    0    7  ...   \n",
      "4  81.303299  20.843691   0   0   1  158.165419   0  564    0    5  ...   \n",
      "\n",
      "        X68       X69  X71  X72  X73  X74  X75  X76  X77  X78  \n",
      "0  4.200000  0.110000  0.0  0.0  0.0  0.0  0.0  0.0  0.0  0.0  \n",
      "1  3.718976  0.100292  0.0  0.0  0.0  0.0  0.0  0.0  0.0  0.0  \n",
      "2  3.800000  0.020000  0.0  0.0  0.0  0.0  0.0  0.0  0.0  0.0  \n",
      "3  4.285677  0.108249  0.0  0.0  0.0  0.0  0.0  0.0  0.0  0.0  \n",
      "4  3.769194  0.164645  0.0  0.0  0.0  0.0  0.0  0.0  0.0  0.0  \n",
      "\n",
      "[5 rows x 56 columns]\n",
      "['X16', 'X29', 'X30', 'X31', 'X33', 'X34', 'X35', 'X36', 'X43', 'X44', 'X49', 'X50', 'X52', 'X53', 'X54', 'X55', 'X56', 'X62', 'X63', 'X64', 'X70']\n"
     ]
    }
   ],
   "source": [
    "# Print the reduced feature set\n",
    "print(f\"Features reduced from {train_df.shape[1]} to {train_df_reduced.shape[1]}\")\n",
    "print(Features_reduced.head())\n",
    "print(dropped_columns)"
   ]
  },
  {
   "cell_type": "code",
   "execution_count": 14,
   "id": "c67e39da",
   "metadata": {
    "_cell_guid": "a055e51a-b1ce-440b-99f8-939706c0bc53",
    "_uuid": "dc506f88-9324-4a61-b3d9-79313d383423",
    "collapsed": false,
    "execution": {
     "iopub.execute_input": "2024-11-09T05:03:43.009907Z",
     "iopub.status.busy": "2024-11-09T05:03:43.009589Z",
     "iopub.status.idle": "2024-11-09T05:03:43.520017Z",
     "shell.execute_reply": "2024-11-09T05:03:43.519207Z"
    },
    "jupyter": {
     "outputs_hidden": false
    },
    "papermill": {
     "duration": 0.522549,
     "end_time": "2024-11-09T05:03:43.522335",
     "exception": false,
     "start_time": "2024-11-09T05:03:42.999786",
     "status": "completed"
    },
    "tags": []
   },
   "outputs": [],
   "source": [
    "# Scaling\n",
    "from sklearn.preprocessing import RobustScaler\n",
    "\n",
    "scaler = RobustScaler()\n",
    "Features = scaler.fit_transform(Features_reduced)"
   ]
  },
  {
   "cell_type": "code",
   "execution_count": 15,
   "id": "3de7c7b9",
   "metadata": {
    "_cell_guid": "24a07e86-eeed-4eb4-9afc-b5ad187a3160",
    "_uuid": "3fbd33a0-b5b3-4040-856c-22d5632cae00",
    "collapsed": false,
    "execution": {
     "iopub.execute_input": "2024-11-09T05:03:43.542098Z",
     "iopub.status.busy": "2024-11-09T05:03:43.541797Z",
     "iopub.status.idle": "2024-11-09T05:03:43.894953Z",
     "shell.execute_reply": "2024-11-09T05:03:43.894133Z"
    },
    "jupyter": {
     "outputs_hidden": false
    },
    "papermill": {
     "duration": 0.365449,
     "end_time": "2024-11-09T05:03:43.897139",
     "exception": false,
     "start_time": "2024-11-09T05:03:43.531690",
     "status": "completed"
    },
    "tags": []
   },
   "outputs": [],
   "source": [
    "import pandas as pd\n",
    "import numpy as np\n",
    "from sklearn.model_selection import train_test_split\n",
    "from sklearn.metrics import accuracy_score, roc_auc_score\n",
    "import xgboost as xgb\n",
    "import random"
   ]
  },
  {
   "cell_type": "code",
   "execution_count": 16,
   "id": "1b6a7c26",
   "metadata": {
    "_cell_guid": "2274df5b-2542-486a-b46d-43eb09ade405",
    "_uuid": "2da48b72-e48e-4f47-805a-d042ea97b166",
    "collapsed": false,
    "execution": {
     "iopub.execute_input": "2024-11-09T05:03:43.916776Z",
     "iopub.status.busy": "2024-11-09T05:03:43.916463Z",
     "iopub.status.idle": "2024-11-09T05:03:44.040523Z",
     "shell.execute_reply": "2024-11-09T05:03:44.039651Z"
    },
    "jupyter": {
     "outputs_hidden": false
    },
    "papermill": {
     "duration": 0.13638,
     "end_time": "2024-11-09T05:03:44.042848",
     "exception": false,
     "start_time": "2024-11-09T05:03:43.906468",
     "status": "completed"
    },
    "tags": []
   },
   "outputs": [],
   "source": [
    "# Assuming Features_reduced_cleaned and Target are already defined\n",
    "# Step 1: Perform a 70/30 train-test split\n",
    "train_f, val_f, train_t, val_t = train_test_split(Features_reduced, Target, test_size=0.30, random_state=42)"
   ]
  },
  {
   "cell_type": "code",
   "execution_count": 17,
   "id": "ee9b3f82",
   "metadata": {
    "_cell_guid": "5fc42869-77f7-4d5c-b85e-424d1d86d61c",
    "_uuid": "9083b022-64e6-4a75-870b-d3060fd29936",
    "collapsed": false,
    "execution": {
     "iopub.execute_input": "2024-11-09T05:03:44.062899Z",
     "iopub.status.busy": "2024-11-09T05:03:44.062559Z",
     "iopub.status.idle": "2024-11-09T05:03:44.449472Z",
     "shell.execute_reply": "2024-11-09T05:03:44.448690Z"
    },
    "jupyter": {
     "outputs_hidden": false
    },
    "papermill": {
     "duration": 0.399615,
     "end_time": "2024-11-09T05:03:44.451941",
     "exception": false,
     "start_time": "2024-11-09T05:03:44.052326",
     "status": "completed"
    },
    "tags": []
   },
   "outputs": [],
   "source": [
    "# Step 2: Set up data for XGBoost\n",
    "train_data = xgb.DMatrix(train_f, label=train_t)\n",
    "val_data = xgb.DMatrix(val_f, label=val_t)"
   ]
  },
  {
   "cell_type": "code",
   "execution_count": 18,
   "id": "7231a54e",
   "metadata": {
    "_cell_guid": "1099d700-158a-45ac-99f2-ab79ad769acd",
    "_uuid": "0fed562c-ac54-4ddd-8cd1-e44e123c9800",
    "collapsed": false,
    "execution": {
     "iopub.execute_input": "2024-11-09T05:03:44.473756Z",
     "iopub.status.busy": "2024-11-09T05:03:44.472972Z",
     "iopub.status.idle": "2024-11-09T05:03:44.479400Z",
     "shell.execute_reply": "2024-11-09T05:03:44.478592Z"
    },
    "jupyter": {
     "outputs_hidden": false
    },
    "papermill": {
     "duration": 0.01878,
     "end_time": "2024-11-09T05:03:44.481334",
     "exception": false,
     "start_time": "2024-11-09T05:03:44.462554",
     "status": "completed"
    },
    "tags": []
   },
   "outputs": [],
   "source": [
    "base_params = {\n",
    "    'objective': 'binary:logistic',\n",
    "    'sampling_method': 'uniform',           # Uniform sampling for CPU-based 'hist' method\n",
    "    'eval_metric': 'auc',                   # AUC metric to assess model performance\n",
    "    'max_depth': 10,                        # Reduced depth for better generalization\n",
    "    'eta': 0.1,                             # Lower learning rate for smaller, more refined steps\n",
    "    'num_parallel_tree': 5,                 # Reduced to simplify the ensemble and control overfitting\n",
    "    'subsample': 0.8,                       # Slightly increased for diverse sampling\n",
    "    'colsample_bytree': 0.5,                # Increase to include more features per tree\n",
    "    'min_child_weight': 3,                  # Increased for more conservative splits\n",
    "    'gamma': 0.25,                          # Higher threshold to reduce overfitting on noisy splits\n",
    "    'alpha': 3,                             # Stronger L1 regularization to control model complexity\n",
    "    'lambda': 3,                            # Stronger L2 regularization to control model complexity\n",
    "    'max_delta_step': 5,                    # Further increasing for imbalance handling\n",
    "    'scale_pos_weight': 1.5,                # Adjustment to handle class imbalance\n",
    "    'tree_method': 'hist',                  # Using 'hist' method for large datasets (CPU-optimized)\n",
    "    'grow_policy': 'lossguide',             # Guides tree growth based on loss reduction for better accuracy\n",
    "    'verbosity': 2                          # Verbose mode to monitor training progress\n",
    "}"
   ]
  },
  {
   "cell_type": "code",
   "execution_count": 19,
   "id": "c4fe79f8",
   "metadata": {
    "_cell_guid": "028c0c81-1f5d-41dd-9500-6b969d3c6e64",
    "_uuid": "1a898248-076b-40d2-8909-7ebe62bee904",
    "collapsed": false,
    "execution": {
     "iopub.execute_input": "2024-11-09T05:03:44.500505Z",
     "iopub.status.busy": "2024-11-09T05:03:44.500249Z",
     "iopub.status.idle": "2024-11-09T05:03:44.503911Z",
     "shell.execute_reply": "2024-11-09T05:03:44.503122Z"
    },
    "jupyter": {
     "outputs_hidden": false
    },
    "papermill": {
     "duration": 0.015509,
     "end_time": "2024-11-09T05:03:44.505781",
     "exception": false,
     "start_time": "2024-11-09T05:03:44.490272",
     "status": "completed"
    },
    "tags": []
   },
   "outputs": [],
   "source": [
    "# Step 3: Train multiple XGBoost models with different seeds and other varying parameters\n",
    "\n",
    "num_rounds = 350"
   ]
  },
  {
   "cell_type": "code",
   "execution_count": 20,
   "id": "98e09c45",
   "metadata": {
    "_cell_guid": "de9466ea-52a7-4446-b89b-8c5fc5bb9b30",
    "_uuid": "039ed5aa-9078-4072-84c6-dc2879af36f3",
    "collapsed": false,
    "execution": {
     "iopub.execute_input": "2024-11-09T05:03:44.524816Z",
     "iopub.status.busy": "2024-11-09T05:03:44.524156Z",
     "iopub.status.idle": "2024-11-09T05:04:55.800135Z",
     "shell.execute_reply": "2024-11-09T05:04:55.799231Z"
    },
    "jupyter": {
     "outputs_hidden": false
    },
    "papermill": {
     "duration": 71.287732,
     "end_time": "2024-11-09T05:04:55.802381",
     "exception": false,
     "start_time": "2024-11-09T05:03:44.514649",
     "status": "completed"
    },
    "tags": []
   },
   "outputs": [],
   "source": [
    "# Train the model\n",
    "model = xgb.train(base_params, train_data, num_boost_round=num_rounds, verbose_eval=True)"
   ]
  },
  {
   "cell_type": "code",
   "execution_count": 21,
   "id": "42a8729d",
   "metadata": {
    "_cell_guid": "21755cf9-d0ce-4251-864a-18ee64c05200",
    "_uuid": "6d8afb66-1ca9-4139-b6bf-51172547e4bc",
    "collapsed": false,
    "execution": {
     "iopub.execute_input": "2024-11-09T05:04:55.822792Z",
     "iopub.status.busy": "2024-11-09T05:04:55.821975Z",
     "iopub.status.idle": "2024-11-09T05:04:57.708817Z",
     "shell.execute_reply": "2024-11-09T05:04:57.707970Z"
    },
    "jupyter": {
     "outputs_hidden": false
    },
    "papermill": {
     "duration": 1.89937,
     "end_time": "2024-11-09T05:04:57.711216",
     "exception": false,
     "start_time": "2024-11-09T05:04:55.811846",
     "status": "completed"
    },
    "tags": []
   },
   "outputs": [],
   "source": [
    "# Predict on validation set with all iterations (0 to num_rounds)\n",
    "pred_prob = model.predict(val_data, iteration_range=(0, num_rounds))\n",
    "val_predictions = [1 if prob > 0.5 else 0 for prob in pred_prob]"
   ]
  },
  {
   "cell_type": "code",
   "execution_count": 22,
   "id": "a7b11f21",
   "metadata": {
    "_cell_guid": "214b3afb-7be5-4551-a04a-f5ca5251c6ee",
    "_uuid": "9807cff2-f531-45a1-9dd6-b24f8742604a",
    "collapsed": false,
    "execution": {
     "iopub.execute_input": "2024-11-09T05:04:57.731136Z",
     "iopub.status.busy": "2024-11-09T05:04:57.730798Z",
     "iopub.status.idle": "2024-11-09T05:04:57.763335Z",
     "shell.execute_reply": "2024-11-09T05:04:57.762313Z"
    },
    "jupyter": {
     "outputs_hidden": false
    },
    "papermill": {
     "duration": 0.044904,
     "end_time": "2024-11-09T05:04:57.765456",
     "exception": false,
     "start_time": "2024-11-09T05:04:57.720552",
     "status": "completed"
    },
    "tags": []
   },
   "outputs": [
    {
     "name": "stdout",
     "output_type": "stream",
     "text": [
      "Validation Accuracy: 0.9976570012324444\n"
     ]
    }
   ],
   "source": [
    "# Step 5: Calculate accuracy\n",
    "accuracy = accuracy_score(val_t, val_predictions)\n",
    "print(\"Validation Accuracy:\", accuracy)"
   ]
  },
  {
   "cell_type": "code",
   "execution_count": 23,
   "id": "02b72914",
   "metadata": {
    "_cell_guid": "03af8bac-b79c-441a-abc1-dd4c61d4de4d",
    "_uuid": "bd31e0a0-fd8c-422e-8f3f-57227d33cb7f",
    "collapsed": false,
    "execution": {
     "iopub.execute_input": "2024-11-09T05:04:57.785121Z",
     "iopub.status.busy": "2024-11-09T05:04:57.784790Z",
     "iopub.status.idle": "2024-11-09T05:08:56.819225Z",
     "shell.execute_reply": "2024-11-09T05:08:56.818354Z"
    },
    "jupyter": {
     "outputs_hidden": false
    },
    "papermill": {
     "duration": 239.046693,
     "end_time": "2024-11-09T05:08:56.821650",
     "exception": false,
     "start_time": "2024-11-09T05:04:57.774957",
     "status": "completed"
    },
    "tags": []
   },
   "outputs": [],
   "source": [
    "# Predict on test set\n",
    "# Step 6: Prepare the test data and drop unnecessary columns\n",
    "test_df_imputed = imputer.transform(test_df)\n",
    "test_features = pd.DataFrame(test_df_imputed, columns=test_df.columns)\n",
    "test_features = test_features.drop(columns=['RecordId'] + dropped_columns)"
   ]
  },
  {
   "cell_type": "code",
   "execution_count": 24,
   "id": "8c7022d4",
   "metadata": {
    "_cell_guid": "b3044e32-edd4-424b-b98c-433c8e7488eb",
    "_uuid": "9fc22c00-47a3-4856-8f15-1097db7de952",
    "collapsed": false,
    "execution": {
     "iopub.execute_input": "2024-11-09T05:08:56.841778Z",
     "iopub.status.busy": "2024-11-09T05:08:56.841428Z",
     "iopub.status.idle": "2024-11-09T05:08:56.959970Z",
     "shell.execute_reply": "2024-11-09T05:08:56.959150Z"
    },
    "jupyter": {
     "outputs_hidden": false
    },
    "papermill": {
     "duration": 0.131382,
     "end_time": "2024-11-09T05:08:56.962511",
     "exception": false,
     "start_time": "2024-11-09T05:08:56.831129",
     "status": "completed"
    },
    "tags": []
   },
   "outputs": [],
   "source": [
    "# Step 7: Convert the test features to DMatrix format\n",
    "test_data = xgb.DMatrix(test_features)"
   ]
  },
  {
   "cell_type": "code",
   "execution_count": 25,
   "id": "597a8d4b",
   "metadata": {
    "_cell_guid": "d5f66733-e268-48a0-a191-7053f3bd2c50",
    "_uuid": "85a4ac35-b4a5-4be5-aa85-9d3c64e207a9",
    "collapsed": false,
    "execution": {
     "iopub.execute_input": "2024-11-09T05:08:56.983358Z",
     "iopub.status.busy": "2024-11-09T05:08:56.983042Z",
     "iopub.status.idle": "2024-11-09T05:08:59.406741Z",
     "shell.execute_reply": "2024-11-09T05:08:59.405916Z"
    },
    "jupyter": {
     "outputs_hidden": false
    },
    "papermill": {
     "duration": 2.435832,
     "end_time": "2024-11-09T05:08:59.408970",
     "exception": false,
     "start_time": "2024-11-09T05:08:56.973138",
     "status": "completed"
    },
    "tags": []
   },
   "outputs": [],
   "source": [
    "# Step 8: Make predictions on the test set with all iterations\n",
    "test_pred_prob = model.predict(test_data, iteration_range=(0, num_rounds))"
   ]
  },
  {
   "cell_type": "code",
   "execution_count": 26,
   "id": "80ba276b",
   "metadata": {
    "_cell_guid": "d5bf666e-78d1-45d4-b72a-7ce3561372f1",
    "_uuid": "e1111130-d8e7-48ad-a750-f33311260f5d",
    "collapsed": false,
    "execution": {
     "iopub.execute_input": "2024-11-09T05:08:59.430099Z",
     "iopub.status.busy": "2024-11-09T05:08:59.429767Z",
     "iopub.status.idle": "2024-11-09T05:08:59.687974Z",
     "shell.execute_reply": "2024-11-09T05:08:59.686902Z"
    },
    "jupyter": {
     "outputs_hidden": false
    },
    "papermill": {
     "duration": 0.270498,
     "end_time": "2024-11-09T05:08:59.690201",
     "exception": false,
     "start_time": "2024-11-09T05:08:59.419703",
     "status": "completed"
    },
    "tags": []
   },
   "outputs": [
    {
     "name": "stdout",
     "output_type": "stream",
     "text": [
      "Submission file created successfully.\n"
     ]
    }
   ],
   "source": [
    "# Step 9: Create the submission DataFrame\n",
    "kaggle_submission = pd.DataFrame({'RecordId': test_df['RecordId'], 'Y': test_pred_prob})\n",
    "kaggle_submission.to_csv('day1_64th_submission.csv', index=False)\n",
    "print('Submission file created successfully.')"
   ]
  },
  {
   "cell_type": "code",
   "execution_count": 27,
   "id": "21d0ad64",
   "metadata": {
    "_cell_guid": "205607e3-5d5d-4547-989a-2b49ba5b7e5e",
    "_uuid": "67b24927-9038-44fe-8c71-c836bfa4f800",
    "collapsed": false,
    "execution": {
     "iopub.execute_input": "2024-11-09T05:08:59.713520Z",
     "iopub.status.busy": "2024-11-09T05:08:59.713147Z",
     "iopub.status.idle": "2024-11-09T05:08:59.722481Z",
     "shell.execute_reply": "2024-11-09T05:08:59.721590Z"
    },
    "jupyter": {
     "outputs_hidden": false
    },
    "papermill": {
     "duration": 0.023445,
     "end_time": "2024-11-09T05:08:59.724431",
     "exception": false,
     "start_time": "2024-11-09T05:08:59.700986",
     "status": "completed"
    },
    "tags": []
   },
   "outputs": [],
   "source": [
    "# import pandas as p\n",
    "# print(\"Training set\")\n",
    "# train_df = p.read_csv('train_set.csv')\n",
    "# test_df = p.read_csv('test_set.csv')\n",
    "# print(train_df.head())\n",
    "# print(\"test set\")\n",
    "# print(test_df.head())\n",
    "# from sklearn.impute import SimpleImputer\n",
    "\n",
    "# imputer = SimpleImputer(strategy='median')  # or 'median', 'most_frequent', 'constant'\n",
    "# train_df.loc[:, train_df.columns != 'Y'] = imputer.fit_transform(train_df.loc[:, train_df.columns != 'Y'])\n",
    "\n",
    "# dropped_columns = []\n",
    "# # Block 3: Calculating Correlation and Reducing Features\n",
    "# import pandas as pd\n",
    "# import numpy as np  # Explicitly import numpy\n",
    "\n",
    "# # Calculate the correlation matrix\n",
    "# correlation_matrix = train_df.corr().abs()\n",
    "\n",
    "# # Set threshold for removing correlated features before it was 0.85\n",
    "# correlation_threshold = 0.75\n",
    "\n",
    "# # Select upper triangle of the correlation matrix\n",
    "# upper_triangle = correlation_matrix.where(np.triu(np.ones(correlation_matrix.shape), k=1).astype(bool))\n",
    "\n",
    "# # Identify features to drop based on the correlation threshold\n",
    "# to_drop = [column for column in upper_triangle.columns if any(upper_triangle[column] > correlation_threshold)]\n",
    "\n",
    "# # Store the names of dropped columns\n",
    "# dropped_columns = to_drop.copy()\n",
    "\n",
    "# # Drop the highly correlated features from the training set\n",
    "# train_df_reduced = train_df.drop(columns=to_drop)\n",
    "\n",
    "# # Redefine Features and Target with reduced features\n",
    "# Features_reduced = train_df_reduced.drop(columns=['RecordId', 'Y'])\n",
    "# Target = train_df_reduced['Y']\n",
    "\n",
    "# # Print the reduced feature set\n",
    "# print(f\"Features reduced from {train_df.shape[1]} to {train_df_reduced.shape[1]}\")\n",
    "# print(Features_reduced.head())\n",
    "# print(dropped_columns)\n",
    "# #Scaling\n",
    "# from sklearn.preprocessing import StandardScaler\n",
    "\n",
    "# scaler = StandardScaler()\n",
    "# Features = scaler.fit_transform(Features_reduced)\n",
    "# import pandas as pd\n",
    "# from sklearn.ensemble import RandomForestClassifier\n",
    "# import xgboost as xgb\n",
    "# from sklearn.ensemble import ExtraTreesClassifier\n",
    "# from sklearn.metrics import accuracy_score\n",
    "# from sklearn.model_selection import train_test_split\n",
    "# # Assuming Features_reduced_cleaned and target_values are already defined\n",
    "# # Step 1: Perform a 70/30 train-test split\n",
    "# train_f, val_f, train_t, val_t = train_test_split(Features_reduced, Target, test_size=0.30, random_state=42)\n",
    "# #new \n",
    "# #rf_model = RandomForestClassifier(criterion='gini',random_state=50, n_estimators=20000, max_depth=9, max_features = 7,n_jobs=-1,class_weight='balanced',verbose=2)\n",
    "# # Step 3: Train the model on the training data\n",
    "# #rf_model.fit(train_f, train_t)\n",
    "# # Step 4: Predict on the validation set\n",
    "# #val_predictions = rf_model.predict(val_f)\n",
    "# ## trying xgboost\n",
    "# train_data = xgb.DMatrix(train_f,label=train_t)\n",
    "# test_data = xgb.DMatrix(val_f,label=val_t)\n",
    "# params = {\n",
    "#     'sampling_method':'uniform',\n",
    "#     'num_parallel_tree':10,\n",
    "#     'eval_metric' : 'auc',\n",
    "#     'objective': 'binary:logistic',\n",
    "#     'max_depth':12,\n",
    "#     'eta': 0.05,\n",
    "#     'subsample': 0.8,\n",
    "#     'colsample_bytree': 0.3,\n",
    "#     'seed': 42, \n",
    "#     'nthread': -1,            # Use all CPU cores\n",
    "#     'tree_method': 'hist', # Use GPU for acceleration\n",
    "#     'verbosity': 2            # Control verbosity (0, 1, or 2)\n",
    "# }\n",
    "# num_rounds = 2000\n",
    "# model = xgb.train(params, train_data, num_boost_round=num_rounds,verbose_eval=2)\n",
    "# pred_prob = model.predict(test_data)\n",
    "# val_predictions  = [1 if prob > 0.5 else 0 for prob in pred_prob]\n",
    "# # Step 5: Calculate accuracy\n",
    "# accuracy = accuracy_score(val_t, val_predictions)\n",
    "# # Step 6: Output the validation accuracy\n",
    "# print(\"Validation Accuracy:\", accuracy)\n",
    "# #new portion below\n",
    "# # Step 1: Impute the test data using the same strategy as training\n",
    "# test_df_imputed = imputer.transform(test_df)\n",
    "# # Step 2: Convert back to DataFrame and drop columns based on training\n",
    "# test_features = pd.DataFrame(test_df_imputed, columns=test_df.columns)\n",
    "# test_features = test_features.drop(columns=['RecordId'] +dropped_columns)\n",
    "# #new portion above\n",
    "# # Step 7: Prepare the test features by dropping the same columns as in training\n",
    "# #test_features = test_df.drop(columns=['RecordId'] + dropped_columns)\n",
    "# # Step 8: Make predictions on the test set\n",
    "# # Step 6: Convert the test features to DMatrix format\n",
    "# test_data = xgb.DMatrix(test_features)\n",
    "# # Step 7: Make predictions on the test set\n",
    "# test_pred_prob = model.predict(test_data)\n",
    "# # For binary classification, we could use probabilities if needed. \n",
    "# # Here we get the predicted probabilities for class 1\n",
    "# test_pred = test_pred_prob  # probabilities for class 1, as requested for submission\n",
    "# # Step 8: Create the submission DataFrame\n",
    "# kaggle_submission = pd.DataFrame({'RecordId': test_df['RecordId'], 'Y': test_pred})\n",
    "# # Step 9: Save the submission file\n",
    "# kaggle_submission.to_csv('day1_25th_submission.csv', index=False)\n",
    "# print('Submission file created successfully.')"
   ]
  }
 ],
 "metadata": {
  "kaggle": {
   "accelerator": "none",
   "dataSources": [
    {
     "datasetId": 5928584,
     "sourceId": 9696128,
     "sourceType": "datasetVersion"
    }
   ],
   "dockerImageVersionId": 30786,
   "isGpuEnabled": false,
   "isInternetEnabled": true,
   "language": "python",
   "sourceType": "notebook"
  },
  "kernelspec": {
   "display_name": "Python 3",
   "language": "python",
   "name": "python3"
  },
  "language_info": {
   "codemirror_mode": {
    "name": "ipython",
    "version": 3
   },
   "file_extension": ".py",
   "mimetype": "text/x-python",
   "name": "python",
   "nbconvert_exporter": "python",
   "pygments_lexer": "ipython3",
   "version": "3.10.14"
  },
  "papermill": {
   "default_parameters": {},
   "duration": 873.230842,
   "end_time": "2024-11-09T05:09:00.352170",
   "environment_variables": {},
   "exception": null,
   "input_path": "__notebook__.ipynb",
   "output_path": "__notebook__.ipynb",
   "parameters": {},
   "start_time": "2024-11-09T04:54:27.121328",
   "version": "2.6.0"
  }
 },
 "nbformat": 4,
 "nbformat_minor": 5
}
