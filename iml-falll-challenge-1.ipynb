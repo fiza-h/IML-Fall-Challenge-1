{
 "cells": [
  {
   "cell_type": "code",
   "execution_count": 1,
   "id": "30035e50",
   "metadata": {
    "execution": {
     "iopub.execute_input": "2024-10-24T05:53:09.529804Z",
     "iopub.status.busy": "2024-10-24T05:53:09.529036Z",
     "iopub.status.idle": "2024-10-24T05:53:11.730119Z",
     "shell.execute_reply": "2024-10-24T05:53:11.729297Z"
    },
    "papermill": {
     "duration": 2.210566,
     "end_time": "2024-10-24T05:53:11.732294",
     "exception": false,
     "start_time": "2024-10-24T05:53:09.521728",
     "status": "completed"
    },
    "tags": []
   },
   "outputs": [],
   "source": [
    "import pandas as pd\n",
    "import numpy as np\n",
    "from sklearn.feature_selection import VarianceThreshold, SelectKBest, f_classif\n",
    "from sklearn.model_selection import train_test_split\n",
    "from xgboost import XGBClassifier\n",
    "from sklearn.metrics import classification_report, accuracy_score, confusion_matrix, roc_auc_score, roc_curve\n",
    "import matplotlib.pyplot as plt\n",
    "from sklearn.pipeline import Pipeline"
   ]
  },
  {
   "cell_type": "code",
   "execution_count": 2,
   "id": "b52df77a",
   "metadata": {
    "execution": {
     "iopub.execute_input": "2024-10-24T05:53:11.744703Z",
     "iopub.status.busy": "2024-10-24T05:53:11.744279Z",
     "iopub.status.idle": "2024-10-24T05:53:16.883651Z",
     "shell.execute_reply": "2024-10-24T05:53:16.882623Z"
    },
    "papermill": {
     "duration": 5.148242,
     "end_time": "2024-10-24T05:53:16.886236",
     "exception": false,
     "start_time": "2024-10-24T05:53:11.737994",
     "status": "completed"
    },
    "tags": []
   },
   "outputs": [],
   "source": [
    "# Load your dataset\n",
    "# Assuming your data is in a pandas dataframe called 'df'\n",
    "# 'target' is the column with the disease classification (1 or 0)\n",
    "df = pd.read_csv('/kaggle/input/imlcomp1/train_set.csv')\n",
    "X = df.drop('Y', axis=1)\n",
    "y = df['Y']"
   ]
  },
  {
   "cell_type": "code",
   "execution_count": 3,
   "id": "42d8e9d5",
   "metadata": {
    "execution": {
     "iopub.execute_input": "2024-10-24T05:53:16.899226Z",
     "iopub.status.busy": "2024-10-24T05:53:16.898460Z",
     "iopub.status.idle": "2024-10-24T05:53:16.964045Z",
     "shell.execute_reply": "2024-10-24T05:53:16.963050Z"
    },
    "papermill": {
     "duration": 0.07438,
     "end_time": "2024-10-24T05:53:16.966329",
     "exception": false,
     "start_time": "2024-10-24T05:53:16.891949",
     "status": "completed"
    },
    "tags": []
   },
   "outputs": [
    {
     "data": {
      "text/html": [
       "<div>\n",
       "<style scoped>\n",
       "    .dataframe tbody tr th:only-of-type {\n",
       "        vertical-align: middle;\n",
       "    }\n",
       "\n",
       "    .dataframe tbody tr th {\n",
       "        vertical-align: top;\n",
       "    }\n",
       "\n",
       "    .dataframe thead th {\n",
       "        text-align: right;\n",
       "    }\n",
       "</style>\n",
       "<table border=\"1\" class=\"dataframe\">\n",
       "  <thead>\n",
       "    <tr style=\"text-align: right;\">\n",
       "      <th></th>\n",
       "      <th>RecordId</th>\n",
       "      <th>X2</th>\n",
       "      <th>X3</th>\n",
       "      <th>X4</th>\n",
       "      <th>X5</th>\n",
       "      <th>X6</th>\n",
       "      <th>X7</th>\n",
       "      <th>X8</th>\n",
       "      <th>X9</th>\n",
       "      <th>X10</th>\n",
       "      <th>...</th>\n",
       "      <th>X69</th>\n",
       "      <th>X70</th>\n",
       "      <th>X71</th>\n",
       "      <th>X72</th>\n",
       "      <th>X73</th>\n",
       "      <th>X74</th>\n",
       "      <th>X75</th>\n",
       "      <th>X76</th>\n",
       "      <th>X77</th>\n",
       "      <th>X78</th>\n",
       "    </tr>\n",
       "  </thead>\n",
       "  <tbody>\n",
       "    <tr>\n",
       "      <th>0</th>\n",
       "      <td>1</td>\n",
       "      <td>87.000000</td>\n",
       "      <td>34.118411</td>\n",
       "      <td>0</td>\n",
       "      <td>2</td>\n",
       "      <td>0</td>\n",
       "      <td>165.100000</td>\n",
       "      <td>1</td>\n",
       "      <td>829</td>\n",
       "      <td>2</td>\n",
       "      <td>...</td>\n",
       "      <td>0.110000</td>\n",
       "      <td>0.040000</td>\n",
       "      <td>0.0</td>\n",
       "      <td>0.0</td>\n",
       "      <td>0.000000</td>\n",
       "      <td>0.0</td>\n",
       "      <td>0.000000</td>\n",
       "      <td>0.0</td>\n",
       "      <td>0.0</td>\n",
       "      <td>0.000000</td>\n",
       "    </tr>\n",
       "    <tr>\n",
       "      <th>1</th>\n",
       "      <td>2</td>\n",
       "      <td>82.372284</td>\n",
       "      <td>31.573280</td>\n",
       "      <td>0</td>\n",
       "      <td>0</td>\n",
       "      <td>1</td>\n",
       "      <td>162.983897</td>\n",
       "      <td>1</td>\n",
       "      <td>724</td>\n",
       "      <td>0</td>\n",
       "      <td>...</td>\n",
       "      <td>0.100292</td>\n",
       "      <td>0.033431</td>\n",
       "      <td>0.0</td>\n",
       "      <td>0.0</td>\n",
       "      <td>0.000000</td>\n",
       "      <td>0.0</td>\n",
       "      <td>0.000000</td>\n",
       "      <td>0.0</td>\n",
       "      <td>0.0</td>\n",
       "      <td>0.000000</td>\n",
       "    </tr>\n",
       "    <tr>\n",
       "      <th>2</th>\n",
       "      <td>3</td>\n",
       "      <td>50.000000</td>\n",
       "      <td>27.771653</td>\n",
       "      <td>0</td>\n",
       "      <td>0</td>\n",
       "      <td>1</td>\n",
       "      <td>165.100000</td>\n",
       "      <td>1</td>\n",
       "      <td>895</td>\n",
       "      <td>2</td>\n",
       "      <td>...</td>\n",
       "      <td>0.020000</td>\n",
       "      <td>0.010000</td>\n",
       "      <td>0.0</td>\n",
       "      <td>0.0</td>\n",
       "      <td>0.000000</td>\n",
       "      <td>0.0</td>\n",
       "      <td>0.000000</td>\n",
       "      <td>0.0</td>\n",
       "      <td>0.0</td>\n",
       "      <td>0.000000</td>\n",
       "    </tr>\n",
       "    <tr>\n",
       "      <th>3</th>\n",
       "      <td>4</td>\n",
       "      <td>66.236109</td>\n",
       "      <td>26.515922</td>\n",
       "      <td>0</td>\n",
       "      <td>0</td>\n",
       "      <td>1</td>\n",
       "      <td>167.009549</td>\n",
       "      <td>1</td>\n",
       "      <td>637</td>\n",
       "      <td>0</td>\n",
       "      <td>...</td>\n",
       "      <td>0.108249</td>\n",
       "      <td>0.039363</td>\n",
       "      <td>0.0</td>\n",
       "      <td>0.0</td>\n",
       "      <td>0.000000</td>\n",
       "      <td>0.0</td>\n",
       "      <td>0.000000</td>\n",
       "      <td>0.0</td>\n",
       "      <td>0.0</td>\n",
       "      <td>0.000000</td>\n",
       "    </tr>\n",
       "    <tr>\n",
       "      <th>4</th>\n",
       "      <td>5</td>\n",
       "      <td>81.303299</td>\n",
       "      <td>20.843691</td>\n",
       "      <td>0</td>\n",
       "      <td>0</td>\n",
       "      <td>1</td>\n",
       "      <td>158.165419</td>\n",
       "      <td>0</td>\n",
       "      <td>564</td>\n",
       "      <td>0</td>\n",
       "      <td>...</td>\n",
       "      <td>0.164645</td>\n",
       "      <td>0.069242</td>\n",
       "      <td>0.0</td>\n",
       "      <td>0.0</td>\n",
       "      <td>0.000000</td>\n",
       "      <td>0.0</td>\n",
       "      <td>0.000000</td>\n",
       "      <td>0.0</td>\n",
       "      <td>0.0</td>\n",
       "      <td>0.000000</td>\n",
       "    </tr>\n",
       "    <tr>\n",
       "      <th>...</th>\n",
       "      <td>...</td>\n",
       "      <td>...</td>\n",
       "      <td>...</td>\n",
       "      <td>...</td>\n",
       "      <td>...</td>\n",
       "      <td>...</td>\n",
       "      <td>...</td>\n",
       "      <td>...</td>\n",
       "      <td>...</td>\n",
       "      <td>...</td>\n",
       "      <td>...</td>\n",
       "      <td>...</td>\n",
       "      <td>...</td>\n",
       "      <td>...</td>\n",
       "      <td>...</td>\n",
       "      <td>...</td>\n",
       "      <td>...</td>\n",
       "      <td>...</td>\n",
       "      <td>...</td>\n",
       "      <td>...</td>\n",
       "      <td>...</td>\n",
       "    </tr>\n",
       "    <tr>\n",
       "      <th>246117</th>\n",
       "      <td>246118</td>\n",
       "      <td>65.149110</td>\n",
       "      <td>33.357948</td>\n",
       "      <td>0</td>\n",
       "      <td>0</td>\n",
       "      <td>1</td>\n",
       "      <td>156.317941</td>\n",
       "      <td>1</td>\n",
       "      <td>711</td>\n",
       "      <td>0</td>\n",
       "      <td>...</td>\n",
       "      <td>0.088610</td>\n",
       "      <td>0.027152</td>\n",
       "      <td>0.0</td>\n",
       "      <td>0.0</td>\n",
       "      <td>0.000000</td>\n",
       "      <td>0.0</td>\n",
       "      <td>0.000000</td>\n",
       "      <td>0.0</td>\n",
       "      <td>0.0</td>\n",
       "      <td>0.000000</td>\n",
       "    </tr>\n",
       "    <tr>\n",
       "      <th>246118</th>\n",
       "      <td>246119</td>\n",
       "      <td>48.000000</td>\n",
       "      <td>46.736176</td>\n",
       "      <td>0</td>\n",
       "      <td>0</td>\n",
       "      <td>1</td>\n",
       "      <td>157.000000</td>\n",
       "      <td>1</td>\n",
       "      <td>594</td>\n",
       "      <td>2</td>\n",
       "      <td>...</td>\n",
       "      <td>-1.000000</td>\n",
       "      <td>0.560000</td>\n",
       "      <td>0.0</td>\n",
       "      <td>0.0</td>\n",
       "      <td>0.000000</td>\n",
       "      <td>0.0</td>\n",
       "      <td>0.000000</td>\n",
       "      <td>0.0</td>\n",
       "      <td>0.0</td>\n",
       "      <td>0.000000</td>\n",
       "    </tr>\n",
       "    <tr>\n",
       "      <th>246119</th>\n",
       "      <td>246120</td>\n",
       "      <td>57.472080</td>\n",
       "      <td>41.854115</td>\n",
       "      <td>1</td>\n",
       "      <td>0</td>\n",
       "      <td>0</td>\n",
       "      <td>189.868698</td>\n",
       "      <td>2</td>\n",
       "      <td>455</td>\n",
       "      <td>0</td>\n",
       "      <td>...</td>\n",
       "      <td>0.032961</td>\n",
       "      <td>0.020601</td>\n",
       "      <td>0.0</td>\n",
       "      <td>0.0</td>\n",
       "      <td>0.587987</td>\n",
       "      <td>0.0</td>\n",
       "      <td>0.412013</td>\n",
       "      <td>0.0</td>\n",
       "      <td>0.0</td>\n",
       "      <td>0.412013</td>\n",
       "    </tr>\n",
       "    <tr>\n",
       "      <th>246120</th>\n",
       "      <td>246121</td>\n",
       "      <td>66.000000</td>\n",
       "      <td>23.738662</td>\n",
       "      <td>1</td>\n",
       "      <td>0</td>\n",
       "      <td>1</td>\n",
       "      <td>168.000000</td>\n",
       "      <td>2</td>\n",
       "      <td>609</td>\n",
       "      <td>0</td>\n",
       "      <td>...</td>\n",
       "      <td>0.020000</td>\n",
       "      <td>-1.000000</td>\n",
       "      <td>0.0</td>\n",
       "      <td>0.0</td>\n",
       "      <td>1.000000</td>\n",
       "      <td>0.0</td>\n",
       "      <td>0.000000</td>\n",
       "      <td>0.0</td>\n",
       "      <td>0.0</td>\n",
       "      <td>0.000000</td>\n",
       "    </tr>\n",
       "    <tr>\n",
       "      <th>246121</th>\n",
       "      <td>246122</td>\n",
       "      <td>50.257640</td>\n",
       "      <td>32.753911</td>\n",
       "      <td>0</td>\n",
       "      <td>2</td>\n",
       "      <td>0</td>\n",
       "      <td>173.665068</td>\n",
       "      <td>1</td>\n",
       "      <td>637</td>\n",
       "      <td>0</td>\n",
       "      <td>...</td>\n",
       "      <td>0.013712</td>\n",
       "      <td>0.000000</td>\n",
       "      <td>0.0</td>\n",
       "      <td>0.0</td>\n",
       "      <td>0.000000</td>\n",
       "      <td>0.0</td>\n",
       "      <td>0.000000</td>\n",
       "      <td>0.0</td>\n",
       "      <td>0.0</td>\n",
       "      <td>0.000000</td>\n",
       "    </tr>\n",
       "  </tbody>\n",
       "</table>\n",
       "<p>246122 rows × 78 columns</p>\n",
       "</div>"
      ],
      "text/plain": [
       "        RecordId         X2         X3  X4  X5  X6          X7  X8   X9  X10  \\\n",
       "0              1  87.000000  34.118411   0   2   0  165.100000   1  829    2   \n",
       "1              2  82.372284  31.573280   0   0   1  162.983897   1  724    0   \n",
       "2              3  50.000000  27.771653   0   0   1  165.100000   1  895    2   \n",
       "3              4  66.236109  26.515922   0   0   1  167.009549   1  637    0   \n",
       "4              5  81.303299  20.843691   0   0   1  158.165419   0  564    0   \n",
       "...          ...        ...        ...  ..  ..  ..         ...  ..  ...  ...   \n",
       "246117    246118  65.149110  33.357948   0   0   1  156.317941   1  711    0   \n",
       "246118    246119  48.000000  46.736176   0   0   1  157.000000   1  594    2   \n",
       "246119    246120  57.472080  41.854115   1   0   0  189.868698   2  455    0   \n",
       "246120    246121  66.000000  23.738662   1   0   1  168.000000   2  609    0   \n",
       "246121    246122  50.257640  32.753911   0   2   0  173.665068   1  637    0   \n",
       "\n",
       "        ...       X69       X70  X71  X72       X73  X74       X75  X76  X77  \\\n",
       "0       ...  0.110000  0.040000  0.0  0.0  0.000000  0.0  0.000000  0.0  0.0   \n",
       "1       ...  0.100292  0.033431  0.0  0.0  0.000000  0.0  0.000000  0.0  0.0   \n",
       "2       ...  0.020000  0.010000  0.0  0.0  0.000000  0.0  0.000000  0.0  0.0   \n",
       "3       ...  0.108249  0.039363  0.0  0.0  0.000000  0.0  0.000000  0.0  0.0   \n",
       "4       ...  0.164645  0.069242  0.0  0.0  0.000000  0.0  0.000000  0.0  0.0   \n",
       "...     ...       ...       ...  ...  ...       ...  ...       ...  ...  ...   \n",
       "246117  ...  0.088610  0.027152  0.0  0.0  0.000000  0.0  0.000000  0.0  0.0   \n",
       "246118  ... -1.000000  0.560000  0.0  0.0  0.000000  0.0  0.000000  0.0  0.0   \n",
       "246119  ...  0.032961  0.020601  0.0  0.0  0.587987  0.0  0.412013  0.0  0.0   \n",
       "246120  ...  0.020000 -1.000000  0.0  0.0  1.000000  0.0  0.000000  0.0  0.0   \n",
       "246121  ...  0.013712  0.000000  0.0  0.0  0.000000  0.0  0.000000  0.0  0.0   \n",
       "\n",
       "             X78  \n",
       "0       0.000000  \n",
       "1       0.000000  \n",
       "2       0.000000  \n",
       "3       0.000000  \n",
       "4       0.000000  \n",
       "...          ...  \n",
       "246117  0.000000  \n",
       "246118  0.000000  \n",
       "246119  0.412013  \n",
       "246120  0.000000  \n",
       "246121  0.000000  \n",
       "\n",
       "[246122 rows x 78 columns]"
      ]
     },
     "execution_count": 3,
     "metadata": {},
     "output_type": "execute_result"
    }
   ],
   "source": [
    "X"
   ]
  },
  {
   "cell_type": "code",
   "execution_count": 4,
   "id": "ba9c2393",
   "metadata": {
    "execution": {
     "iopub.execute_input": "2024-10-24T05:53:16.980830Z",
     "iopub.status.busy": "2024-10-24T05:53:16.980105Z",
     "iopub.status.idle": "2024-10-24T05:53:16.986991Z",
     "shell.execute_reply": "2024-10-24T05:53:16.986128Z"
    },
    "papermill": {
     "duration": 0.015573,
     "end_time": "2024-10-24T05:53:16.989001",
     "exception": false,
     "start_time": "2024-10-24T05:53:16.973428",
     "status": "completed"
    },
    "tags": []
   },
   "outputs": [
    {
     "data": {
      "text/plain": [
       "0         0\n",
       "1         0\n",
       "2         0\n",
       "3         0\n",
       "4         0\n",
       "         ..\n",
       "246117    0\n",
       "246118    1\n",
       "246119    0\n",
       "246120    0\n",
       "246121    0\n",
       "Name: Y, Length: 246122, dtype: int64"
      ]
     },
     "execution_count": 4,
     "metadata": {},
     "output_type": "execute_result"
    }
   ],
   "source": [
    "y"
   ]
  },
  {
   "cell_type": "code",
   "execution_count": 5,
   "id": "7bed75a3",
   "metadata": {
    "execution": {
     "iopub.execute_input": "2024-10-24T05:53:17.002267Z",
     "iopub.status.busy": "2024-10-24T05:53:17.001980Z",
     "iopub.status.idle": "2024-10-24T05:53:17.561239Z",
     "shell.execute_reply": "2024-10-24T05:53:17.560431Z"
    },
    "papermill": {
     "duration": 0.568562,
     "end_time": "2024-10-24T05:53:17.563507",
     "exception": false,
     "start_time": "2024-10-24T05:53:16.994945",
     "status": "completed"
    },
    "tags": []
   },
   "outputs": [],
   "source": [
    "dfX_filled = X.fillna(X.mean())\n",
    "dfY_filled = y.fillna(y.mean())\n",
    "df_filled = df.fillna(df.mean())"
   ]
  },
  {
   "cell_type": "code",
   "execution_count": 6,
   "id": "82e3cc45",
   "metadata": {
    "execution": {
     "iopub.execute_input": "2024-10-24T05:53:17.577225Z",
     "iopub.status.busy": "2024-10-24T05:53:17.576709Z",
     "iopub.status.idle": "2024-10-24T05:53:17.583620Z",
     "shell.execute_reply": "2024-10-24T05:53:17.582591Z"
    },
    "papermill": {
     "duration": 0.015652,
     "end_time": "2024-10-24T05:53:17.585474",
     "exception": false,
     "start_time": "2024-10-24T05:53:17.569822",
     "status": "completed"
    },
    "tags": []
   },
   "outputs": [
    {
     "name": "stdout",
     "output_type": "stream",
     "text": [
      "True Positive Count: 649\n",
      "True Negative Count: 245473\n"
     ]
    }
   ],
   "source": [
    "# Calculate the number of true positives and true negatives\n",
    "true_positive_count = (df_filled['Y'] == 1).sum()  # Count of true positives\n",
    "true_negative_count = (df_filled['Y'] == 0).sum()  # Count of true negatives\n",
    "\n",
    "# Display the results\n",
    "print(f\"True Positive Count: {true_positive_count}\")\n",
    "print(f\"True Negative Count: {true_negative_count}\")"
   ]
  },
  {
   "cell_type": "code",
   "execution_count": 7,
   "id": "cb917c0a",
   "metadata": {
    "execution": {
     "iopub.execute_input": "2024-10-24T05:53:17.598594Z",
     "iopub.status.busy": "2024-10-24T05:53:17.598039Z",
     "iopub.status.idle": "2024-10-24T05:53:19.187753Z",
     "shell.execute_reply": "2024-10-24T05:53:19.186850Z"
    },
    "papermill": {
     "duration": 1.59873,
     "end_time": "2024-10-24T05:53:19.190090",
     "exception": false,
     "start_time": "2024-10-24T05:53:17.591360",
     "status": "completed"
    },
    "tags": []
   },
   "outputs": [
    {
     "name": "stdout",
     "output_type": "stream",
     "text": [
      "Balanced DataFrame:\n",
      "        RecordId         X2         X3  X4  X5  X6          X7  X8   X9  X10  \\\n",
      "0          60473  67.000000  23.623079   0   0   1  157.500000   1  822    0   \n",
      "1         225680  67.000000  31.577096   1   0   1  168.010091   2  470    0   \n",
      "2         121759  71.594325  35.217679   0   3   1  168.807136   1  663    0   \n",
      "3          14588  68.090962  29.920817   0   0   1  156.491078   1  830    0   \n",
      "4         241781  67.000000  25.598388   0   0   1  157.500000   1  259    0   \n",
      "...          ...        ...        ...  ..  ..  ..         ...  ..  ...  ...   \n",
      "490941     13747  49.000000  37.453136   0   0   0  177.800000   1   98    0   \n",
      "490942    120664  72.000000  27.168341   0   3   0  182.975299   0  573    0   \n",
      "490943    144618  65.000000  22.714688   0   0   0  170.200000   1  687    0   \n",
      "490944     67723  75.000000  22.674673   0   0   0  175.200000   1  388    0   \n",
      "490945    110725  71.000000  26.573129   0   0   1  168.000000   1  376    0   \n",
      "\n",
      "        ...       X70  X71  X72       X73  X74  X75  X76  X77  X78  Y  \n",
      "0       ...  0.250000  0.0  0.0  0.000000  0.0  0.0  0.0  0.0  0.0  1  \n",
      "1       ...  0.018276  0.0  0.0  0.000000  0.0  0.0  0.0  0.0  0.0  0  \n",
      "2       ...  0.010000  0.0  0.0  0.594325  0.0  0.0  0.0  0.0  0.0  0  \n",
      "3       ...  0.010000  0.0  0.0  0.000000  0.0  0.0  0.0  0.0  0.0  0  \n",
      "4       ...  0.590000  0.0  0.0  0.000000  0.0  0.0  0.0  0.0  0.0  1  \n",
      "...     ...       ...  ...  ...       ...  ...  ...  ...  ...  ... ..  \n",
      "490941  ...  0.010000  0.0  0.0  0.000000  0.0  0.0  0.0  0.0  0.0  0  \n",
      "490942  ...  0.024940  0.0  0.0  0.000000  0.0  0.0  0.0  0.0  0.0  0  \n",
      "490943  ...  0.010000  0.0  0.0  0.000000  0.0  0.0  0.0  0.0  0.0  1  \n",
      "490944  ...  0.010000  0.0  0.0  0.000000  0.0  0.0  0.0  0.0  0.0  1  \n",
      "490945  ...  0.690000  0.0  0.0  0.000000  0.0  0.0  0.0  0.0  0.0  1  \n",
      "\n",
      "[490946 rows x 79 columns]\n",
      "New Positive Count: 245473\n",
      "New Negative Count: 245473\n"
     ]
    }
   ],
   "source": [
    "# Separate the positive and negative instances\n",
    "df_positive = df_filled[df_filled['Y'] == 1]\n",
    "df_negative = df_filled[df_filled['Y'] == 0]\n",
    "\n",
    "# Calculate how many more positive instances are needed\n",
    "needed_positive_count = true_negative_count - true_positive_count\n",
    "\n",
    "# Upscale positive instances by sampling with replacement\n",
    "if needed_positive_count > 0:\n",
    "    df_positive_upscaled = df_positive.sample(n=needed_positive_count, replace=True, random_state=42)\n",
    "else:\n",
    "    df_positive_upscaled = pd.DataFrame()  # No upscaling needed if positive count is already equal to or greater\n",
    "\n",
    "# Combine the original positive instances with the upscaled ones\n",
    "df_balanced = pd.concat([df_positive, df_positive_upscaled, df_negative])\n",
    "\n",
    "# Shuffle the resulting DataFrame (optional)\n",
    "df_balanced = df_balanced.sample(frac=1, random_state=42).reset_index(drop=True)\n",
    "\n",
    "# Display the balanced DataFrame\n",
    "print(\"Balanced DataFrame:\")\n",
    "print(df_balanced)\n",
    "print(f\"New Positive Count: {(df_balanced['Y'] == 1).sum()}\")\n",
    "print(f\"New Negative Count: {(df_balanced['Y'] == 0).sum()}\")"
   ]
  },
  {
   "cell_type": "code",
   "execution_count": 8,
   "id": "8160f4ce",
   "metadata": {
    "execution": {
     "iopub.execute_input": "2024-10-24T05:53:19.203718Z",
     "iopub.status.busy": "2024-10-24T05:53:19.203394Z",
     "iopub.status.idle": "2024-10-24T05:53:19.207907Z",
     "shell.execute_reply": "2024-10-24T05:53:19.207005Z"
    },
    "papermill": {
     "duration": 0.01332,
     "end_time": "2024-10-24T05:53:19.209755",
     "exception": false,
     "start_time": "2024-10-24T05:53:19.196435",
     "status": "completed"
    },
    "tags": []
   },
   "outputs": [],
   "source": [
    "df = df_balanced"
   ]
  },
  {
   "cell_type": "code",
   "execution_count": 9,
   "id": "c597153a",
   "metadata": {
    "execution": {
     "iopub.execute_input": "2024-10-24T05:53:19.223269Z",
     "iopub.status.busy": "2024-10-24T05:53:19.222585Z",
     "iopub.status.idle": "2024-10-24T05:53:19.318281Z",
     "shell.execute_reply": "2024-10-24T05:53:19.317258Z"
    },
    "papermill": {
     "duration": 0.104977,
     "end_time": "2024-10-24T05:53:19.320730",
     "exception": false,
     "start_time": "2024-10-24T05:53:19.215753",
     "status": "completed"
    },
    "tags": []
   },
   "outputs": [],
   "source": [
    "X = df.drop('Y', axis=1)\n",
    "y = df['Y']"
   ]
  },
  {
   "cell_type": "code",
   "execution_count": 10,
   "id": "21d0681a",
   "metadata": {
    "execution": {
     "iopub.execute_input": "2024-10-24T05:53:19.334725Z",
     "iopub.status.busy": "2024-10-24T05:53:19.334374Z",
     "iopub.status.idle": "2024-10-24T05:53:19.659142Z",
     "shell.execute_reply": "2024-10-24T05:53:19.658301Z"
    },
    "papermill": {
     "duration": 0.334244,
     "end_time": "2024-10-24T05:53:19.661431",
     "exception": false,
     "start_time": "2024-10-24T05:53:19.327187",
     "status": "completed"
    },
    "tags": []
   },
   "outputs": [],
   "source": [
    "# Split the data\n",
    "X_train, X_test, y_train, y_test = train_test_split(X, y, test_size=0.3, random_state=42)"
   ]
  },
  {
   "cell_type": "code",
   "execution_count": 11,
   "id": "6b809f6c",
   "metadata": {
    "execution": {
     "iopub.execute_input": "2024-10-24T05:53:19.675606Z",
     "iopub.status.busy": "2024-10-24T05:53:19.674960Z",
     "iopub.status.idle": "2024-10-24T05:53:19.680173Z",
     "shell.execute_reply": "2024-10-24T05:53:19.679282Z"
    },
    "papermill": {
     "duration": 0.014193,
     "end_time": "2024-10-24T05:53:19.682064",
     "exception": false,
     "start_time": "2024-10-24T05:53:19.667871",
     "status": "completed"
    },
    "tags": []
   },
   "outputs": [],
   "source": [
    "pipeline = Pipeline([\n",
    "    ('var_thresh', VarianceThreshold(threshold=0.1)),  # Remove features with low variance\n",
    "    ('k_best', SelectKBest(score_func=f_classif, k=20)),  # Select top 20 features\n",
    "    ('xgb', XGBClassifier(n_estimators=100, learning_rate=0.1, max_depth=5, random_state=42))\n",
    "])"
   ]
  },
  {
   "cell_type": "code",
   "execution_count": 12,
   "id": "2aa05139",
   "metadata": {
    "execution": {
     "iopub.execute_input": "2024-10-24T05:53:19.695167Z",
     "iopub.status.busy": "2024-10-24T05:53:19.694885Z",
     "iopub.status.idle": "2024-10-24T05:53:22.997866Z",
     "shell.execute_reply": "2024-10-24T05:53:22.996906Z"
    },
    "papermill": {
     "duration": 3.311803,
     "end_time": "2024-10-24T05:53:22.999897",
     "exception": false,
     "start_time": "2024-10-24T05:53:19.688094",
     "status": "completed"
    },
    "tags": []
   },
   "outputs": [
    {
     "data": {
      "text/html": [
       "<style>#sk-container-id-1 {color: black;background-color: white;}#sk-container-id-1 pre{padding: 0;}#sk-container-id-1 div.sk-toggleable {background-color: white;}#sk-container-id-1 label.sk-toggleable__label {cursor: pointer;display: block;width: 100%;margin-bottom: 0;padding: 0.3em;box-sizing: border-box;text-align: center;}#sk-container-id-1 label.sk-toggleable__label-arrow:before {content: \"▸\";float: left;margin-right: 0.25em;color: #696969;}#sk-container-id-1 label.sk-toggleable__label-arrow:hover:before {color: black;}#sk-container-id-1 div.sk-estimator:hover label.sk-toggleable__label-arrow:before {color: black;}#sk-container-id-1 div.sk-toggleable__content {max-height: 0;max-width: 0;overflow: hidden;text-align: left;background-color: #f0f8ff;}#sk-container-id-1 div.sk-toggleable__content pre {margin: 0.2em;color: black;border-radius: 0.25em;background-color: #f0f8ff;}#sk-container-id-1 input.sk-toggleable__control:checked~div.sk-toggleable__content {max-height: 200px;max-width: 100%;overflow: auto;}#sk-container-id-1 input.sk-toggleable__control:checked~label.sk-toggleable__label-arrow:before {content: \"▾\";}#sk-container-id-1 div.sk-estimator input.sk-toggleable__control:checked~label.sk-toggleable__label {background-color: #d4ebff;}#sk-container-id-1 div.sk-label input.sk-toggleable__control:checked~label.sk-toggleable__label {background-color: #d4ebff;}#sk-container-id-1 input.sk-hidden--visually {border: 0;clip: rect(1px 1px 1px 1px);clip: rect(1px, 1px, 1px, 1px);height: 1px;margin: -1px;overflow: hidden;padding: 0;position: absolute;width: 1px;}#sk-container-id-1 div.sk-estimator {font-family: monospace;background-color: #f0f8ff;border: 1px dotted black;border-radius: 0.25em;box-sizing: border-box;margin-bottom: 0.5em;}#sk-container-id-1 div.sk-estimator:hover {background-color: #d4ebff;}#sk-container-id-1 div.sk-parallel-item::after {content: \"\";width: 100%;border-bottom: 1px solid gray;flex-grow: 1;}#sk-container-id-1 div.sk-label:hover label.sk-toggleable__label {background-color: #d4ebff;}#sk-container-id-1 div.sk-serial::before {content: \"\";position: absolute;border-left: 1px solid gray;box-sizing: border-box;top: 0;bottom: 0;left: 50%;z-index: 0;}#sk-container-id-1 div.sk-serial {display: flex;flex-direction: column;align-items: center;background-color: white;padding-right: 0.2em;padding-left: 0.2em;position: relative;}#sk-container-id-1 div.sk-item {position: relative;z-index: 1;}#sk-container-id-1 div.sk-parallel {display: flex;align-items: stretch;justify-content: center;background-color: white;position: relative;}#sk-container-id-1 div.sk-item::before, #sk-container-id-1 div.sk-parallel-item::before {content: \"\";position: absolute;border-left: 1px solid gray;box-sizing: border-box;top: 0;bottom: 0;left: 50%;z-index: -1;}#sk-container-id-1 div.sk-parallel-item {display: flex;flex-direction: column;z-index: 1;position: relative;background-color: white;}#sk-container-id-1 div.sk-parallel-item:first-child::after {align-self: flex-end;width: 50%;}#sk-container-id-1 div.sk-parallel-item:last-child::after {align-self: flex-start;width: 50%;}#sk-container-id-1 div.sk-parallel-item:only-child::after {width: 0;}#sk-container-id-1 div.sk-dashed-wrapped {border: 1px dashed gray;margin: 0 0.4em 0.5em 0.4em;box-sizing: border-box;padding-bottom: 0.4em;background-color: white;}#sk-container-id-1 div.sk-label label {font-family: monospace;font-weight: bold;display: inline-block;line-height: 1.2em;}#sk-container-id-1 div.sk-label-container {text-align: center;}#sk-container-id-1 div.sk-container {/* jupyter's `normalize.less` sets `[hidden] { display: none; }` but bootstrap.min.css set `[hidden] { display: none !important; }` so we also need the `!important` here to be able to override the default hidden behavior on the sphinx rendered scikit-learn.org. See: https://github.com/scikit-learn/scikit-learn/issues/21755 */display: inline-block !important;position: relative;}#sk-container-id-1 div.sk-text-repr-fallback {display: none;}</style><div id=\"sk-container-id-1\" class=\"sk-top-container\"><div class=\"sk-text-repr-fallback\"><pre>Pipeline(steps=[(&#x27;var_thresh&#x27;, VarianceThreshold(threshold=0.1)),\n",
       "                (&#x27;k_best&#x27;, SelectKBest(k=20)),\n",
       "                (&#x27;xgb&#x27;,\n",
       "                 XGBClassifier(base_score=None, booster=None, callbacks=None,\n",
       "                               colsample_bylevel=None, colsample_bynode=None,\n",
       "                               colsample_bytree=None, device=None,\n",
       "                               early_stopping_rounds=None,\n",
       "                               enable_categorical=False, eval_metric=None,\n",
       "                               feature_types=None, gamma=None, grow_policy=None,\n",
       "                               importance_type=None,\n",
       "                               interaction_constraints=None, learning_rate=0.1,\n",
       "                               max_bin=None, max_cat_threshold=None,\n",
       "                               max_cat_to_onehot=None, max_delta_step=None,\n",
       "                               max_depth=5, max_leaves=None,\n",
       "                               min_child_weight=None, missing=nan,\n",
       "                               monotone_constraints=None, multi_strategy=None,\n",
       "                               n_estimators=100, n_jobs=None,\n",
       "                               num_parallel_tree=None, random_state=42, ...))])</pre><b>In a Jupyter environment, please rerun this cell to show the HTML representation or trust the notebook. <br />On GitHub, the HTML representation is unable to render, please try loading this page with nbviewer.org.</b></div><div class=\"sk-container\" hidden><div class=\"sk-item sk-dashed-wrapped\"><div class=\"sk-label-container\"><div class=\"sk-label sk-toggleable\"><input class=\"sk-toggleable__control sk-hidden--visually\" id=\"sk-estimator-id-1\" type=\"checkbox\" ><label for=\"sk-estimator-id-1\" class=\"sk-toggleable__label sk-toggleable__label-arrow\">Pipeline</label><div class=\"sk-toggleable__content\"><pre>Pipeline(steps=[(&#x27;var_thresh&#x27;, VarianceThreshold(threshold=0.1)),\n",
       "                (&#x27;k_best&#x27;, SelectKBest(k=20)),\n",
       "                (&#x27;xgb&#x27;,\n",
       "                 XGBClassifier(base_score=None, booster=None, callbacks=None,\n",
       "                               colsample_bylevel=None, colsample_bynode=None,\n",
       "                               colsample_bytree=None, device=None,\n",
       "                               early_stopping_rounds=None,\n",
       "                               enable_categorical=False, eval_metric=None,\n",
       "                               feature_types=None, gamma=None, grow_policy=None,\n",
       "                               importance_type=None,\n",
       "                               interaction_constraints=None, learning_rate=0.1,\n",
       "                               max_bin=None, max_cat_threshold=None,\n",
       "                               max_cat_to_onehot=None, max_delta_step=None,\n",
       "                               max_depth=5, max_leaves=None,\n",
       "                               min_child_weight=None, missing=nan,\n",
       "                               monotone_constraints=None, multi_strategy=None,\n",
       "                               n_estimators=100, n_jobs=None,\n",
       "                               num_parallel_tree=None, random_state=42, ...))])</pre></div></div></div><div class=\"sk-serial\"><div class=\"sk-item\"><div class=\"sk-estimator sk-toggleable\"><input class=\"sk-toggleable__control sk-hidden--visually\" id=\"sk-estimator-id-2\" type=\"checkbox\" ><label for=\"sk-estimator-id-2\" class=\"sk-toggleable__label sk-toggleable__label-arrow\">VarianceThreshold</label><div class=\"sk-toggleable__content\"><pre>VarianceThreshold(threshold=0.1)</pre></div></div></div><div class=\"sk-item\"><div class=\"sk-estimator sk-toggleable\"><input class=\"sk-toggleable__control sk-hidden--visually\" id=\"sk-estimator-id-3\" type=\"checkbox\" ><label for=\"sk-estimator-id-3\" class=\"sk-toggleable__label sk-toggleable__label-arrow\">SelectKBest</label><div class=\"sk-toggleable__content\"><pre>SelectKBest(k=20)</pre></div></div></div><div class=\"sk-item\"><div class=\"sk-estimator sk-toggleable\"><input class=\"sk-toggleable__control sk-hidden--visually\" id=\"sk-estimator-id-4\" type=\"checkbox\" ><label for=\"sk-estimator-id-4\" class=\"sk-toggleable__label sk-toggleable__label-arrow\">XGBClassifier</label><div class=\"sk-toggleable__content\"><pre>XGBClassifier(base_score=None, booster=None, callbacks=None,\n",
       "              colsample_bylevel=None, colsample_bynode=None,\n",
       "              colsample_bytree=None, device=None, early_stopping_rounds=None,\n",
       "              enable_categorical=False, eval_metric=None, feature_types=None,\n",
       "              gamma=None, grow_policy=None, importance_type=None,\n",
       "              interaction_constraints=None, learning_rate=0.1, max_bin=None,\n",
       "              max_cat_threshold=None, max_cat_to_onehot=None,\n",
       "              max_delta_step=None, max_depth=5, max_leaves=None,\n",
       "              min_child_weight=None, missing=nan, monotone_constraints=None,\n",
       "              multi_strategy=None, n_estimators=100, n_jobs=None,\n",
       "              num_parallel_tree=None, random_state=42, ...)</pre></div></div></div></div></div></div></div>"
      ],
      "text/plain": [
       "Pipeline(steps=[('var_thresh', VarianceThreshold(threshold=0.1)),\n",
       "                ('k_best', SelectKBest(k=20)),\n",
       "                ('xgb',\n",
       "                 XGBClassifier(base_score=None, booster=None, callbacks=None,\n",
       "                               colsample_bylevel=None, colsample_bynode=None,\n",
       "                               colsample_bytree=None, device=None,\n",
       "                               early_stopping_rounds=None,\n",
       "                               enable_categorical=False, eval_metric=None,\n",
       "                               feature_types=None, gamma=None, grow_policy=None,\n",
       "                               importance_type=None,\n",
       "                               interaction_constraints=None, learning_rate=0.1,\n",
       "                               max_bin=None, max_cat_threshold=None,\n",
       "                               max_cat_to_onehot=None, max_delta_step=None,\n",
       "                               max_depth=5, max_leaves=None,\n",
       "                               min_child_weight=None, missing=nan,\n",
       "                               monotone_constraints=None, multi_strategy=None,\n",
       "                               n_estimators=100, n_jobs=None,\n",
       "                               num_parallel_tree=None, random_state=42, ...))])"
      ]
     },
     "execution_count": 12,
     "metadata": {},
     "output_type": "execute_result"
    }
   ],
   "source": [
    "pipeline.fit(X_train, y_train)"
   ]
  },
  {
   "cell_type": "code",
   "execution_count": 13,
   "id": "d4891f0e",
   "metadata": {
    "execution": {
     "iopub.execute_input": "2024-10-24T05:53:23.014173Z",
     "iopub.status.busy": "2024-10-24T05:53:23.013850Z",
     "iopub.status.idle": "2024-10-24T05:53:23.352894Z",
     "shell.execute_reply": "2024-10-24T05:53:23.351964Z"
    },
    "papermill": {
     "duration": 0.348685,
     "end_time": "2024-10-24T05:53:23.355112",
     "exception": false,
     "start_time": "2024-10-24T05:53:23.006427",
     "status": "completed"
    },
    "tags": []
   },
   "outputs": [],
   "source": [
    "# Make predictions\n",
    "y_pred = pipeline.predict(X_test)\n",
    "y_pred_proba = pipeline.predict_proba(X_test)[:, 1]  # Probability estimates for ROC-AUC"
   ]
  },
  {
   "cell_type": "code",
   "execution_count": 14,
   "id": "e4e59145",
   "metadata": {
    "execution": {
     "iopub.execute_input": "2024-10-24T05:53:23.370780Z",
     "iopub.status.busy": "2024-10-24T05:53:23.370449Z",
     "iopub.status.idle": "2024-10-24T05:53:23.717062Z",
     "shell.execute_reply": "2024-10-24T05:53:23.716120Z"
    },
    "papermill": {
     "duration": 0.356474,
     "end_time": "2024-10-24T05:53:23.719172",
     "exception": false,
     "start_time": "2024-10-24T05:53:23.362698",
     "status": "completed"
    },
    "tags": []
   },
   "outputs": [
    {
     "name": "stdout",
     "output_type": "stream",
     "text": [
      "Accuracy: 0.952683251405448\n",
      "Confusion Matrix:\n",
      "[[68029  5609]\n",
      " [ 1360 72286]]\n",
      "              precision    recall  f1-score   support\n",
      "\n",
      "           0       0.98      0.92      0.95     73638\n",
      "           1       0.93      0.98      0.95     73646\n",
      "\n",
      "    accuracy                           0.95    147284\n",
      "   macro avg       0.95      0.95      0.95    147284\n",
      "weighted avg       0.95      0.95      0.95    147284\n",
      "\n",
      "AUC of ROC: 0.987117556145771\n"
     ]
    },
    {
     "data": {
      "image/png": "[encoded data removed]",
      "text/plain": [
       "<Figure size 640x480 with 1 Axes>"
      ]
     },
     "metadata": {},
     "output_type": "display_data"
    }
   ],
   "source": [
    "# Evaluate the model\n",
    "print(\"Accuracy:\", accuracy_score(y_test, y_pred))\n",
    "print(\"Confusion Matrix:\")\n",
    "print(confusion_matrix(y_test, y_pred))\n",
    "print(classification_report(y_test, y_pred))\n",
    "\n",
    "# Calculate AUC of ROC\n",
    "roc_auc = roc_auc_score(y_test, y_pred_proba)\n",
    "print(\"AUC of ROC:\", roc_auc)\n",
    "\n",
    "# Plot ROC curve\n",
    "fpr, tpr, _ = roc_curve(y_test, y_pred_proba)\n",
    "plt.figure()\n",
    "plt.plot(fpr, tpr, color='blue', label='ROC curve (AUC = %0.2f)' % roc_auc)\n",
    "plt.plot([0, 1], [0, 1], color='grey', linestyle='--')\n",
    "plt.xlabel('False Positive Rate')\n",
    "plt.ylabel('True Positive Rate')\n",
    "plt.title('Receiver Operating Characteristic (ROC) Curve')\n",
    "plt.legend(loc=\"lower right\")\n",
    "plt.show()"
   ]
  },
  {
   "cell_type": "code",
   "execution_count": 15,
   "id": "00447d01",
   "metadata": {
    "execution": {
     "iopub.execute_input": "2024-10-24T05:53:23.735569Z",
     "iopub.status.busy": "2024-10-24T05:53:23.734788Z",
     "iopub.status.idle": "2024-10-24T05:53:25.723416Z",
     "shell.execute_reply": "2024-10-24T05:53:25.722612Z"
    },
    "papermill": {
     "duration": 1.998838,
     "end_time": "2024-10-24T05:53:25.725690",
     "exception": false,
     "start_time": "2024-10-24T05:53:23.726852",
     "status": "completed"
    },
    "tags": []
   },
   "outputs": [],
   "source": [
    "df_test = pd.read_csv('/kaggle/input/imlcomp1/test_set.csv')"
   ]
  },
  {
   "cell_type": "code",
   "execution_count": 16,
   "id": "62a50747",
   "metadata": {
    "execution": {
     "iopub.execute_input": "2024-10-24T05:53:25.741374Z",
     "iopub.status.busy": "2024-10-24T05:53:25.741056Z",
     "iopub.status.idle": "2024-10-24T05:53:25.844258Z",
     "shell.execute_reply": "2024-10-24T05:53:25.843478Z"
    },
    "papermill": {
     "duration": 0.113583,
     "end_time": "2024-10-24T05:53:25.846619",
     "exception": false,
     "start_time": "2024-10-24T05:53:25.733036",
     "status": "completed"
    },
    "tags": []
   },
   "outputs": [],
   "source": [
    "df_test_filled = df_test.fillna(df_test.mean())"
   ]
  },
  {
   "cell_type": "code",
   "execution_count": 17,
   "id": "8b91a599",
   "metadata": {
    "execution": {
     "iopub.execute_input": "2024-10-24T05:53:25.862680Z",
     "iopub.status.busy": "2024-10-24T05:53:25.862123Z",
     "iopub.status.idle": "2024-10-24T05:53:26.100953Z",
     "shell.execute_reply": "2024-10-24T05:53:26.099906Z"
    },
    "papermill": {
     "duration": 0.249211,
     "end_time": "2024-10-24T05:53:26.103366",
     "exception": false,
     "start_time": "2024-10-24T05:53:25.854155",
     "status": "completed"
    },
    "tags": []
   },
   "outputs": [],
   "source": [
    "# Make predictions\n",
    "y_pred = pipeline.predict(df_test_filled)\n",
    "y_pred_proba = pipeline.predict_proba(df_test_filled)[:, 1]  # Probability estimates for ROC-AUC"
   ]
  },
  {
   "cell_type": "code",
   "execution_count": 18,
   "id": "d8dc9089",
   "metadata": {
    "execution": {
     "iopub.execute_input": "2024-10-24T05:53:26.120504Z",
     "iopub.status.busy": "2024-10-24T05:53:26.120166Z",
     "iopub.status.idle": "2024-10-24T05:53:26.247580Z",
     "shell.execute_reply": "2024-10-24T05:53:26.246536Z"
    },
    "papermill": {
     "duration": 0.137484,
     "end_time": "2024-10-24T05:53:26.249542",
     "exception": false,
     "start_time": "2024-10-24T05:53:26.112058",
     "status": "completed"
    },
    "tags": []
   },
   "outputs": [
    {
     "name": "stdout",
     "output_type": "stream",
     "text": [
      "Predictions made on the test set and saved to 'test_predictions.csv'.\n"
     ]
    }
   ],
   "source": [
    "# Save the test predictions (if needed)\n",
    "df_test_filled['Y'] = y_pred\n",
    "df_test_filled[['RecordId', 'Y']].to_csv('test_predictions.csv', index=False)\n",
    "\n",
    "print(\"Predictions made on the test set and saved to 'test_predictions.csv'.\")"
   ]
  }
 ],
 "metadata": {
  "kaggle": {
   "accelerator": "none",
   "dataSources": [
    {
     "datasetId": 5928584,
     "sourceId": 9696128,
     "sourceType": "datasetVersion"
    }
   ],
   "dockerImageVersionId": 30786,
   "isGpuEnabled": false,
   "isInternetEnabled": true,
   "language": "python",
   "sourceType": "notebook"
  },
  "kernelspec": {
   "display_name": "Python 3",
   "language": "python",
   "name": "python3"
  },
  "language_info": {
   "codemirror_mode": {
    "name": "ipython",
    "version": 3
   },
   "file_extension": ".py",
   "mimetype": "text/x-python",
   "name": "python",
   "nbconvert_exporter": "python",
   "pygments_lexer": "ipython3",
   "version": "3.10.14"
  },
  "papermill": {
   "default_parameters": {},
   "duration": 19.982353,
   "end_time": "2024-10-24T05:53:26.775707",
   "environment_variables": {},
   "exception": null,
   "input_path": "__notebook__.ipynb",
   "output_path": "__notebook__.ipynb",
   "parameters": {},
   "start_time": "2024-10-24T05:53:06.793354",
   "version": "2.6.0"
  }
 },
 "nbformat": 4,
 "nbformat_minor": 5
}
