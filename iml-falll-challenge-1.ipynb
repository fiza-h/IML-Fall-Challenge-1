{
 "cells": [
  {
   "cell_type": "markdown",
   "id": "ae05afc9",
   "metadata": {
    "_cell_guid": "dde26cec-5a8b-4d05-beb9-e0ce5be1c208",
    "_uuid": "51640fb9-1abb-4bb4-80da-087e91ef8672",
    "collapsed": false,
    "jupyter": {
     "outputs_hidden": false
    },
    "papermill": {
     "duration": 0.010023,
     "end_time": "2024-11-10T18:44:33.214374",
     "exception": false,
     "start_time": "2024-11-10T18:44:33.204351",
     "status": "completed"
    },
    "tags": []
   },
   "source": [
    "Findings and Insights\n",
    "Handling Missing Values: KNNImputer successfully handled missing data by filling in the gaps based on the nearest neighbors' values.\n",
    "Correlation Handling: The removal of highly correlated features (correlation above 0.8) helped reduce redundancy in the model, potentially improving performance and reducing overfitting.\n",
    "Model Optimization: The use of Bayesian optimization with BayesSearchCV led to the identification of optimal hyperparameters for the XGBoost model, resulting in a more accurate classifier.\n",
    "Model Performance: After hyperparameter tuning, the model achieved a high validation accuracy, demonstrating the effectiveness of Bayesian optimization in improving model performance.\n",
    "Final Submission: Predictions were made on the test set, and the results were saved in a submission file, ready for further evaluation.\n",
    "In conclusion, the combination of data preprocessing, feature selection, and Bayesian hyperparameter optimization resulted in a robust XGBoost model for the given classification task."
   ]
  },
  {
   "cell_type": "code",
   "execution_count": 1,
   "id": "e6af5e37",
   "metadata": {
    "_cell_guid": "2464d001-6b99-4f26-ab08-3f303bb4ae85",
    "_uuid": "a2a32f82-75c4-499a-9b7a-606304c77c7a",
    "collapsed": false,
    "execution": {
     "iopub.execute_input": "2024-11-10T18:44:33.235235Z",
     "iopub.status.busy": "2024-11-10T18:44:33.234869Z",
     "iopub.status.idle": "2024-11-10T18:44:42.458490Z",
     "shell.execute_reply": "2024-11-10T18:44:42.457657Z"
    },
    "jupyter": {
     "outputs_hidden": false
    },
    "papermill": {
     "duration": 9.236187,
     "end_time": "2024-11-10T18:44:42.460862",
     "exception": false,
     "start_time": "2024-11-10T18:44:33.224675",
     "status": "completed"
    },
    "tags": []
   },
   "outputs": [
    {
     "name": "stdout",
     "output_type": "stream",
     "text": [
      "Training set\n",
      "   RecordId         X2         X3  X4  X5  X6          X7  X8   X9  X10  ...  \\\n",
      "0         1  87.000000  34.118411   0   2   0  165.100000   1  829    2  ...   \n",
      "1         2  82.372284  31.573280   0   0   1  162.983897   1  724    0  ...   \n",
      "2         3  50.000000  27.771653   0   0   1  165.100000   1  895    2  ...   \n",
      "3         4  66.236109  26.515922   0   0   1  167.009549   1  637    0  ...   \n",
      "4         5  81.303299  20.843691   0   0   1  158.165419   0  564    0  ...   \n",
      "\n",
      "        X70  X71  X72  X73  X74  X75  X76  X77  X78  Y  \n",
      "0  0.040000  0.0  0.0  0.0  0.0  0.0  0.0  0.0  0.0  0  \n",
      "1  0.033431  0.0  0.0  0.0  0.0  0.0  0.0  0.0  0.0  0  \n",
      "2  0.010000  0.0  0.0  0.0  0.0  0.0  0.0  0.0  0.0  0  \n",
      "3  0.039363  0.0  0.0  0.0  0.0  0.0  0.0  0.0  0.0  0  \n",
      "4  0.069242  0.0  0.0  0.0  0.0  0.0  0.0  0.0  0.0  0  \n",
      "\n",
      "[5 rows x 79 columns]\n",
      "test set\n",
      "   RecordId         X2         X3  X4  X5  X6          X7  X8   X9  X10  ...  \\\n",
      "0    300001  79.000000  17.122318   0   0   1  170.200000   1  700    0  ...   \n",
      "1    300002  38.000000  43.693579   0   0   1  165.100000   1  814    0  ...   \n",
      "2    300003  36.064225  23.998944   0   0   1  167.086735   1  662    0  ...   \n",
      "3    300004  61.846764  31.693449   0   3   1  182.355708   2  862    0  ...   \n",
      "4    300005  71.591991  20.086147   1   0   1  166.704917   2  335    0  ...   \n",
      "\n",
      "        X69       X70  X71  X72  X73  X74  X75  X76  X77  X78  \n",
      "0  0.070000  0.030000  0.0  0.0  0.0  0.0  0.0  0.0  0.0  0.0  \n",
      "1  0.050000  0.040000  0.0  0.0  0.0  0.0  0.0  0.0  0.0  0.0  \n",
      "2  0.006948  0.006948  0.0  0.0  0.0  0.0  0.0  0.0  0.0  0.0  \n",
      "3  0.062613  0.033153  0.0  0.0  0.0  0.0  0.0  0.0  0.0  0.0  \n",
      "4  0.014854  0.004854  0.0  0.0  0.0  0.0  0.0  0.0  0.0  0.0  \n",
      "\n",
      "[5 rows x 78 columns]\n"
     ]
    }
   ],
   "source": [
    "import pandas as p\n",
    "print(\"Training set\")\n",
    "train_df = p.read_csv('/kaggle/input/imlcomp1/train_set.csv')\n",
    "test_df = p.read_csv('/kaggle/input/imlcomp1/test_set.csv')\n",
    "print(train_df.head())\n",
    "print(\"test set\")\n",
    "print(test_df.head())\n",
    "from sklearn.impute import KNNImputer"
   ]
  },
  {
   "cell_type": "code",
   "execution_count": 2,
   "id": "4f9ae1bd",
   "metadata": {
    "_cell_guid": "56a3d8d9-94c1-428d-ae92-e827206c2c85",
    "_uuid": "611143d5-252f-4f62-a4ec-dfb8aa310dfc",
    "collapsed": false,
    "execution": {
     "iopub.execute_input": "2024-11-10T18:44:42.481667Z",
     "iopub.status.busy": "2024-11-10T18:44:42.481232Z",
     "iopub.status.idle": "2024-11-10T18:54:01.300874Z",
     "shell.execute_reply": "2024-11-10T18:54:01.299837Z"
    },
    "jupyter": {
     "outputs_hidden": false
    },
    "papermill": {
     "duration": 558.832584,
     "end_time": "2024-11-10T18:54:01.303488",
     "exception": false,
     "start_time": "2024-11-10T18:44:42.470904",
     "status": "completed"
    },
    "tags": []
   },
   "outputs": [],
   "source": [
    "imputer = KNNImputer(n_neighbors=25)\n",
    "train_df.loc[:, train_df.columns != 'Y'] = imputer.fit_transform(train_df.loc[:, train_df.columns != 'Y'])"
   ]
  },
  {
   "cell_type": "code",
   "execution_count": 3,
   "id": "0e2e99a5",
   "metadata": {
    "_cell_guid": "b0db43f0-aa38-48e3-8514-347403ff2f7d",
    "_uuid": "bf526538-a1f2-4785-85f3-cfda1adddfd2",
    "collapsed": false,
    "execution": {
     "iopub.execute_input": "2024-11-10T18:54:01.324919Z",
     "iopub.status.busy": "2024-11-10T18:54:01.324210Z",
     "iopub.status.idle": "2024-11-10T18:54:01.328428Z",
     "shell.execute_reply": "2024-11-10T18:54:01.327543Z"
    },
    "jupyter": {
     "outputs_hidden": false
    },
    "papermill": {
     "duration": 0.016562,
     "end_time": "2024-11-10T18:54:01.330249",
     "exception": false,
     "start_time": "2024-11-10T18:54:01.313687",
     "status": "completed"
    },
    "tags": []
   },
   "outputs": [],
   "source": [
    "dropped_columns = []"
   ]
  },
  {
   "cell_type": "code",
   "execution_count": 4,
   "id": "ab4c792d",
   "metadata": {
    "_cell_guid": "00c999d3-7c44-4252-9768-7b52f8650d8a",
    "_uuid": "4daa0df5-a088-46cf-9dba-07e8476d5319",
    "collapsed": false,
    "execution": {
     "iopub.execute_input": "2024-11-10T18:54:01.350369Z",
     "iopub.status.busy": "2024-11-10T18:54:01.349996Z",
     "iopub.status.idle": "2024-11-10T18:54:01.354214Z",
     "shell.execute_reply": "2024-11-10T18:54:01.353369Z"
    },
    "jupyter": {
     "outputs_hidden": false
    },
    "papermill": {
     "duration": 0.016478,
     "end_time": "2024-11-10T18:54:01.356194",
     "exception": false,
     "start_time": "2024-11-10T18:54:01.339716",
     "status": "completed"
    },
    "tags": []
   },
   "outputs": [],
   "source": [
    "import pandas as pd\n",
    "import numpy as np  # Explicitly import numpy"
   ]
  },
  {
   "cell_type": "code",
   "execution_count": 5,
   "id": "ce5394b7",
   "metadata": {
    "_cell_guid": "c4f3da90-6782-4260-90c1-a2cb4201cde8",
    "_uuid": "46a2cccc-e731-4d58-936f-265be6030553",
    "collapsed": false,
    "execution": {
     "iopub.execute_input": "2024-11-10T18:54:01.376521Z",
     "iopub.status.busy": "2024-11-10T18:54:01.376227Z",
     "iopub.status.idle": "2024-11-10T18:54:04.957745Z",
     "shell.execute_reply": "2024-11-10T18:54:04.956930Z"
    },
    "jupyter": {
     "outputs_hidden": false
    },
    "papermill": {
     "duration": 3.594073,
     "end_time": "2024-11-10T18:54:04.960179",
     "exception": false,
     "start_time": "2024-11-10T18:54:01.366106",
     "status": "completed"
    },
    "tags": []
   },
   "outputs": [],
   "source": [
    "# Calculate the correlation matrix\n",
    "correlation_matrix = train_df.corr().abs()"
   ]
  },
  {
   "cell_type": "code",
   "execution_count": 6,
   "id": "e4b8b77a",
   "metadata": {
    "_cell_guid": "0a05563f-0115-4cd4-a52e-b4e4ab3948ce",
    "_uuid": "9bd23fa3-b03c-46be-8f3f-62d6bf86878c",
    "collapsed": false,
    "execution": {
     "iopub.execute_input": "2024-11-10T18:54:04.980663Z",
     "iopub.status.busy": "2024-11-10T18:54:04.980332Z",
     "iopub.status.idle": "2024-11-10T18:54:04.984700Z",
     "shell.execute_reply": "2024-11-10T18:54:04.983740Z"
    },
    "jupyter": {
     "outputs_hidden": false
    },
    "papermill": {
     "duration": 0.016756,
     "end_time": "2024-11-10T18:54:04.986622",
     "exception": false,
     "start_time": "2024-11-10T18:54:04.969866",
     "status": "completed"
    },
    "tags": []
   },
   "outputs": [],
   "source": [
    "# Set threshold for removing correlated features before it was 0.85\n",
    "correlation_threshold = 0.8"
   ]
  },
  {
   "cell_type": "code",
   "execution_count": 7,
   "id": "a22881bd",
   "metadata": {
    "_cell_guid": "fa4ae58d-4ec9-421f-b681-a4e7d733a864",
    "_uuid": "8726c0fe-e723-4b60-b170-4d7115831a36",
    "collapsed": false,
    "execution": {
     "iopub.execute_input": "2024-11-10T18:54:05.006706Z",
     "iopub.status.busy": "2024-11-10T18:54:05.006164Z",
     "iopub.status.idle": "2024-11-10T18:54:05.012416Z",
     "shell.execute_reply": "2024-11-10T18:54:05.011559Z"
    },
    "jupyter": {
     "outputs_hidden": false
    },
    "papermill": {
     "duration": 0.018355,
     "end_time": "2024-11-10T18:54:05.014281",
     "exception": false,
     "start_time": "2024-11-10T18:54:04.995926",
     "status": "completed"
    },
    "tags": []
   },
   "outputs": [],
   "source": [
    "# Select upper triangle of the correlation matrix\n",
    "upper_triangle = correlation_matrix.where(np.triu(np.ones(correlation_matrix.shape), k=1).astype(bool))"
   ]
  },
  {
   "cell_type": "code",
   "execution_count": 8,
   "id": "33700b85",
   "metadata": {
    "_cell_guid": "df6312b2-be1a-49e2-98b8-e1b78f086eba",
    "_uuid": "8865a01d-d338-4c29-8989-48e1a0f32c1f",
    "collapsed": false,
    "execution": {
     "iopub.execute_input": "2024-11-10T18:54:05.034024Z",
     "iopub.status.busy": "2024-11-10T18:54:05.033457Z",
     "iopub.status.idle": "2024-11-10T18:54:05.047085Z",
     "shell.execute_reply": "2024-11-10T18:54:05.046339Z"
    },
    "jupyter": {
     "outputs_hidden": false
    },
    "papermill": {
     "duration": 0.025375,
     "end_time": "2024-11-10T18:54:05.048900",
     "exception": false,
     "start_time": "2024-11-10T18:54:05.023525",
     "status": "completed"
    },
    "tags": []
   },
   "outputs": [],
   "source": [
    "# Identify features to drop based on the correlation threshold\n",
    "to_drop = [column for column in upper_triangle.columns if any(upper_triangle[column] > correlation_threshold)]"
   ]
  },
  {
   "cell_type": "code",
   "execution_count": 9,
   "id": "c2e9418e",
   "metadata": {
    "_cell_guid": "4177206b-5a05-4d65-a7db-4bc7bbc8a273",
    "_uuid": "fd828ed9-ac55-4d50-81e8-57a3f4d0bc94",
    "collapsed": false,
    "execution": {
     "iopub.execute_input": "2024-11-10T18:54:05.069427Z",
     "iopub.status.busy": "2024-11-10T18:54:05.069153Z",
     "iopub.status.idle": "2024-11-10T18:54:05.073802Z",
     "shell.execute_reply": "2024-11-10T18:54:05.073102Z"
    },
    "jupyter": {
     "outputs_hidden": false
    },
    "papermill": {
     "duration": 0.016789,
     "end_time": "2024-11-10T18:54:05.075690",
     "exception": false,
     "start_time": "2024-11-10T18:54:05.058901",
     "status": "completed"
    },
    "tags": []
   },
   "outputs": [],
   "source": [
    "# Store the names of dropped columns\n",
    "dropped_columns = to_drop.copy()"
   ]
  },
  {
   "cell_type": "code",
   "execution_count": 10,
   "id": "efed2bfb",
   "metadata": {
    "_cell_guid": "acc7f59b-0a85-4993-a53f-00649bfad422",
    "_uuid": "bf12f01a-7b61-4d48-bce0-78692118641e",
    "collapsed": false,
    "execution": {
     "iopub.execute_input": "2024-11-10T18:54:05.095388Z",
     "iopub.status.busy": "2024-11-10T18:54:05.095087Z",
     "iopub.status.idle": "2024-11-10T18:54:05.131112Z",
     "shell.execute_reply": "2024-11-10T18:54:05.130339Z"
    },
    "jupyter": {
     "outputs_hidden": false
    },
    "papermill": {
     "duration": 0.048583,
     "end_time": "2024-11-10T18:54:05.133445",
     "exception": false,
     "start_time": "2024-11-10T18:54:05.084862",
     "status": "completed"
    },
    "tags": []
   },
   "outputs": [],
   "source": [
    "# Drop the highly correlated features from the training set\n",
    "train_df_reduced = train_df.drop(columns=to_drop)"
   ]
  },
  {
   "cell_type": "code",
   "execution_count": 11,
   "id": "6194c796",
   "metadata": {
    "_cell_guid": "38e4ad27-365f-4105-bf53-14bccaed41dd",
    "_uuid": "acf45832-60b8-4827-b1a6-6ff5e856c220",
    "collapsed": false,
    "execution": {
     "iopub.execute_input": "2024-11-10T18:54:05.153770Z",
     "iopub.status.busy": "2024-11-10T18:54:05.153488Z",
     "iopub.status.idle": "2024-11-10T18:54:05.189789Z",
     "shell.execute_reply": "2024-11-10T18:54:05.188956Z"
    },
    "jupyter": {
     "outputs_hidden": false
    },
    "papermill": {
     "duration": 0.048853,
     "end_time": "2024-11-10T18:54:05.192026",
     "exception": false,
     "start_time": "2024-11-10T18:54:05.143173",
     "status": "completed"
    },
    "tags": []
   },
   "outputs": [],
   "source": [
    "# Redefine Features and Target with reduced features\n",
    "Features_reduced = train_df_reduced.drop(columns=['RecordId', 'Y'])\n",
    "Target = train_df_reduced['Y']"
   ]
  },
  {
   "cell_type": "code",
   "execution_count": 12,
   "id": "5e7e8ec4",
   "metadata": {
    "_cell_guid": "16dd116e-aa92-4a0b-a24e-7679486eef87",
    "_uuid": "a44a92b6-b5a1-44d7-90a1-9fdddf1f42f1",
    "collapsed": false,
    "execution": {
     "iopub.execute_input": "2024-11-10T18:54:05.212196Z",
     "iopub.status.busy": "2024-11-10T18:54:05.211885Z",
     "iopub.status.idle": "2024-11-10T18:54:05.226759Z",
     "shell.execute_reply": "2024-11-10T18:54:05.225864Z"
    },
    "jupyter": {
     "outputs_hidden": false
    },
    "papermill": {
     "duration": 0.027571,
     "end_time": "2024-11-10T18:54:05.229234",
     "exception": false,
     "start_time": "2024-11-10T18:54:05.201663",
     "status": "completed"
    },
    "tags": []
   },
   "outputs": [
    {
     "name": "stdout",
     "output_type": "stream",
     "text": [
      "Features reduced from 79 to 58\n",
      "          X2         X3  X4  X5  X6          X7  X8   X9  X10  X11  ...  \\\n",
      "0  87.000000  34.118411   0   2   0  165.100000   1  829    2    7  ...   \n",
      "1  82.372284  31.573280   0   0   1  162.983897   1  724    0    4  ...   \n",
      "2  50.000000  27.771653   0   0   1  165.100000   1  895    2    7  ...   \n",
      "3  66.236109  26.515922   0   0   1  167.009549   1  637    0    7  ...   \n",
      "4  81.303299  20.843691   0   0   1  158.165419   0  564    0    5  ...   \n",
      "\n",
      "        X68       X69  X71  X72  X73  X74  X75  X76  X77  X78  \n",
      "0  4.200000  0.110000  0.0  0.0  0.0  0.0  0.0  0.0  0.0  0.0  \n",
      "1  3.718976  0.100292  0.0  0.0  0.0  0.0  0.0  0.0  0.0  0.0  \n",
      "2  3.800000  0.020000  0.0  0.0  0.0  0.0  0.0  0.0  0.0  0.0  \n",
      "3  4.285677  0.108249  0.0  0.0  0.0  0.0  0.0  0.0  0.0  0.0  \n",
      "4  3.769194  0.164645  0.0  0.0  0.0  0.0  0.0  0.0  0.0  0.0  \n",
      "\n",
      "[5 rows x 56 columns]\n",
      "['X16', 'X29', 'X30', 'X31', 'X33', 'X34', 'X35', 'X36', 'X43', 'X44', 'X49', 'X50', 'X52', 'X53', 'X54', 'X55', 'X56', 'X62', 'X63', 'X64', 'X70']\n"
     ]
    }
   ],
   "source": [
    "# Print the reduced feature set\n",
    "print(f\"Features reduced from {train_df.shape[1]} to {train_df_reduced.shape[1]}\")\n",
    "print(Features_reduced.head())\n",
    "print(dropped_columns)"
   ]
  },
  {
   "cell_type": "code",
   "execution_count": 13,
   "id": "cd965dc6",
   "metadata": {
    "_cell_guid": "f273e2e1-3520-44fa-be82-5b2610f10ae5",
    "_uuid": "4b596bc0-a5ea-42ce-aaa2-1805ade64ef3",
    "collapsed": false,
    "execution": {
     "iopub.execute_input": "2024-11-10T18:54:05.249430Z",
     "iopub.status.busy": "2024-11-10T18:54:05.249149Z",
     "iopub.status.idle": "2024-11-10T18:54:05.758830Z",
     "shell.execute_reply": "2024-11-10T18:54:05.758011Z"
    },
    "jupyter": {
     "outputs_hidden": false
    },
    "papermill": {
     "duration": 0.522249,
     "end_time": "2024-11-10T18:54:05.761080",
     "exception": false,
     "start_time": "2024-11-10T18:54:05.238831",
     "status": "completed"
    },
    "tags": []
   },
   "outputs": [],
   "source": [
    "# Scaling\n",
    "from sklearn.preprocessing import RobustScaler\n",
    "\n",
    "scaler = RobustScaler()\n",
    "Features = scaler.fit_transform(Features_reduced)"
   ]
  },
  {
   "cell_type": "code",
   "execution_count": 14,
   "id": "e50a5e7e",
   "metadata": {
    "_cell_guid": "6a685212-8e48-4f7c-8b4e-94b58bca2749",
    "_uuid": "345fedee-3b5f-4ecb-a241-81218ba8f2f4",
    "collapsed": false,
    "execution": {
     "iopub.execute_input": "2024-11-10T18:54:05.781732Z",
     "iopub.status.busy": "2024-11-10T18:54:05.781410Z",
     "iopub.status.idle": "2024-11-10T18:54:05.936107Z",
     "shell.execute_reply": "2024-11-10T18:54:05.935356Z"
    },
    "jupyter": {
     "outputs_hidden": false
    },
    "papermill": {
     "duration": 0.167549,
     "end_time": "2024-11-10T18:54:05.938442",
     "exception": false,
     "start_time": "2024-11-10T18:54:05.770893",
     "status": "completed"
    },
    "tags": []
   },
   "outputs": [],
   "source": [
    "import pandas as pd\n",
    "import numpy as np\n",
    "from sklearn.model_selection import train_test_split\n",
    "from sklearn.metrics import accuracy_score, roc_auc_score\n",
    "import xgboost as xgb\n",
    "import random"
   ]
  },
  {
   "cell_type": "code",
   "execution_count": 15,
   "id": "80b64965",
   "metadata": {
    "_cell_guid": "68177724-9ebe-4a3b-9f6e-ce03be7d0991",
    "_uuid": "1cfa8990-e5cc-41dc-b48c-967d7145c752",
    "collapsed": false,
    "execution": {
     "iopub.execute_input": "2024-11-10T18:54:05.958952Z",
     "iopub.status.busy": "2024-11-10T18:54:05.958642Z",
     "iopub.status.idle": "2024-11-10T18:54:06.073735Z",
     "shell.execute_reply": "2024-11-10T18:54:06.072926Z"
    },
    "jupyter": {
     "outputs_hidden": false
    },
    "papermill": {
     "duration": 0.127624,
     "end_time": "2024-11-10T18:54:06.076008",
     "exception": false,
     "start_time": "2024-11-10T18:54:05.948384",
     "status": "completed"
    },
    "tags": []
   },
   "outputs": [],
   "source": [
    "# Assuming Features_reduced_cleaned and Target are already defined\n",
    "# Step 1: Perform a 70/30 train-test split\n",
    "train_f, val_f, train_t, val_t = train_test_split(Features_reduced, Target, test_size=0.30, random_state=42)"
   ]
  },
  {
   "cell_type": "code",
   "execution_count": 16,
   "id": "5c624120",
   "metadata": {
    "_cell_guid": "cc732cad-09b0-43ca-b4e9-3e67a8489b76",
    "_uuid": "9eb6ca31-786d-4813-b766-f56e57079eb3",
    "collapsed": false,
    "execution": {
     "iopub.execute_input": "2024-11-10T18:54:06.096970Z",
     "iopub.status.busy": "2024-11-10T18:54:06.096140Z",
     "iopub.status.idle": "2024-11-10T18:54:06.457859Z",
     "shell.execute_reply": "2024-11-10T18:54:06.457011Z"
    },
    "jupyter": {
     "outputs_hidden": false
    },
    "papermill": {
     "duration": 0.374712,
     "end_time": "2024-11-10T18:54:06.460356",
     "exception": false,
     "start_time": "2024-11-10T18:54:06.085644",
     "status": "completed"
    },
    "tags": []
   },
   "outputs": [],
   "source": [
    "# Step 2: Set up data for XGBoost\n",
    "train_data = xgb.DMatrix(train_f, label=train_t)\n",
    "val_data = xgb.DMatrix(val_f, label=val_t)"
   ]
  },
  {
   "cell_type": "code",
   "execution_count": 17,
   "id": "1a7e0a7d",
   "metadata": {
    "_cell_guid": "3ebcf0e4-753e-45ba-945b-c82ee450634f",
    "_uuid": "62103b89-703e-4131-bb9b-bdae00afcc59",
    "collapsed": false,
    "execution": {
     "iopub.execute_input": "2024-11-10T18:54:06.482797Z",
     "iopub.status.busy": "2024-11-10T18:54:06.482449Z",
     "iopub.status.idle": "2024-11-10T18:54:06.629176Z",
     "shell.execute_reply": "2024-11-10T18:54:06.628415Z"
    },
    "jupyter": {
     "outputs_hidden": false
    },
    "papermill": {
     "duration": 0.159751,
     "end_time": "2024-11-10T18:54:06.631327",
     "exception": false,
     "start_time": "2024-11-10T18:54:06.471576",
     "status": "completed"
    },
    "tags": []
   },
   "outputs": [],
   "source": [
    "from skopt import BayesSearchCV\n",
    "from skopt.space import Real, Integer\n",
    "from xgboost import XGBClassifier\n",
    "from sklearn.model_selection import cross_val_score"
   ]
  },
  {
   "cell_type": "code",
   "execution_count": 18,
   "id": "84e6bd96",
   "metadata": {
    "_cell_guid": "a1551434-5cc1-4093-a6dc-9f73dd30198c",
    "_uuid": "5f2529ac-fec4-4a93-bffd-a0b598ee0767",
    "collapsed": false,
    "execution": {
     "iopub.execute_input": "2024-11-10T18:54:06.652722Z",
     "iopub.status.busy": "2024-11-10T18:54:06.651499Z",
     "iopub.status.idle": "2024-11-10T18:54:06.664995Z",
     "shell.execute_reply": "2024-11-10T18:54:06.664149Z"
    },
    "jupyter": {
     "outputs_hidden": false
    },
    "papermill": {
     "duration": 0.026015,
     "end_time": "2024-11-10T18:54:06.666899",
     "exception": false,
     "start_time": "2024-11-10T18:54:06.640884",
     "status": "completed"
    },
    "tags": []
   },
   "outputs": [],
   "source": [
    "# Define the search space\n",
    "param_space = {\n",
    "    'max_depth': Integer(10, 15),\n",
    "    'learning_rate': Real(0.01, 0.1, 'log-uniform'),\n",
    "    'n_estimators': Integer(500, 750),\n",
    "    'gamma': Real(0, 0.5),\n",
    "    'min_child_weight': Integer(1, 10),\n",
    "    'subsample': Real(0.5, 1.0),\n",
    "    'colsample_bytree': Real(0.5, 1.0),\n",
    "    'alpha': Real(0, 10),\n",
    "    'lambda': Real(0, 10)\n",
    "}"
   ]
  },
  {
   "cell_type": "code",
   "execution_count": 19,
   "id": "b2db992c",
   "metadata": {
    "_cell_guid": "6d35b4b1-141f-4733-8173-1d6d9806843f",
    "_uuid": "2bfda127-30f5-4741-977e-7bd4d9db33c6",
    "collapsed": false,
    "execution": {
     "iopub.execute_input": "2024-11-10T18:54:06.686835Z",
     "iopub.status.busy": "2024-11-10T18:54:06.686528Z",
     "iopub.status.idle": "2024-11-10T18:54:06.690316Z",
     "shell.execute_reply": "2024-11-10T18:54:06.689473Z"
    },
    "jupyter": {
     "outputs_hidden": false
    },
    "papermill": {
     "duration": 0.016046,
     "end_time": "2024-11-10T18:54:06.692340",
     "exception": false,
     "start_time": "2024-11-10T18:54:06.676294",
     "status": "completed"
    },
    "tags": []
   },
   "outputs": [],
   "source": [
    "# Step 3: Train multiple XGBoost models with different seeds and other varying parameters\n",
    "\n",
    "num_rounds = 350"
   ]
  },
  {
   "cell_type": "code",
   "execution_count": 20,
   "id": "9c276098",
   "metadata": {
    "_cell_guid": "7c7b7517-610f-4b81-960a-18f916a8155c",
    "_uuid": "b31a687d-dca8-4cfc-897e-5b20989e1198",
    "collapsed": false,
    "execution": {
     "iopub.execute_input": "2024-11-10T18:54:06.711880Z",
     "iopub.status.busy": "2024-11-10T18:54:06.711613Z",
     "iopub.status.idle": "2024-11-10T18:54:06.715660Z",
     "shell.execute_reply": "2024-11-10T18:54:06.714822Z"
    },
    "jupyter": {
     "outputs_hidden": false
    },
    "papermill": {
     "duration": 0.015969,
     "end_time": "2024-11-10T18:54:06.717514",
     "exception": false,
     "start_time": "2024-11-10T18:54:06.701545",
     "status": "completed"
    },
    "tags": []
   },
   "outputs": [],
   "source": [
    "# Define the model and optimization parameters\n",
    "xgb_model = XGBClassifier(objective='binary:logistic', eval_metric='auc', use_label_encoder=False)"
   ]
  },
  {
   "cell_type": "code",
   "execution_count": 21,
   "id": "b2327eb3",
   "metadata": {
    "_cell_guid": "aeade7f4-6de2-48a4-b608-bc658dd9ebb6",
    "_uuid": "2f10d43e-0d3e-41bc-bfb3-023337249b67",
    "collapsed": false,
    "execution": {
     "iopub.execute_input": "2024-11-10T18:54:06.737325Z",
     "iopub.status.busy": "2024-11-10T18:54:06.737025Z",
     "iopub.status.idle": "2024-11-10T18:54:06.742703Z",
     "shell.execute_reply": "2024-11-10T18:54:06.741930Z"
    },
    "jupyter": {
     "outputs_hidden": false
    },
    "papermill": {
     "duration": 0.017713,
     "end_time": "2024-11-10T18:54:06.744532",
     "exception": false,
     "start_time": "2024-11-10T18:54:06.726819",
     "status": "completed"
    },
    "tags": []
   },
   "outputs": [],
   "source": [
    "# Bayesian search with cross-validation\n",
    "opt = BayesSearchCV(\n",
    "    estimator=xgb_model,\n",
    "    search_spaces=param_space,\n",
    "    scoring='roc_auc',  # AUC is used for evaluation\n",
    "    n_iter=50,  # Number of optimization iterations\n",
    "    cv=3,       # 3-fold cross-validation\n",
    "    random_state=42,\n",
    "    verbose=2\n",
    ")"
   ]
  },
  {
   "cell_type": "code",
   "execution_count": 22,
   "id": "9e2f0b8d",
   "metadata": {
    "_cell_guid": "5556da92-35c0-4d9c-bba9-fe733b886519",
    "_uuid": "33e0dc3a-b293-493d-9b41-39864223abab",
    "collapsed": false,
    "execution": {
     "iopub.execute_input": "2024-11-10T18:54:06.764513Z",
     "iopub.status.busy": "2024-11-10T18:54:06.764162Z",
     "iopub.status.idle": "2024-11-10T19:24:26.459029Z",
     "shell.execute_reply": "2024-11-10T19:24:26.458102Z"
    },
    "jupyter": {
     "outputs_hidden": false
    },
    "papermill": {
     "duration": 1819.728062,
     "end_time": "2024-11-10T19:24:26.481863",
     "exception": false,
     "start_time": "2024-11-10T18:54:06.753801",
     "status": "completed"
    },
    "tags": []
   },
   "outputs": [
    {
     "name": "stdout",
     "output_type": "stream",
     "text": [
      "Fitting 3 folds for each of 1 candidates, totalling 3 fits\n",
      "[CV] END alpha=4.101039588533139, colsample_bytree=0.8638628715886625, gamma=0.46643399942391695, lambda=3.1579959348704874, learning_rate=0.04678945087112739, max_depth=12, min_child_weight=4, n_estimators=685, subsample=0.6522316555182531; total time=  13.2s\n",
      "[CV] END alpha=4.101039588533139, colsample_bytree=0.8638628715886625, gamma=0.46643399942391695, lambda=3.1579959348704874, learning_rate=0.04678945087112739, max_depth=12, min_child_weight=4, n_estimators=685, subsample=0.6522316555182531; total time=  12.4s\n",
      "[CV] END alpha=4.101039588533139, colsample_bytree=0.8638628715886625, gamma=0.46643399942391695, lambda=3.1579959348704874, learning_rate=0.04678945087112739, max_depth=12, min_child_weight=4, n_estimators=685, subsample=0.6522316555182531; total time=  13.5s\n",
      "Fitting 3 folds for each of 1 candidates, totalling 3 fits\n",
      "[CV] END alpha=8.373883555532844, colsample_bytree=0.9416576386904312, gamma=0.1517050549420875, lambda=9.512239065933294, learning_rate=0.07313544621588569, max_depth=10, min_child_weight=2, n_estimators=588, subsample=0.8178645509395852; total time=   9.1s\n",
      "[CV] END alpha=8.373883555532844, colsample_bytree=0.9416576386904312, gamma=0.1517050549420875, lambda=9.512239065933294, learning_rate=0.07313544621588569, max_depth=10, min_child_weight=2, n_estimators=588, subsample=0.8178645509395852; total time=   9.3s\n",
      "[CV] END alpha=8.373883555532844, colsample_bytree=0.9416576386904312, gamma=0.1517050549420875, lambda=9.512239065933294, learning_rate=0.07313544621588569, max_depth=10, min_child_weight=2, n_estimators=588, subsample=0.8178645509395852; total time=  10.7s\n",
      "Fitting 3 folds for each of 1 candidates, totalling 3 fits\n",
      "[CV] END alpha=4.448325123011518, colsample_bytree=0.9593612608346885, gamma=0.05242957927635179, lambda=4.333328018702252, learning_rate=0.015415413774001387, max_depth=12, min_child_weight=2, n_estimators=688, subsample=0.7786702115169006; total time=  14.9s\n",
      "[CV] END alpha=4.448325123011518, colsample_bytree=0.9593612608346885, gamma=0.05242957927635179, lambda=4.333328018702252, learning_rate=0.015415413774001387, max_depth=12, min_child_weight=2, n_estimators=688, subsample=0.7786702115169006; total time=  16.4s\n",
      "[CV] END alpha=4.448325123011518, colsample_bytree=0.9593612608346885, gamma=0.05242957927635179, lambda=4.333328018702252, learning_rate=0.015415413774001387, max_depth=12, min_child_weight=2, n_estimators=688, subsample=0.7786702115169006; total time=  15.1s\n",
      "Fitting 3 folds for each of 1 candidates, totalling 3 fits\n",
      "[CV] END alpha=8.123959883573633, colsample_bytree=0.5859357806982803, gamma=0.299023538756064, lambda=8.027647811563106, learning_rate=0.0333466589664751, max_depth=10, min_child_weight=8, n_estimators=718, subsample=0.9559644307534418; total time=  10.3s\n",
      "[CV] END alpha=8.123959883573633, colsample_bytree=0.5859357806982803, gamma=0.299023538756064, lambda=8.027647811563106, learning_rate=0.0333466589664751, max_depth=10, min_child_weight=8, n_estimators=718, subsample=0.9559644307534418; total time=  11.6s\n",
      "[CV] END alpha=8.123959883573633, colsample_bytree=0.5859357806982803, gamma=0.299023538756064, lambda=8.027647811563106, learning_rate=0.0333466589664751, max_depth=10, min_child_weight=8, n_estimators=718, subsample=0.9559644307534418; total time=  10.3s\n",
      "Fitting 3 folds for each of 1 candidates, totalling 3 fits\n",
      "[CV] END alpha=7.995534416071731, colsample_bytree=0.7190145932204617, gamma=0.26331011856384623, lambda=7.15713262107033, learning_rate=0.08014050457999546, max_depth=14, min_child_weight=5, n_estimators=663, subsample=0.6765419227639857; total time=   9.8s\n",
      "[CV] END alpha=7.995534416071731, colsample_bytree=0.7190145932204617, gamma=0.26331011856384623, lambda=7.15713262107033, learning_rate=0.08014050457999546, max_depth=14, min_child_weight=5, n_estimators=663, subsample=0.6765419227639857; total time=  11.5s\n",
      "[CV] END alpha=7.995534416071731, colsample_bytree=0.7190145932204617, gamma=0.26331011856384623, lambda=7.15713262107033, learning_rate=0.08014050457999546, max_depth=14, min_child_weight=5, n_estimators=663, subsample=0.6765419227639857; total time=  10.1s\n",
      "Fitting 3 folds for each of 1 candidates, totalling 3 fits\n",
      "[CV] END alpha=7.340280179855684, colsample_bytree=0.9696848688013859, gamma=0.08180358931927513, lambda=1.8842529176543015, learning_rate=0.06316888794800832, max_depth=12, min_child_weight=5, n_estimators=634, subsample=0.8926419685712479; total time=   9.9s\n",
      "[CV] END alpha=7.340280179855684, colsample_bytree=0.9696848688013859, gamma=0.08180358931927513, lambda=1.8842529176543015, learning_rate=0.06316888794800832, max_depth=12, min_child_weight=5, n_estimators=634, subsample=0.8926419685712479; total time=  11.5s\n",
      "[CV] END alpha=7.340280179855684, colsample_bytree=0.9696848688013859, gamma=0.08180358931927513, lambda=1.8842529176543015, learning_rate=0.06316888794800832, max_depth=12, min_child_weight=5, n_estimators=634, subsample=0.8926419685712479; total time=   9.9s\n",
      "Fitting 3 folds for each of 1 candidates, totalling 3 fits\n",
      "[CV] END alpha=6.170793585023163, colsample_bytree=0.8876821894139413, gamma=0.17951146596070197, lambda=8.743252953344578, learning_rate=0.03913989671749205, max_depth=13, min_child_weight=7, n_estimators=606, subsample=0.866941242634403; total time=  11.3s\n",
      "[CV] END alpha=6.170793585023163, colsample_bytree=0.8876821894139413, gamma=0.17951146596070197, lambda=8.743252953344578, learning_rate=0.03913989671749205, max_depth=13, min_child_weight=7, n_estimators=606, subsample=0.866941242634403; total time=  12.8s\n",
      "[CV] END alpha=6.170793585023163, colsample_bytree=0.8876821894139413, gamma=0.17951146596070197, lambda=8.743252953344578, learning_rate=0.03913989671749205, max_depth=13, min_child_weight=7, n_estimators=606, subsample=0.866941242634403; total time=  11.4s\n",
      "Fitting 3 folds for each of 1 candidates, totalling 3 fits\n",
      "[CV] END alpha=5.4340306769031255, colsample_bytree=0.9600046132186582, gamma=0.24823335179835837, lambda=8.376564370605267, learning_rate=0.02108919401775928, max_depth=10, min_child_weight=6, n_estimators=506, subsample=0.6928647954923324; total time=   8.7s\n",
      "[CV] END alpha=5.4340306769031255, colsample_bytree=0.9600046132186582, gamma=0.24823335179835837, lambda=8.376564370605267, learning_rate=0.02108919401775928, max_depth=10, min_child_weight=6, n_estimators=506, subsample=0.6928647954923324; total time=  10.1s\n",
      "[CV] END alpha=5.4340306769031255, colsample_bytree=0.9600046132186582, gamma=0.24823335179835837, lambda=8.376564370605267, learning_rate=0.02108919401775928, max_depth=10, min_child_weight=6, n_estimators=506, subsample=0.6928647954923324; total time=   8.6s\n",
      "Fitting 3 folds for each of 1 candidates, totalling 3 fits\n",
      "[CV] END alpha=9.554779863099283, colsample_bytree=0.8503107223106829, gamma=0.4358259642316075, lambda=4.158210875794536, learning_rate=0.02404721380849541, max_depth=11, min_child_weight=1, n_estimators=593, subsample=0.7971894567956928; total time=  10.9s\n",
      "[CV] END alpha=9.554779863099283, colsample_bytree=0.8503107223106829, gamma=0.4358259642316075, lambda=4.158210875794536, learning_rate=0.02404721380849541, max_depth=11, min_child_weight=1, n_estimators=593, subsample=0.7971894567956928; total time=  12.1s\n",
      "[CV] END alpha=9.554779863099283, colsample_bytree=0.8503107223106829, gamma=0.4358259642316075, lambda=4.158210875794536, learning_rate=0.02404721380849541, max_depth=11, min_child_weight=1, n_estimators=593, subsample=0.7971894567956928; total time=  11.1s\n",
      "Fitting 3 folds for each of 1 candidates, totalling 3 fits\n",
      "[CV] END alpha=0.036303072547432265, colsample_bytree=0.9089150098318758, gamma=0.37064137218401366, lambda=2.545542578640449, learning_rate=0.037902192781288875, max_depth=11, min_child_weight=4, n_estimators=538, subsample=0.9469190305262598; total time=  11.5s\n",
      "[CV] END alpha=0.036303072547432265, colsample_bytree=0.9089150098318758, gamma=0.37064137218401366, lambda=2.545542578640449, learning_rate=0.037902192781288875, max_depth=11, min_child_weight=4, n_estimators=538, subsample=0.9469190305262598; total time=  12.8s\n",
      "[CV] END alpha=0.036303072547432265, colsample_bytree=0.9089150098318758, gamma=0.37064137218401366, lambda=2.545542578640449, learning_rate=0.037902192781288875, max_depth=11, min_child_weight=4, n_estimators=538, subsample=0.9469190305262598; total time=  11.7s\n",
      "Fitting 3 folds for each of 1 candidates, totalling 3 fits\n",
      "[CV] END alpha=4.52751709843607, colsample_bytree=0.5041590934735859, gamma=0.48416248733789197, lambda=6.785263577594258, learning_rate=0.010000808234403927, max_depth=12, min_child_weight=3, n_estimators=542, subsample=0.9607993346662428; total time=   7.9s\n",
      "[CV] END alpha=4.52751709843607, colsample_bytree=0.5041590934735859, gamma=0.48416248733789197, lambda=6.785263577594258, learning_rate=0.010000808234403927, max_depth=12, min_child_weight=3, n_estimators=542, subsample=0.9607993346662428; total time=   9.4s\n",
      "[CV] END alpha=4.52751709843607, colsample_bytree=0.5041590934735859, gamma=0.48416248733789197, lambda=6.785263577594258, learning_rate=0.010000808234403927, max_depth=12, min_child_weight=3, n_estimators=542, subsample=0.9607993346662428; total time=   8.1s\n",
      "Fitting 3 folds for each of 1 candidates, totalling 3 fits\n",
      "[CV] END alpha=9.153189734484329, colsample_bytree=0.5050317612943521, gamma=0.16806680645127656, lambda=9.296250949033071, learning_rate=0.07587887758224915, max_depth=11, min_child_weight=6, n_estimators=503, subsample=0.763075970661008; total time=   7.6s\n",
      "[CV] END alpha=9.153189734484329, colsample_bytree=0.5050317612943521, gamma=0.16806680645127656, lambda=9.296250949033071, learning_rate=0.07587887758224915, max_depth=11, min_child_weight=6, n_estimators=503, subsample=0.763075970661008; total time=   9.3s\n",
      "[CV] END alpha=9.153189734484329, colsample_bytree=0.5050317612943521, gamma=0.16806680645127656, lambda=9.296250949033071, learning_rate=0.07587887758224915, max_depth=11, min_child_weight=6, n_estimators=503, subsample=0.763075970661008; total time=   7.8s\n",
      "Fitting 3 folds for each of 1 candidates, totalling 3 fits\n",
      "[CV] END alpha=4.500571668738172, colsample_bytree=0.5703212749125196, gamma=0.02318028761102359, lambda=2.103930946730878, learning_rate=0.09910414586966296, max_depth=14, min_child_weight=5, n_estimators=744, subsample=0.9524555010492934; total time=  10.0s\n",
      "[CV] END alpha=4.500571668738172, colsample_bytree=0.5703212749125196, gamma=0.02318028761102359, lambda=2.103930946730878, learning_rate=0.09910414586966296, max_depth=14, min_child_weight=5, n_estimators=744, subsample=0.9524555010492934; total time=  11.6s\n",
      "[CV] END alpha=4.500571668738172, colsample_bytree=0.5703212749125196, gamma=0.02318028761102359, lambda=2.103930946730878, learning_rate=0.09910414586966296, max_depth=14, min_child_weight=5, n_estimators=744, subsample=0.9524555010492934; total time=  10.3s\n",
      "Fitting 3 folds for each of 1 candidates, totalling 3 fits\n",
      "[CV] END alpha=4.187570772771551, colsample_bytree=0.9680933681053059, gamma=0.48826314265906623, lambda=6.155929240020075, learning_rate=0.09763701758143326, max_depth=11, min_child_weight=4, n_estimators=508, subsample=0.9897781072435362; total time=   6.0s\n",
      "[CV] END alpha=4.187570772771551, colsample_bytree=0.9680933681053059, gamma=0.48826314265906623, lambda=6.155929240020075, learning_rate=0.09763701758143326, max_depth=11, min_child_weight=4, n_estimators=508, subsample=0.9897781072435362; total time=   6.0s\n",
      "[CV] END alpha=4.187570772771551, colsample_bytree=0.9680933681053059, gamma=0.48826314265906623, lambda=6.155929240020075, learning_rate=0.09763701758143326, max_depth=11, min_child_weight=4, n_estimators=508, subsample=0.9897781072435362; total time=   6.0s\n",
      "Fitting 3 folds for each of 1 candidates, totalling 3 fits\n",
      "[CV] END alpha=5.969996676058881, colsample_bytree=0.9958945041404035, gamma=0.20647446588385332, lambda=8.291194213334897, learning_rate=0.010091889130838238, max_depth=14, min_child_weight=4, n_estimators=535, subsample=0.607402230013064; total time=   8.0s\n",
      "[CV] END alpha=5.969996676058881, colsample_bytree=0.9958945041404035, gamma=0.20647446588385332, lambda=8.291194213334897, learning_rate=0.010091889130838238, max_depth=14, min_child_weight=4, n_estimators=535, subsample=0.607402230013064; total time=   8.1s\n",
      "[CV] END alpha=5.969996676058881, colsample_bytree=0.9958945041404035, gamma=0.20647446588385332, lambda=8.291194213334897, learning_rate=0.010091889130838238, max_depth=14, min_child_weight=4, n_estimators=535, subsample=0.607402230013064; total time=   8.0s\n",
      "Fitting 3 folds for each of 1 candidates, totalling 3 fits\n",
      "[CV] END alpha=1.7749928577731857, colsample_bytree=0.5053607024827096, gamma=0.004046432548591551, lambda=3.370615757756004, learning_rate=0.032488535350189515, max_depth=11, min_child_weight=7, n_estimators=577, subsample=0.5035204306124385; total time=  11.2s\n",
      "[CV] END alpha=1.7749928577731857, colsample_bytree=0.5053607024827096, gamma=0.004046432548591551, lambda=3.370615757756004, learning_rate=0.032488535350189515, max_depth=11, min_child_weight=7, n_estimators=577, subsample=0.5035204306124385; total time=  10.1s\n",
      "[CV] END alpha=1.7749928577731857, colsample_bytree=0.5053607024827096, gamma=0.004046432548591551, lambda=3.370615757756004, learning_rate=0.032488535350189515, max_depth=11, min_child_weight=7, n_estimators=577, subsample=0.5035204306124385; total time=  10.1s\n",
      "Fitting 3 folds for each of 1 candidates, totalling 3 fits\n",
      "[CV] END alpha=6.079016359699238, colsample_bytree=0.5, gamma=0.4761899464381983, lambda=2.3759019805331834, learning_rate=0.01778942474642497, max_depth=10, min_child_weight=5, n_estimators=750, subsample=1.0; total time=  13.4s\n",
      "[CV] END alpha=6.079016359699238, colsample_bytree=0.5, gamma=0.4761899464381983, lambda=2.3759019805331834, learning_rate=0.01778942474642497, max_depth=10, min_child_weight=5, n_estimators=750, subsample=1.0; total time=  11.7s\n",
      "[CV] END alpha=6.079016359699238, colsample_bytree=0.5, gamma=0.4761899464381983, lambda=2.3759019805331834, learning_rate=0.01778942474642497, max_depth=10, min_child_weight=5, n_estimators=750, subsample=1.0; total time=  13.1s\n",
      "Fitting 3 folds for each of 1 candidates, totalling 3 fits\n",
      "[CV] END alpha=8.839679976561508, colsample_bytree=0.5101938368973828, gamma=0.13794646194267288, lambda=7.251849460561594, learning_rate=0.020523708530309735, max_depth=15, min_child_weight=8, n_estimators=748, subsample=0.8227859625139776; total time=  11.8s\n",
      "[CV] END alpha=8.839679976561508, colsample_bytree=0.5101938368973828, gamma=0.13794646194267288, lambda=7.251849460561594, learning_rate=0.020523708530309735, max_depth=15, min_child_weight=8, n_estimators=748, subsample=0.8227859625139776; total time=  12.1s\n",
      "[CV] END alpha=8.839679976561508, colsample_bytree=0.5101938368973828, gamma=0.13794646194267288, lambda=7.251849460561594, learning_rate=0.020523708530309735, max_depth=15, min_child_weight=8, n_estimators=748, subsample=0.8227859625139776; total time=  13.1s\n",
      "Fitting 3 folds for each of 1 candidates, totalling 3 fits\n",
      "[CV] END alpha=0.0, colsample_bytree=1.0, gamma=0.0, lambda=10.0, learning_rate=0.01, max_depth=10, min_child_weight=10, n_estimators=750, subsample=0.5; total time=  10.5s\n",
      "[CV] END alpha=0.0, colsample_bytree=1.0, gamma=0.0, lambda=10.0, learning_rate=0.01, max_depth=10, min_child_weight=10, n_estimators=750, subsample=0.5; total time=  10.5s\n",
      "[CV] END alpha=0.0, colsample_bytree=1.0, gamma=0.0, lambda=10.0, learning_rate=0.01, max_depth=10, min_child_weight=10, n_estimators=750, subsample=0.5; total time=  11.6s\n",
      "Fitting 3 folds for each of 1 candidates, totalling 3 fits\n",
      "[CV] END alpha=0.03872318744488346, colsample_bytree=0.9483255319912599, gamma=0.3273458243891474, lambda=5.116990878819772, learning_rate=0.020804854280806553, max_depth=14, min_child_weight=7, n_estimators=720, subsample=0.9049714689039973; total time=  14.8s\n",
      "[CV] END alpha=0.03872318744488346, colsample_bytree=0.9483255319912599, gamma=0.3273458243891474, lambda=5.116990878819772, learning_rate=0.020804854280806553, max_depth=14, min_child_weight=7, n_estimators=720, subsample=0.9049714689039973; total time=  16.3s\n",
      "[CV] END alpha=0.03872318744488346, colsample_bytree=0.9483255319912599, gamma=0.3273458243891474, lambda=5.116990878819772, learning_rate=0.020804854280806553, max_depth=14, min_child_weight=7, n_estimators=720, subsample=0.9049714689039973; total time=  14.5s\n",
      "Fitting 3 folds for each of 1 candidates, totalling 3 fits\n",
      "[CV] END alpha=0.9430061222245347, colsample_bytree=0.8315000583922367, gamma=0.3371791088691911, lambda=0.375701198199584, learning_rate=0.09953499825868824, max_depth=12, min_child_weight=1, n_estimators=508, subsample=0.5140988046126685; total time=   9.6s\n",
      "[CV] END alpha=0.9430061222245347, colsample_bytree=0.8315000583922367, gamma=0.3371791088691911, lambda=0.375701198199584, learning_rate=0.09953499825868824, max_depth=12, min_child_weight=1, n_estimators=508, subsample=0.5140988046126685; total time=   8.2s\n",
      "[CV] END alpha=0.9430061222245347, colsample_bytree=0.8315000583922367, gamma=0.3371791088691911, lambda=0.375701198199584, learning_rate=0.09953499825868824, max_depth=12, min_child_weight=1, n_estimators=508, subsample=0.5140988046126685; total time=   8.4s\n",
      "Fitting 3 folds for each of 1 candidates, totalling 3 fits\n",
      "[CV] END alpha=0.5273312079356275, colsample_bytree=0.6845887747575892, gamma=0.3036899449729328, lambda=9.000521841439257, learning_rate=0.023297482144201898, max_depth=11, min_child_weight=5, n_estimators=734, subsample=0.5147813806759589; total time=  14.3s\n",
      "[CV] END alpha=0.5273312079356275, colsample_bytree=0.6845887747575892, gamma=0.3036899449729328, lambda=9.000521841439257, learning_rate=0.023297482144201898, max_depth=11, min_child_weight=5, n_estimators=734, subsample=0.5147813806759589; total time=  12.9s\n",
      "[CV] END alpha=0.5273312079356275, colsample_bytree=0.6845887747575892, gamma=0.3036899449729328, lambda=9.000521841439257, learning_rate=0.023297482144201898, max_depth=11, min_child_weight=5, n_estimators=734, subsample=0.5147813806759589; total time=  12.8s\n",
      "Fitting 3 folds for each of 1 candidates, totalling 3 fits\n",
      "[CV] END alpha=0.12030106764526541, colsample_bytree=0.5116176872709783, gamma=0.19626275483120148, lambda=5.877330667339366, learning_rate=0.07844084174727405, max_depth=13, min_child_weight=5, n_estimators=638, subsample=0.9637079190610885; total time=  10.7s\n",
      "[CV] END alpha=0.12030106764526541, colsample_bytree=0.5116176872709783, gamma=0.19626275483120148, lambda=5.877330667339366, learning_rate=0.07844084174727405, max_depth=13, min_child_weight=5, n_estimators=638, subsample=0.9637079190610885; total time=  10.8s\n",
      "[CV] END alpha=0.12030106764526541, colsample_bytree=0.5116176872709783, gamma=0.19626275483120148, lambda=5.877330667339366, learning_rate=0.07844084174727405, max_depth=13, min_child_weight=5, n_estimators=638, subsample=0.9637079190610885; total time=  12.2s\n",
      "Fitting 3 folds for each of 1 candidates, totalling 3 fits\n",
      "[CV] END alpha=7.616399180881123, colsample_bytree=0.5217179146558384, gamma=0.2093606853238324, lambda=1.9657731213432212, learning_rate=0.05058318775731748, max_depth=15, min_child_weight=5, n_estimators=503, subsample=0.7400298415803213; total time=   8.5s\n",
      "[CV] END alpha=7.616399180881123, colsample_bytree=0.5217179146558384, gamma=0.2093606853238324, lambda=1.9657731213432212, learning_rate=0.05058318775731748, max_depth=15, min_child_weight=5, n_estimators=503, subsample=0.7400298415803213; total time=   8.3s\n",
      "[CV] END alpha=7.616399180881123, colsample_bytree=0.5217179146558384, gamma=0.2093606853238324, lambda=1.9657731213432212, learning_rate=0.05058318775731748, max_depth=15, min_child_weight=5, n_estimators=503, subsample=0.7400298415803213; total time=   8.4s\n",
      "Fitting 3 folds for each of 1 candidates, totalling 3 fits\n",
      "[CV] END alpha=0.9984352785676511, colsample_bytree=0.5279258985881752, gamma=0.16236466258600366, lambda=5.494909677583454, learning_rate=0.01736236437983358, max_depth=14, min_child_weight=3, n_estimators=516, subsample=0.9591447805483433; total time=  11.8s\n",
      "[CV] END alpha=0.9984352785676511, colsample_bytree=0.5279258985881752, gamma=0.16236466258600366, lambda=5.494909677583454, learning_rate=0.01736236437983358, max_depth=14, min_child_weight=3, n_estimators=516, subsample=0.9591447805483433; total time=  10.4s\n",
      "[CV] END alpha=0.9984352785676511, colsample_bytree=0.5279258985881752, gamma=0.16236466258600366, lambda=5.494909677583454, learning_rate=0.01736236437983358, max_depth=14, min_child_weight=3, n_estimators=516, subsample=0.9591447805483433; total time=  10.3s\n",
      "Fitting 3 folds for each of 1 candidates, totalling 3 fits\n",
      "[CV] END alpha=0.0, colsample_bytree=0.5, gamma=0.5, lambda=0.0, learning_rate=0.016144585584455588, max_depth=10, min_child_weight=10, n_estimators=750, subsample=0.9170187983999881; total time=  14.3s\n",
      "[CV] END alpha=0.0, colsample_bytree=0.5, gamma=0.5, lambda=0.0, learning_rate=0.016144585584455588, max_depth=10, min_child_weight=10, n_estimators=750, subsample=0.9170187983999881; total time=  14.6s\n",
      "[CV] END alpha=0.0, colsample_bytree=0.5, gamma=0.5, lambda=0.0, learning_rate=0.016144585584455588, max_depth=10, min_child_weight=10, n_estimators=750, subsample=0.9170187983999881; total time=  15.9s\n",
      "Fitting 3 folds for each of 1 candidates, totalling 3 fits\n",
      "[CV] END alpha=9.971847590999204, colsample_bytree=0.6921278371135391, gamma=0.1332623046613993, lambda=2.2874338396150313, learning_rate=0.09953178006500413, max_depth=11, min_child_weight=1, n_estimators=634, subsample=0.7242374367277142; total time=   8.2s\n",
      "[CV] END alpha=9.971847590999204, colsample_bytree=0.6921278371135391, gamma=0.1332623046613993, lambda=2.2874338396150313, learning_rate=0.09953178006500413, max_depth=11, min_child_weight=1, n_estimators=634, subsample=0.7242374367277142; total time=   9.6s\n",
      "[CV] END alpha=9.971847590999204, colsample_bytree=0.6921278371135391, gamma=0.1332623046613993, lambda=2.2874338396150313, learning_rate=0.09953178006500413, max_depth=11, min_child_weight=1, n_estimators=634, subsample=0.7242374367277142; total time=   8.3s\n",
      "Fitting 3 folds for each of 1 candidates, totalling 3 fits\n",
      "[CV] END alpha=9.870989652228538, colsample_bytree=0.6699964112419424, gamma=0.4462360390147112, lambda=0.49480201034258553, learning_rate=0.04797274543404075, max_depth=14, min_child_weight=4, n_estimators=729, subsample=0.5258871100995042; total time=  10.0s\n",
      "[CV] END alpha=9.870989652228538, colsample_bytree=0.6699964112419424, gamma=0.4462360390147112, lambda=0.49480201034258553, learning_rate=0.04797274543404075, max_depth=14, min_child_weight=4, n_estimators=729, subsample=0.5258871100995042; total time=   9.8s\n",
      "[CV] END alpha=9.870989652228538, colsample_bytree=0.6699964112419424, gamma=0.4462360390147112, lambda=0.49480201034258553, learning_rate=0.04797274543404075, max_depth=14, min_child_weight=4, n_estimators=729, subsample=0.5258871100995042; total time=  10.9s\n",
      "Fitting 3 folds for each of 1 candidates, totalling 3 fits\n",
      "[CV] END alpha=3.4116162319873737, colsample_bytree=0.6641704215282318, gamma=0.16026387587527288, lambda=6.599973251545349, learning_rate=0.030649252887267123, max_depth=13, min_child_weight=1, n_estimators=748, subsample=0.9564121031620221; total time=  14.8s\n",
      "[CV] END alpha=3.4116162319873737, colsample_bytree=0.6641704215282318, gamma=0.16026387587527288, lambda=6.599973251545349, learning_rate=0.030649252887267123, max_depth=13, min_child_weight=1, n_estimators=748, subsample=0.9564121031620221; total time=  16.2s\n",
      "[CV] END alpha=3.4116162319873737, colsample_bytree=0.6641704215282318, gamma=0.16026387587527288, lambda=6.599973251545349, learning_rate=0.030649252887267123, max_depth=13, min_child_weight=1, n_estimators=748, subsample=0.9564121031620221; total time=  15.0s\n",
      "Fitting 3 folds for each of 1 candidates, totalling 3 fits\n",
      "[CV] END alpha=0.0, colsample_bytree=0.5362077520594064, gamma=0.5, lambda=1.1646453851000895, learning_rate=0.01643363510680366, max_depth=11, min_child_weight=5, n_estimators=508, subsample=0.7540763227017573; total time=  11.0s\n",
      "[CV] END alpha=0.0, colsample_bytree=0.5362077520594064, gamma=0.5, lambda=1.1646453851000895, learning_rate=0.01643363510680366, max_depth=11, min_child_weight=5, n_estimators=508, subsample=0.7540763227017573; total time=   9.7s\n",
      "[CV] END alpha=0.0, colsample_bytree=0.5362077520594064, gamma=0.5, lambda=1.1646453851000895, learning_rate=0.01643363510680366, max_depth=11, min_child_weight=5, n_estimators=508, subsample=0.7540763227017573; total time=   9.8s\n",
      "Fitting 3 folds for each of 1 candidates, totalling 3 fits\n",
      "[CV] END alpha=0.0, colsample_bytree=0.5, gamma=0.1847993548019843, lambda=0.0, learning_rate=0.018912437978370732, max_depth=10, min_child_weight=1, n_estimators=750, subsample=1.0; total time=  15.7s\n",
      "[CV] END alpha=0.0, colsample_bytree=0.5, gamma=0.1847993548019843, lambda=0.0, learning_rate=0.018912437978370732, max_depth=10, min_child_weight=1, n_estimators=750, subsample=1.0; total time=  14.7s\n",
      "[CV] END alpha=0.0, colsample_bytree=0.5, gamma=0.1847993548019843, lambda=0.0, learning_rate=0.018912437978370732, max_depth=10, min_child_weight=1, n_estimators=750, subsample=1.0; total time=  15.9s\n",
      "Fitting 3 folds for each of 1 candidates, totalling 3 fits\n",
      "[CV] END alpha=0.0, colsample_bytree=0.5, gamma=0.1794995397122713, lambda=6.456056140232188, learning_rate=0.017035065968868595, max_depth=15, min_child_weight=4, n_estimators=750, subsample=0.5; total time=  12.9s\n",
      "[CV] END alpha=0.0, colsample_bytree=0.5, gamma=0.1794995397122713, lambda=6.456056140232188, learning_rate=0.017035065968868595, max_depth=15, min_child_weight=4, n_estimators=750, subsample=0.5; total time=  14.6s\n",
      "[CV] END alpha=0.0, colsample_bytree=0.5, gamma=0.1794995397122713, lambda=6.456056140232188, learning_rate=0.017035065968868595, max_depth=15, min_child_weight=4, n_estimators=750, subsample=0.5; total time=  13.2s\n",
      "Fitting 3 folds for each of 1 candidates, totalling 3 fits\n",
      "[CV] END alpha=10.0, colsample_bytree=0.5, gamma=0.11603564309983933, lambda=0.26624440301811214, learning_rate=0.046760123146220696, max_depth=10, min_child_weight=6, n_estimators=750, subsample=1.0; total time=   8.2s\n",
      "[CV] END alpha=10.0, colsample_bytree=0.5, gamma=0.11603564309983933, lambda=0.26624440301811214, learning_rate=0.046760123146220696, max_depth=10, min_child_weight=6, n_estimators=750, subsample=1.0; total time=   9.8s\n",
      "[CV] END alpha=10.0, colsample_bytree=0.5, gamma=0.11603564309983933, lambda=0.26624440301811214, learning_rate=0.046760123146220696, max_depth=10, min_child_weight=6, n_estimators=750, subsample=1.0; total time=   8.5s\n",
      "Fitting 3 folds for each of 1 candidates, totalling 3 fits\n",
      "[CV] END alpha=0.06697216754015912, colsample_bytree=0.507562211819204, gamma=0.07454946198456365, lambda=5.257803640582265, learning_rate=0.05521959291877272, max_depth=11, min_child_weight=7, n_estimators=679, subsample=0.5159228250007206; total time=  12.3s\n",
      "[CV] END alpha=0.06697216754015912, colsample_bytree=0.507562211819204, gamma=0.07454946198456365, lambda=5.257803640582265, learning_rate=0.05521959291877272, max_depth=11, min_child_weight=7, n_estimators=679, subsample=0.5159228250007206; total time=  13.4s\n",
      "[CV] END alpha=0.06697216754015912, colsample_bytree=0.507562211819204, gamma=0.07454946198456365, lambda=5.257803640582265, learning_rate=0.05521959291877272, max_depth=11, min_child_weight=7, n_estimators=679, subsample=0.5159228250007206; total time=  12.7s\n",
      "Fitting 3 folds for each of 1 candidates, totalling 3 fits\n",
      "[CV] END alpha=9.999672396500072, colsample_bytree=0.605361593218382, gamma=0.30398627384238064, lambda=2.017434071107414, learning_rate=0.014416157318165342, max_depth=11, min_child_weight=1, n_estimators=742, subsample=0.92498902501716; total time=  14.8s\n",
      "[CV] END alpha=9.999672396500072, colsample_bytree=0.605361593218382, gamma=0.30398627384238064, lambda=2.017434071107414, learning_rate=0.014416157318165342, max_depth=11, min_child_weight=1, n_estimators=742, subsample=0.92498902501716; total time=  13.6s\n",
      "[CV] END alpha=9.999672396500072, colsample_bytree=0.605361593218382, gamma=0.30398627384238064, lambda=2.017434071107414, learning_rate=0.014416157318165342, max_depth=11, min_child_weight=1, n_estimators=742, subsample=0.92498902501716; total time=  14.7s\n",
      "Fitting 3 folds for each of 1 candidates, totalling 3 fits\n",
      "[CV] END alpha=0.09658518900587888, colsample_bytree=0.9125770439289896, gamma=0.15226352225821008, lambda=9.955104426584567, learning_rate=0.02638591649312851, max_depth=15, min_child_weight=3, n_estimators=503, subsample=0.6019251841456823; total time=  10.3s\n",
      "[CV] END alpha=0.09658518900587888, colsample_bytree=0.9125770439289896, gamma=0.15226352225821008, lambda=9.955104426584567, learning_rate=0.02638591649312851, max_depth=15, min_child_weight=3, n_estimators=503, subsample=0.6019251841456823; total time=  10.5s\n",
      "[CV] END alpha=0.09658518900587888, colsample_bytree=0.9125770439289896, gamma=0.15226352225821008, lambda=9.955104426584567, learning_rate=0.02638591649312851, max_depth=15, min_child_weight=3, n_estimators=503, subsample=0.6019251841456823; total time=  11.8s\n",
      "Fitting 3 folds for each of 1 candidates, totalling 3 fits\n",
      "[CV] END alpha=0.3293193391844485, colsample_bytree=0.5147996317531824, gamma=0.36893238049534277, lambda=2.0067813148682374, learning_rate=0.013022786934270707, max_depth=13, min_child_weight=5, n_estimators=596, subsample=0.9253814650694274; total time=  11.0s\n",
      "[CV] END alpha=0.3293193391844485, colsample_bytree=0.5147996317531824, gamma=0.36893238049534277, lambda=2.0067813148682374, learning_rate=0.013022786934270707, max_depth=13, min_child_weight=5, n_estimators=596, subsample=0.9253814650694274; total time=  12.4s\n",
      "[CV] END alpha=0.3293193391844485, colsample_bytree=0.5147996317531824, gamma=0.36893238049534277, lambda=2.0067813148682374, learning_rate=0.013022786934270707, max_depth=13, min_child_weight=5, n_estimators=596, subsample=0.9253814650694274; total time=  11.0s\n",
      "Fitting 3 folds for each of 1 candidates, totalling 3 fits\n",
      "[CV] END alpha=9.998011691658228, colsample_bytree=0.5799053788182452, gamma=0.21182020289536696, lambda=9.742315855887407, learning_rate=0.09918961484052151, max_depth=11, min_child_weight=10, n_estimators=735, subsample=0.8152065088206042; total time=   8.7s\n",
      "[CV] END alpha=9.998011691658228, colsample_bytree=0.5799053788182452, gamma=0.21182020289536696, lambda=9.742315855887407, learning_rate=0.09918961484052151, max_depth=11, min_child_weight=10, n_estimators=735, subsample=0.8152065088206042; total time=  10.3s\n",
      "[CV] END alpha=9.998011691658228, colsample_bytree=0.5799053788182452, gamma=0.21182020289536696, lambda=9.742315855887407, learning_rate=0.09918961484052151, max_depth=11, min_child_weight=10, n_estimators=735, subsample=0.8152065088206042; total time=   9.0s\n",
      "Fitting 3 folds for each of 1 candidates, totalling 3 fits\n",
      "[CV] END alpha=0.9932520619415355, colsample_bytree=0.9756411374597573, gamma=0.4251497156622352, lambda=0.2969411067311512, learning_rate=0.010049444598989545, max_depth=11, min_child_weight=1, n_estimators=747, subsample=0.595491974170815; total time=  18.6s\n",
      "[CV] END alpha=0.9932520619415355, colsample_bytree=0.9756411374597573, gamma=0.4251497156622352, lambda=0.2969411067311512, learning_rate=0.010049444598989545, max_depth=11, min_child_weight=1, n_estimators=747, subsample=0.595491974170815; total time=  17.6s\n",
      "[CV] END alpha=0.9932520619415355, colsample_bytree=0.9756411374597573, gamma=0.4251497156622352, lambda=0.2969411067311512, learning_rate=0.010049444598989545, max_depth=11, min_child_weight=1, n_estimators=747, subsample=0.595491974170815; total time=  19.2s\n",
      "Fitting 3 folds for each of 1 candidates, totalling 3 fits\n",
      "[CV] END alpha=0.9657572545229522, colsample_bytree=0.6215841623208987, gamma=0.3955668180550937, lambda=9.524075931863363, learning_rate=0.0991599483466802, max_depth=12, min_child_weight=9, n_estimators=587, subsample=0.7040895837281291; total time=  10.5s\n",
      "[CV] END alpha=0.9657572545229522, colsample_bytree=0.6215841623208987, gamma=0.3955668180550937, lambda=9.524075931863363, learning_rate=0.0991599483466802, max_depth=12, min_child_weight=9, n_estimators=587, subsample=0.7040895837281291; total time=  10.7s\n",
      "[CV] END alpha=0.9657572545229522, colsample_bytree=0.6215841623208987, gamma=0.3955668180550937, lambda=9.524075931863363, learning_rate=0.0991599483466802, max_depth=12, min_child_weight=9, n_estimators=587, subsample=0.7040895837281291; total time=  12.0s\n",
      "Fitting 3 folds for each of 1 candidates, totalling 3 fits\n",
      "[CV] END alpha=1.0360250720845212, colsample_bytree=0.6457492251771216, gamma=0.14893488359617232, lambda=0.035731023416646364, learning_rate=0.05592369671014651, max_depth=11, min_child_weight=5, n_estimators=733, subsample=0.9325560115725724; total time=  11.6s\n",
      "[CV] END alpha=1.0360250720845212, colsample_bytree=0.6457492251771216, gamma=0.14893488359617232, lambda=0.035731023416646364, learning_rate=0.05592369671014651, max_depth=11, min_child_weight=5, n_estimators=733, subsample=0.9325560115725724; total time=  13.2s\n",
      "[CV] END alpha=1.0360250720845212, colsample_bytree=0.6457492251771216, gamma=0.14893488359617232, lambda=0.035731023416646364, learning_rate=0.05592369671014651, max_depth=11, min_child_weight=5, n_estimators=733, subsample=0.9325560115725724; total time=  12.0s\n",
      "Fitting 3 folds for each of 1 candidates, totalling 3 fits\n",
      "[CV] END alpha=9.45742636859759, colsample_bytree=0.5249315483011114, gamma=0.12598840097172467, lambda=0.11487209873198957, learning_rate=0.010507917190941431, max_depth=14, min_child_weight=5, n_estimators=501, subsample=0.6382071051114583; total time=   6.6s\n",
      "[CV] END alpha=9.45742636859759, colsample_bytree=0.5249315483011114, gamma=0.12598840097172467, lambda=0.11487209873198957, learning_rate=0.010507917190941431, max_depth=14, min_child_weight=5, n_estimators=501, subsample=0.6382071051114583; total time=   8.0s\n",
      "[CV] END alpha=9.45742636859759, colsample_bytree=0.5249315483011114, gamma=0.12598840097172467, lambda=0.11487209873198957, learning_rate=0.010507917190941431, max_depth=14, min_child_weight=5, n_estimators=501, subsample=0.6382071051114583; total time=   6.7s\n",
      "Fitting 3 folds for each of 1 candidates, totalling 3 fits\n",
      "[CV] END alpha=0.7823069002241457, colsample_bytree=0.7640332298046806, gamma=0.2565307001465429, lambda=9.652106188394452, learning_rate=0.09090296154061986, max_depth=14, min_child_weight=2, n_estimators=741, subsample=0.7564888149852862; total time=  12.7s\n",
      "[CV] END alpha=0.7823069002241457, colsample_bytree=0.7640332298046806, gamma=0.2565307001465429, lambda=9.652106188394452, learning_rate=0.09090296154061986, max_depth=14, min_child_weight=2, n_estimators=741, subsample=0.7564888149852862; total time=  14.1s\n",
      "[CV] END alpha=0.7823069002241457, colsample_bytree=0.7640332298046806, gamma=0.2565307001465429, lambda=9.652106188394452, learning_rate=0.09090296154061986, max_depth=14, min_child_weight=2, n_estimators=741, subsample=0.7564888149852862; total time=  12.8s\n",
      "Fitting 3 folds for each of 1 candidates, totalling 3 fits\n",
      "[CV] END alpha=9.70318349116182, colsample_bytree=0.9534054845177353, gamma=0.2640316859826752, lambda=0.5032805366114702, learning_rate=0.026980625030295077, max_depth=14, min_child_weight=4, n_estimators=738, subsample=0.5324829071064523; total time=  13.3s\n",
      "[CV] END alpha=9.70318349116182, colsample_bytree=0.9534054845177353, gamma=0.2640316859826752, lambda=0.5032805366114702, learning_rate=0.026980625030295077, max_depth=14, min_child_weight=4, n_estimators=738, subsample=0.5324829071064523; total time=  11.8s\n",
      "[CV] END alpha=9.70318349116182, colsample_bytree=0.9534054845177353, gamma=0.2640316859826752, lambda=0.5032805366114702, learning_rate=0.026980625030295077, max_depth=14, min_child_weight=4, n_estimators=738, subsample=0.5324829071064523; total time=  12.0s\n",
      "Fitting 3 folds for each of 1 candidates, totalling 3 fits\n",
      "[CV] END alpha=9.206231726452652, colsample_bytree=0.9619218257742479, gamma=0.28845635207236103, lambda=9.80622694852776, learning_rate=0.05007661606889955, max_depth=12, min_child_weight=10, n_estimators=749, subsample=0.9277973944349094; total time=  11.1s\n",
      "[CV] END alpha=9.206231726452652, colsample_bytree=0.9619218257742479, gamma=0.28845635207236103, lambda=9.80622694852776, learning_rate=0.05007661606889955, max_depth=12, min_child_weight=10, n_estimators=749, subsample=0.9277973944349094; total time=  10.0s\n",
      "[CV] END alpha=9.206231726452652, colsample_bytree=0.9619218257742479, gamma=0.28845635207236103, lambda=9.80622694852776, learning_rate=0.05007661606889955, max_depth=12, min_child_weight=10, n_estimators=749, subsample=0.9277973944349094; total time=  10.0s\n",
      "Fitting 3 folds for each of 1 candidates, totalling 3 fits\n",
      "[CV] END alpha=0.04960982079140087, colsample_bytree=0.8385639866035288, gamma=0.22916096951916476, lambda=9.677817913500288, learning_rate=0.061335648137125734, max_depth=13, min_child_weight=2, n_estimators=504, subsample=0.7805354094284016; total time=  12.2s\n",
      "[CV] END alpha=0.04960982079140087, colsample_bytree=0.8385639866035288, gamma=0.22916096951916476, lambda=9.677817913500288, learning_rate=0.061335648137125734, max_depth=13, min_child_weight=2, n_estimators=504, subsample=0.7805354094284016; total time=  11.7s\n",
      "[CV] END alpha=0.04960982079140087, colsample_bytree=0.8385639866035288, gamma=0.22916096951916476, lambda=9.677817913500288, learning_rate=0.061335648137125734, max_depth=13, min_child_weight=2, n_estimators=504, subsample=0.7805354094284016; total time=  13.1s\n",
      "Fitting 3 folds for each of 1 candidates, totalling 3 fits\n",
      "[CV] END alpha=9.313601769318959, colsample_bytree=0.5306499812627068, gamma=0.46521408813060044, lambda=9.642888241889858, learning_rate=0.03401424912746361, max_depth=14, min_child_weight=8, n_estimators=511, subsample=0.8599202284161693; total time=   7.9s\n",
      "[CV] END alpha=9.313601769318959, colsample_bytree=0.5306499812627068, gamma=0.46521408813060044, lambda=9.642888241889858, learning_rate=0.03401424912746361, max_depth=14, min_child_weight=8, n_estimators=511, subsample=0.8599202284161693; total time=   7.8s\n",
      "[CV] END alpha=9.313601769318959, colsample_bytree=0.5306499812627068, gamma=0.46521408813060044, lambda=9.642888241889858, learning_rate=0.03401424912746361, max_depth=14, min_child_weight=8, n_estimators=511, subsample=0.8599202284161693; total time=   9.2s\n",
      "Fitting 3 folds for each of 1 candidates, totalling 3 fits\n",
      "[CV] END alpha=0.0, colsample_bytree=0.5, gamma=0.5, lambda=0.0, learning_rate=0.016705560259468833, max_depth=15, min_child_weight=1, n_estimators=636, subsample=1.0; total time=  13.9s\n",
      "[CV] END alpha=0.0, colsample_bytree=0.5, gamma=0.5, lambda=0.0, learning_rate=0.016705560259468833, max_depth=15, min_child_weight=1, n_estimators=636, subsample=1.0; total time=  14.3s\n",
      "[CV] END alpha=0.0, colsample_bytree=0.5, gamma=0.5, lambda=0.0, learning_rate=0.016705560259468833, max_depth=15, min_child_weight=1, n_estimators=636, subsample=1.0; total time=  14.5s\n",
      "Fitting 3 folds for each of 1 candidates, totalling 3 fits\n",
      "[CV] END alpha=8.719478366575059, colsample_bytree=0.5214239725800235, gamma=0.3201188695292932, lambda=0.031017341158593455, learning_rate=0.08152699127629393, max_depth=11, min_child_weight=6, n_estimators=505, subsample=0.734470829415244; total time=   7.1s\n",
      "[CV] END alpha=8.719478366575059, colsample_bytree=0.5214239725800235, gamma=0.3201188695292932, lambda=0.031017341158593455, learning_rate=0.08152699127629393, max_depth=11, min_child_weight=6, n_estimators=505, subsample=0.734470829415244; total time=   7.2s\n",
      "[CV] END alpha=8.719478366575059, colsample_bytree=0.5214239725800235, gamma=0.3201188695292932, lambda=0.031017341158593455, learning_rate=0.08152699127629393, max_depth=11, min_child_weight=6, n_estimators=505, subsample=0.734470829415244; total time=   8.0s\n",
      "Fitting 3 folds for each of 1 candidates, totalling 3 fits\n",
      "[CV] END alpha=0.0, colsample_bytree=0.5, gamma=0.05029567484804124, lambda=3.27673414584976, learning_rate=0.01522574315769296, max_depth=10, min_child_weight=1, n_estimators=651, subsample=1.0; total time=  15.6s\n",
      "[CV] END alpha=0.0, colsample_bytree=0.5, gamma=0.05029567484804124, lambda=3.27673414584976, learning_rate=0.01522574315769296, max_depth=10, min_child_weight=1, n_estimators=651, subsample=1.0; total time=  17.4s\n",
      "[CV] END alpha=0.0, colsample_bytree=0.5, gamma=0.05029567484804124, lambda=3.27673414584976, learning_rate=0.01522574315769296, max_depth=10, min_child_weight=1, n_estimators=651, subsample=1.0; total time=  16.1s\n"
     ]
    },
    {
     "data": {
      "text/html": [
       "<style>#sk-container-id-1 {color: black;background-color: white;}#sk-container-id-1 pre{padding: 0;}#sk-container-id-1 div.sk-toggleable {background-color: white;}#sk-container-id-1 label.sk-toggleable__label {cursor: pointer;display: block;width: 100%;margin-bottom: 0;padding: 0.3em;box-sizing: border-box;text-align: center;}#sk-container-id-1 label.sk-toggleable__label-arrow:before {content: \"▸\";float: left;margin-right: 0.25em;color: #696969;}#sk-container-id-1 label.sk-toggleable__label-arrow:hover:before {color: black;}#sk-container-id-1 div.sk-estimator:hover label.sk-toggleable__label-arrow:before {color: black;}#sk-container-id-1 div.sk-toggleable__content {max-height: 0;max-width: 0;overflow: hidden;text-align: left;background-color: #f0f8ff;}#sk-container-id-1 div.sk-toggleable__content pre {margin: 0.2em;color: black;border-radius: 0.25em;background-color: #f0f8ff;}#sk-container-id-1 input.sk-toggleable__control:checked~div.sk-toggleable__content {max-height: 200px;max-width: 100%;overflow: auto;}#sk-container-id-1 input.sk-toggleable__control:checked~label.sk-toggleable__label-arrow:before {content: \"▾\";}#sk-container-id-1 div.sk-estimator input.sk-toggleable__control:checked~label.sk-toggleable__label {background-color: #d4ebff;}#sk-container-id-1 div.sk-label input.sk-toggleable__control:checked~label.sk-toggleable__label {background-color: #d4ebff;}#sk-container-id-1 input.sk-hidden--visually {border: 0;clip: rect(1px 1px 1px 1px);clip: rect(1px, 1px, 1px, 1px);height: 1px;margin: -1px;overflow: hidden;padding: 0;position: absolute;width: 1px;}#sk-container-id-1 div.sk-estimator {font-family: monospace;background-color: #f0f8ff;border: 1px dotted black;border-radius: 0.25em;box-sizing: border-box;margin-bottom: 0.5em;}#sk-container-id-1 div.sk-estimator:hover {background-color: #d4ebff;}#sk-container-id-1 div.sk-parallel-item::after {content: \"\";width: 100%;border-bottom: 1px solid gray;flex-grow: 1;}#sk-container-id-1 div.sk-label:hover label.sk-toggleable__label {background-color: #d4ebff;}#sk-container-id-1 div.sk-serial::before {content: \"\";position: absolute;border-left: 1px solid gray;box-sizing: border-box;top: 0;bottom: 0;left: 50%;z-index: 0;}#sk-container-id-1 div.sk-serial {display: flex;flex-direction: column;align-items: center;background-color: white;padding-right: 0.2em;padding-left: 0.2em;position: relative;}#sk-container-id-1 div.sk-item {position: relative;z-index: 1;}#sk-container-id-1 div.sk-parallel {display: flex;align-items: stretch;justify-content: center;background-color: white;position: relative;}#sk-container-id-1 div.sk-item::before, #sk-container-id-1 div.sk-parallel-item::before {content: \"\";position: absolute;border-left: 1px solid gray;box-sizing: border-box;top: 0;bottom: 0;left: 50%;z-index: -1;}#sk-container-id-1 div.sk-parallel-item {display: flex;flex-direction: column;z-index: 1;position: relative;background-color: white;}#sk-container-id-1 div.sk-parallel-item:first-child::after {align-self: flex-end;width: 50%;}#sk-container-id-1 div.sk-parallel-item:last-child::after {align-self: flex-start;width: 50%;}#sk-container-id-1 div.sk-parallel-item:only-child::after {width: 0;}#sk-container-id-1 div.sk-dashed-wrapped {border: 1px dashed gray;margin: 0 0.4em 0.5em 0.4em;box-sizing: border-box;padding-bottom: 0.4em;background-color: white;}#sk-container-id-1 div.sk-label label {font-family: monospace;font-weight: bold;display: inline-block;line-height: 1.2em;}#sk-container-id-1 div.sk-label-container {text-align: center;}#sk-container-id-1 div.sk-container {/* jupyter's `normalize.less` sets `[hidden] { display: none; }` but bootstrap.min.css set `[hidden] { display: none !important; }` so we also need the `!important` here to be able to override the default hidden behavior on the sphinx rendered scikit-learn.org. See: https://github.com/scikit-learn/scikit-learn/issues/21755 */display: inline-block !important;position: relative;}#sk-container-id-1 div.sk-text-repr-fallback {display: none;}</style><div id=\"sk-container-id-1\" class=\"sk-top-container\"><div class=\"sk-text-repr-fallback\"><pre>BayesSearchCV(cv=3,\n",
       "              estimator=XGBClassifier(base_score=None, booster=None,\n",
       "                                      callbacks=None, colsample_bylevel=None,\n",
       "                                      colsample_bynode=None,\n",
       "                                      colsample_bytree=None, device=None,\n",
       "                                      early_stopping_rounds=None,\n",
       "                                      enable_categorical=False,\n",
       "                                      eval_metric=&#x27;auc&#x27;, feature_types=None,\n",
       "                                      gamma=None, grow_policy=None,\n",
       "                                      importance_type=None,\n",
       "                                      interaction_constraints=None,\n",
       "                                      learning_rate=Non...\n",
       "                             &#x27;learning_rate&#x27;: Real(low=0.01, high=0.1, prior=&#x27;log-uniform&#x27;, transform=&#x27;normalize&#x27;),\n",
       "                             &#x27;max_depth&#x27;: Integer(low=10, high=15, prior=&#x27;uniform&#x27;, transform=&#x27;normalize&#x27;),\n",
       "                             &#x27;min_child_weight&#x27;: Integer(low=1, high=10, prior=&#x27;uniform&#x27;, transform=&#x27;normalize&#x27;),\n",
       "                             &#x27;n_estimators&#x27;: Integer(low=500, high=750, prior=&#x27;uniform&#x27;, transform=&#x27;normalize&#x27;),\n",
       "                             &#x27;subsample&#x27;: Real(low=0.5, high=1.0, prior=&#x27;uniform&#x27;, transform=&#x27;normalize&#x27;)},\n",
       "              verbose=2)</pre><b>In a Jupyter environment, please rerun this cell to show the HTML representation or trust the notebook. <br />On GitHub, the HTML representation is unable to render, please try loading this page with nbviewer.org.</b></div><div class=\"sk-container\" hidden><div class=\"sk-item sk-dashed-wrapped\"><div class=\"sk-label-container\"><div class=\"sk-label sk-toggleable\"><input class=\"sk-toggleable__control sk-hidden--visually\" id=\"sk-estimator-id-1\" type=\"checkbox\" ><label for=\"sk-estimator-id-1\" class=\"sk-toggleable__label sk-toggleable__label-arrow\">BayesSearchCV</label><div class=\"sk-toggleable__content\"><pre>BayesSearchCV(cv=3,\n",
       "              estimator=XGBClassifier(base_score=None, booster=None,\n",
       "                                      callbacks=None, colsample_bylevel=None,\n",
       "                                      colsample_bynode=None,\n",
       "                                      colsample_bytree=None, device=None,\n",
       "                                      early_stopping_rounds=None,\n",
       "                                      enable_categorical=False,\n",
       "                                      eval_metric=&#x27;auc&#x27;, feature_types=None,\n",
       "                                      gamma=None, grow_policy=None,\n",
       "                                      importance_type=None,\n",
       "                                      interaction_constraints=None,\n",
       "                                      learning_rate=Non...\n",
       "                             &#x27;learning_rate&#x27;: Real(low=0.01, high=0.1, prior=&#x27;log-uniform&#x27;, transform=&#x27;normalize&#x27;),\n",
       "                             &#x27;max_depth&#x27;: Integer(low=10, high=15, prior=&#x27;uniform&#x27;, transform=&#x27;normalize&#x27;),\n",
       "                             &#x27;min_child_weight&#x27;: Integer(low=1, high=10, prior=&#x27;uniform&#x27;, transform=&#x27;normalize&#x27;),\n",
       "                             &#x27;n_estimators&#x27;: Integer(low=500, high=750, prior=&#x27;uniform&#x27;, transform=&#x27;normalize&#x27;),\n",
       "                             &#x27;subsample&#x27;: Real(low=0.5, high=1.0, prior=&#x27;uniform&#x27;, transform=&#x27;normalize&#x27;)},\n",
       "              verbose=2)</pre></div></div></div><div class=\"sk-parallel\"><div class=\"sk-parallel-item\"><div class=\"sk-item\"><div class=\"sk-label-container\"><div class=\"sk-label sk-toggleable\"><input class=\"sk-toggleable__control sk-hidden--visually\" id=\"sk-estimator-id-2\" type=\"checkbox\" ><label for=\"sk-estimator-id-2\" class=\"sk-toggleable__label sk-toggleable__label-arrow\">estimator: XGBClassifier</label><div class=\"sk-toggleable__content\"><pre>XGBClassifier(base_score=None, booster=None, callbacks=None,\n",
       "              colsample_bylevel=None, colsample_bynode=None,\n",
       "              colsample_bytree=None, device=None, early_stopping_rounds=None,\n",
       "              enable_categorical=False, eval_metric=&#x27;auc&#x27;, feature_types=None,\n",
       "              gamma=None, grow_policy=None, importance_type=None,\n",
       "              interaction_constraints=None, learning_rate=None, max_bin=None,\n",
       "              max_cat_threshold=None, max_cat_to_onehot=None,\n",
       "              max_delta_step=None, max_depth=None, max_leaves=None,\n",
       "              min_child_weight=None, missing=nan, monotone_constraints=None,\n",
       "              multi_strategy=None, n_estimators=None, n_jobs=None,\n",
       "              num_parallel_tree=None, random_state=None, ...)</pre></div></div></div><div class=\"sk-serial\"><div class=\"sk-item\"><div class=\"sk-estimator sk-toggleable\"><input class=\"sk-toggleable__control sk-hidden--visually\" id=\"sk-estimator-id-3\" type=\"checkbox\" ><label for=\"sk-estimator-id-3\" class=\"sk-toggleable__label sk-toggleable__label-arrow\">XGBClassifier</label><div class=\"sk-toggleable__content\"><pre>XGBClassifier(base_score=None, booster=None, callbacks=None,\n",
       "              colsample_bylevel=None, colsample_bynode=None,\n",
       "              colsample_bytree=None, device=None, early_stopping_rounds=None,\n",
       "              enable_categorical=False, eval_metric=&#x27;auc&#x27;, feature_types=None,\n",
       "              gamma=None, grow_policy=None, importance_type=None,\n",
       "              interaction_constraints=None, learning_rate=None, max_bin=None,\n",
       "              max_cat_threshold=None, max_cat_to_onehot=None,\n",
       "              max_delta_step=None, max_depth=None, max_leaves=None,\n",
       "              min_child_weight=None, missing=nan, monotone_constraints=None,\n",
       "              multi_strategy=None, n_estimators=None, n_jobs=None,\n",
       "              num_parallel_tree=None, random_state=None, ...)</pre></div></div></div></div></div></div></div></div></div></div>"
      ],
      "text/plain": [
       "BayesSearchCV(cv=3,\n",
       "              estimator=XGBClassifier(base_score=None, booster=None,\n",
       "                                      callbacks=None, colsample_bylevel=None,\n",
       "                                      colsample_bynode=None,\n",
       "                                      colsample_bytree=None, device=None,\n",
       "                                      early_stopping_rounds=None,\n",
       "                                      enable_categorical=False,\n",
       "                                      eval_metric='auc', feature_types=None,\n",
       "                                      gamma=None, grow_policy=None,\n",
       "                                      importance_type=None,\n",
       "                                      interaction_constraints=None,\n",
       "                                      learning_rate=Non...\n",
       "                             'learning_rate': Real(low=0.01, high=0.1, prior='log-uniform', transform='normalize'),\n",
       "                             'max_depth': Integer(low=10, high=15, prior='uniform', transform='normalize'),\n",
       "                             'min_child_weight': Integer(low=1, high=10, prior='uniform', transform='normalize'),\n",
       "                             'n_estimators': Integer(low=500, high=750, prior='uniform', transform='normalize'),\n",
       "                             'subsample': Real(low=0.5, high=1.0, prior='uniform', transform='normalize')},\n",
       "              verbose=2)"
      ]
     },
     "execution_count": 22,
     "metadata": {},
     "output_type": "execute_result"
    }
   ],
   "source": [
    "# Run the optimization\n",
    "opt.fit(train_f, train_t)"
   ]
  },
  {
   "cell_type": "code",
   "execution_count": 23,
   "id": "01d5ae42",
   "metadata": {
    "_cell_guid": "8ebd5796-cb64-41ce-a202-aedcfb56dcf6",
    "_uuid": "0e105343-7137-474b-9f48-2d21e8dffe31",
    "collapsed": false,
    "execution": {
     "iopub.execute_input": "2024-11-10T19:24:26.531889Z",
     "iopub.status.busy": "2024-11-10T19:24:26.531548Z",
     "iopub.status.idle": "2024-11-10T19:24:26.536771Z",
     "shell.execute_reply": "2024-11-10T19:24:26.535770Z"
    },
    "jupyter": {
     "outputs_hidden": false
    },
    "papermill": {
     "duration": 0.032642,
     "end_time": "2024-11-10T19:24:26.538657",
     "exception": false,
     "start_time": "2024-11-10T19:24:26.506015",
     "status": "completed"
    },
    "tags": []
   },
   "outputs": [
    {
     "name": "stdout",
     "output_type": "stream",
     "text": [
      "Best Parameters:  OrderedDict([('alpha', 0.0), ('colsample_bytree', 0.5), ('gamma', 0.5), ('lambda', 0.0), ('learning_rate', 0.016144585584455588), ('max_depth', 10), ('min_child_weight', 10), ('n_estimators', 750), ('subsample', 0.9170187983999881)])\n",
      "Best AUC Score:  0.9609606038431645\n"
     ]
    }
   ],
   "source": [
    "# Get best parameters and score\n",
    "print(\"Best Parameters: \", opt.best_params_)\n",
    "print(\"Best AUC Score: \", opt.best_score_)"
   ]
  },
  {
   "cell_type": "code",
   "execution_count": 24,
   "id": "c1d4b08d",
   "metadata": {
    "_cell_guid": "865173d2-e15d-4dd8-859c-50e3e40eea9e",
    "_uuid": "6dd3b617-6103-4197-a2cc-c46f425c43e8",
    "collapsed": false,
    "execution": {
     "iopub.execute_input": "2024-11-10T19:24:26.588450Z",
     "iopub.status.busy": "2024-11-10T19:24:26.588113Z",
     "iopub.status.idle": "2024-11-10T19:24:50.038126Z",
     "shell.execute_reply": "2024-11-10T19:24:50.037256Z"
    },
    "jupyter": {
     "outputs_hidden": false
    },
    "papermill": {
     "duration": 23.477334,
     "end_time": "2024-11-10T19:24:50.040245",
     "exception": false,
     "start_time": "2024-11-10T19:24:26.562911",
     "status": "completed"
    },
    "tags": []
   },
   "outputs": [
    {
     "data": {
      "text/html": [
       "<style>#sk-container-id-2 {color: black;background-color: white;}#sk-container-id-2 pre{padding: 0;}#sk-container-id-2 div.sk-toggleable {background-color: white;}#sk-container-id-2 label.sk-toggleable__label {cursor: pointer;display: block;width: 100%;margin-bottom: 0;padding: 0.3em;box-sizing: border-box;text-align: center;}#sk-container-id-2 label.sk-toggleable__label-arrow:before {content: \"▸\";float: left;margin-right: 0.25em;color: #696969;}#sk-container-id-2 label.sk-toggleable__label-arrow:hover:before {color: black;}#sk-container-id-2 div.sk-estimator:hover label.sk-toggleable__label-arrow:before {color: black;}#sk-container-id-2 div.sk-toggleable__content {max-height: 0;max-width: 0;overflow: hidden;text-align: left;background-color: #f0f8ff;}#sk-container-id-2 div.sk-toggleable__content pre {margin: 0.2em;color: black;border-radius: 0.25em;background-color: #f0f8ff;}#sk-container-id-2 input.sk-toggleable__control:checked~div.sk-toggleable__content {max-height: 200px;max-width: 100%;overflow: auto;}#sk-container-id-2 input.sk-toggleable__control:checked~label.sk-toggleable__label-arrow:before {content: \"▾\";}#sk-container-id-2 div.sk-estimator input.sk-toggleable__control:checked~label.sk-toggleable__label {background-color: #d4ebff;}#sk-container-id-2 div.sk-label input.sk-toggleable__control:checked~label.sk-toggleable__label {background-color: #d4ebff;}#sk-container-id-2 input.sk-hidden--visually {border: 0;clip: rect(1px 1px 1px 1px);clip: rect(1px, 1px, 1px, 1px);height: 1px;margin: -1px;overflow: hidden;padding: 0;position: absolute;width: 1px;}#sk-container-id-2 div.sk-estimator {font-family: monospace;background-color: #f0f8ff;border: 1px dotted black;border-radius: 0.25em;box-sizing: border-box;margin-bottom: 0.5em;}#sk-container-id-2 div.sk-estimator:hover {background-color: #d4ebff;}#sk-container-id-2 div.sk-parallel-item::after {content: \"\";width: 100%;border-bottom: 1px solid gray;flex-grow: 1;}#sk-container-id-2 div.sk-label:hover label.sk-toggleable__label {background-color: #d4ebff;}#sk-container-id-2 div.sk-serial::before {content: \"\";position: absolute;border-left: 1px solid gray;box-sizing: border-box;top: 0;bottom: 0;left: 50%;z-index: 0;}#sk-container-id-2 div.sk-serial {display: flex;flex-direction: column;align-items: center;background-color: white;padding-right: 0.2em;padding-left: 0.2em;position: relative;}#sk-container-id-2 div.sk-item {position: relative;z-index: 1;}#sk-container-id-2 div.sk-parallel {display: flex;align-items: stretch;justify-content: center;background-color: white;position: relative;}#sk-container-id-2 div.sk-item::before, #sk-container-id-2 div.sk-parallel-item::before {content: \"\";position: absolute;border-left: 1px solid gray;box-sizing: border-box;top: 0;bottom: 0;left: 50%;z-index: -1;}#sk-container-id-2 div.sk-parallel-item {display: flex;flex-direction: column;z-index: 1;position: relative;background-color: white;}#sk-container-id-2 div.sk-parallel-item:first-child::after {align-self: flex-end;width: 50%;}#sk-container-id-2 div.sk-parallel-item:last-child::after {align-self: flex-start;width: 50%;}#sk-container-id-2 div.sk-parallel-item:only-child::after {width: 0;}#sk-container-id-2 div.sk-dashed-wrapped {border: 1px dashed gray;margin: 0 0.4em 0.5em 0.4em;box-sizing: border-box;padding-bottom: 0.4em;background-color: white;}#sk-container-id-2 div.sk-label label {font-family: monospace;font-weight: bold;display: inline-block;line-height: 1.2em;}#sk-container-id-2 div.sk-label-container {text-align: center;}#sk-container-id-2 div.sk-container {/* jupyter's `normalize.less` sets `[hidden] { display: none; }` but bootstrap.min.css set `[hidden] { display: none !important; }` so we also need the `!important` here to be able to override the default hidden behavior on the sphinx rendered scikit-learn.org. See: https://github.com/scikit-learn/scikit-learn/issues/21755 */display: inline-block !important;position: relative;}#sk-container-id-2 div.sk-text-repr-fallback {display: none;}</style><div id=\"sk-container-id-2\" class=\"sk-top-container\"><div class=\"sk-text-repr-fallback\"><pre>XGBClassifier(alpha=0.0, base_score=None, booster=None, callbacks=None,\n",
       "              colsample_bylevel=None, colsample_bynode=None,\n",
       "              colsample_bytree=0.5, device=None, early_stopping_rounds=None,\n",
       "              enable_categorical=False, eval_metric=&#x27;auc&#x27;, feature_types=None,\n",
       "              gamma=0.5, grow_policy=None, importance_type=None,\n",
       "              interaction_constraints=None, lambda=0.0,\n",
       "              learning_rate=0.016144585584455588, max_bin=None,\n",
       "              max_cat_threshold=None, max_cat_to_onehot=None,\n",
       "              max_delta_step=None, max_depth=10, max_leaves=None,\n",
       "              min_child_weight=10, missing=nan, monotone_constraints=None,\n",
       "              multi_strategy=None, n_estimators=750, n_jobs=None, ...)</pre><b>In a Jupyter environment, please rerun this cell to show the HTML representation or trust the notebook. <br />On GitHub, the HTML representation is unable to render, please try loading this page with nbviewer.org.</b></div><div class=\"sk-container\" hidden><div class=\"sk-item\"><div class=\"sk-estimator sk-toggleable\"><input class=\"sk-toggleable__control sk-hidden--visually\" id=\"sk-estimator-id-4\" type=\"checkbox\" checked><label for=\"sk-estimator-id-4\" class=\"sk-toggleable__label sk-toggleable__label-arrow\">XGBClassifier</label><div class=\"sk-toggleable__content\"><pre>XGBClassifier(alpha=0.0, base_score=None, booster=None, callbacks=None,\n",
       "              colsample_bylevel=None, colsample_bynode=None,\n",
       "              colsample_bytree=0.5, device=None, early_stopping_rounds=None,\n",
       "              enable_categorical=False, eval_metric=&#x27;auc&#x27;, feature_types=None,\n",
       "              gamma=0.5, grow_policy=None, importance_type=None,\n",
       "              interaction_constraints=None, lambda=0.0,\n",
       "              learning_rate=0.016144585584455588, max_bin=None,\n",
       "              max_cat_threshold=None, max_cat_to_onehot=None,\n",
       "              max_delta_step=None, max_depth=10, max_leaves=None,\n",
       "              min_child_weight=10, missing=nan, monotone_constraints=None,\n",
       "              multi_strategy=None, n_estimators=750, n_jobs=None, ...)</pre></div></div></div></div></div>"
      ],
      "text/plain": [
       "XGBClassifier(alpha=0.0, base_score=None, booster=None, callbacks=None,\n",
       "              colsample_bylevel=None, colsample_bynode=None,\n",
       "              colsample_bytree=0.5, device=None, early_stopping_rounds=None,\n",
       "              enable_categorical=False, eval_metric='auc', feature_types=None,\n",
       "              gamma=0.5, grow_policy=None, importance_type=None,\n",
       "              interaction_constraints=None, lambda=0.0,\n",
       "              learning_rate=0.016144585584455588, max_bin=None,\n",
       "              max_cat_threshold=None, max_cat_to_onehot=None,\n",
       "              max_delta_step=None, max_depth=10, max_leaves=None,\n",
       "              min_child_weight=10, missing=nan, monotone_constraints=None,\n",
       "              multi_strategy=None, n_estimators=750, n_jobs=None, ...)"
      ]
     },
     "execution_count": 24,
     "metadata": {},
     "output_type": "execute_result"
    }
   ],
   "source": [
    "# Train final model with best parameters on the whole training set\n",
    "final_model = XGBClassifier(**opt.best_params_, objective='binary:logistic', eval_metric='auc', use_label_encoder=False)\n",
    "final_model.fit(train_f, train_t)"
   ]
  },
  {
   "cell_type": "code",
   "execution_count": 25,
   "id": "c6f389f4",
   "metadata": {
    "_cell_guid": "aa6a2fd7-cb52-495d-90b3-0d7ca1c73827",
    "_uuid": "3bbaf320-4435-4ac7-a3fb-7072217773db",
    "collapsed": false,
    "execution": {
     "iopub.execute_input": "2024-11-10T19:24:50.092957Z",
     "iopub.status.busy": "2024-11-10T19:24:50.092589Z",
     "iopub.status.idle": "2024-11-10T19:24:50.929506Z",
     "shell.execute_reply": "2024-11-10T19:24:50.928526Z"
    },
    "jupyter": {
     "outputs_hidden": false
    },
    "papermill": {
     "duration": 0.865194,
     "end_time": "2024-11-10T19:24:50.931474",
     "exception": false,
     "start_time": "2024-11-10T19:24:50.066280",
     "status": "completed"
    },
    "tags": []
   },
   "outputs": [
    {
     "name": "stdout",
     "output_type": "stream",
     "text": [
      "Validation Accuracy with Bayesian Optimization: 0.9977111746143532\n"
     ]
    }
   ],
   "source": [
    "# Make predictions on the validation set\n",
    "val_predictions_bayes = final_model.predict(val_f)\n",
    "val_accuracy_bayes = accuracy_score(val_t, val_predictions_bayes)\n",
    "print(\"Validation Accuracy with Bayesian Optimization:\", val_accuracy_bayes)"
   ]
  },
  {
   "cell_type": "code",
   "execution_count": 26,
   "id": "165ea333",
   "metadata": {
    "_cell_guid": "2e5fc171-bef0-427e-b387-3cdc2c43399a",
    "_uuid": "12260e46-48fe-4038-9205-4d47694731d6",
    "collapsed": false,
    "execution": {
     "iopub.execute_input": "2024-11-10T19:24:50.982604Z",
     "iopub.status.busy": "2024-11-10T19:24:50.982248Z",
     "iopub.status.idle": "2024-11-10T19:28:55.985851Z",
     "shell.execute_reply": "2024-11-10T19:28:55.984810Z"
    },
    "jupyter": {
     "outputs_hidden": false
    },
    "papermill": {
     "duration": 245.031896,
     "end_time": "2024-11-10T19:28:55.988541",
     "exception": false,
     "start_time": "2024-11-10T19:24:50.956645",
     "status": "completed"
    },
    "tags": []
   },
   "outputs": [],
   "source": [
    "# Predict on test set\n",
    "# Step 6: Prepare the test data and drop unnecessary columns\n",
    "test_df_imputed = imputer.transform(test_df)\n",
    "test_features = pd.DataFrame(test_df_imputed, columns=test_df.columns)\n",
    "test_features = test_features.drop(columns=['RecordId'] + dropped_columns)"
   ]
  },
  {
   "cell_type": "code",
   "execution_count": 27,
   "id": "0be7cedc",
   "metadata": {
    "_cell_guid": "0b36ddf7-41f8-4a60-a2ef-cde29e3b0bce",
    "_uuid": "3b735d43-fc2e-492e-8c2c-7c8c39b1f3c4",
    "collapsed": false,
    "execution": {
     "iopub.execute_input": "2024-11-10T19:28:56.039992Z",
     "iopub.status.busy": "2024-11-10T19:28:56.039677Z",
     "iopub.status.idle": "2024-11-10T19:28:57.213603Z",
     "shell.execute_reply": "2024-11-10T19:28:57.212564Z"
    },
    "jupyter": {
     "outputs_hidden": false
    },
    "papermill": {
     "duration": 1.202164,
     "end_time": "2024-11-10T19:28:57.216037",
     "exception": false,
     "start_time": "2024-11-10T19:28:56.013873",
     "status": "completed"
    },
    "tags": []
   },
   "outputs": [],
   "source": [
    "# Predictions on the test set\n",
    "test_pred_bayes = final_model.predict_proba(test_features)[:, 1]"
   ]
  },
  {
   "cell_type": "code",
   "execution_count": 28,
   "id": "c1a47401",
   "metadata": {
    "_cell_guid": "e528dce7-9a13-4fb3-aafc-a740229fbd59",
    "_uuid": "a024f7b0-6090-4d79-83cf-bfca025c2fa2",
    "collapsed": false,
    "execution": {
     "iopub.execute_input": "2024-11-10T19:28:57.272752Z",
     "iopub.status.busy": "2024-11-10T19:28:57.272030Z",
     "iopub.status.idle": "2024-11-10T19:28:57.518928Z",
     "shell.execute_reply": "2024-11-10T19:28:57.517852Z"
    },
    "jupyter": {
     "outputs_hidden": false
    },
    "papermill": {
     "duration": 0.275278,
     "end_time": "2024-11-10T19:28:57.520942",
     "exception": false,
     "start_time": "2024-11-10T19:28:57.245664",
     "status": "completed"
    },
    "tags": []
   },
   "outputs": [
    {
     "name": "stdout",
     "output_type": "stream",
     "text": [
      "Bayesian Optimized Submission file created successfully.\n"
     ]
    }
   ],
   "source": [
    "# Prepare submission\n",
    "kaggle_submission_bayes = pd.DataFrame({'RecordId': test_df['RecordId'], 'Y': test_pred_bayes})\n",
    "kaggle_submission_bayes.to_csv('bayesian_optimized_submission.csv', index=False)\n",
    "print('Bayesian Optimized Submission file created successfully.')"
   ]
  },
  {
   "cell_type": "code",
   "execution_count": null,
   "id": "14df7eb5",
   "metadata": {
    "_cell_guid": "43359ab7-eb3d-4c0f-81b9-c58984ffeaa3",
    "_uuid": "9d9fd5a3-9c76-40f3-a3f7-38966927b63a",
    "collapsed": false,
    "jupyter": {
     "outputs_hidden": false
    },
    "papermill": {
     "duration": 0.024682,
     "end_time": "2024-11-10T19:28:57.570553",
     "exception": false,
     "start_time": "2024-11-10T19:28:57.545871",
     "status": "completed"
    },
    "tags": []
   },
   "outputs": [],
   "source": []
  }
 ],
 "metadata": {
  "kaggle": {
   "accelerator": "gpu",
   "dataSources": [
    {
     "datasetId": 5928584,
     "sourceId": 9696128,
     "sourceType": "datasetVersion"
    }
   ],
   "dockerImageVersionId": 30786,
   "isGpuEnabled": true,
   "isInternetEnabled": true,
   "language": "python",
   "sourceType": "notebook"
  },
  "kernelspec": {
   "display_name": "Python 3",
   "language": "python",
   "name": "python3"
  },
  "language_info": {
   "codemirror_mode": {
    "name": "ipython",
    "version": 3
   },
   "file_extension": ".py",
   "mimetype": "text/x-python",
   "name": "python",
   "nbconvert_exporter": "python",
   "pygments_lexer": "ipython3",
   "version": "3.10.14"
  },
  "papermill": {
   "default_parameters": {},
   "duration": 2667.606343,
   "end_time": "2024-11-10T19:28:58.115627",
   "environment_variables": {},
   "exception": null,
   "input_path": "__notebook__.ipynb",
   "output_path": "__notebook__.ipynb",
   "parameters": {},
   "start_time": "2024-11-10T18:44:30.509284",
   "version": "2.6.0"
  }
 },
 "nbformat": 4,
 "nbformat_minor": 5
}
